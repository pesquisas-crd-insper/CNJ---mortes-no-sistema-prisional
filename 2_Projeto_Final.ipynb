{
  "nbformat": 4,
  "nbformat_minor": 0,
  "metadata": {
    "colab": {
      "provenance": [],
      "collapsed_sections": [
        "ZoPJ64w5MKW3",
        "fvHhksYuVY5o",
        "lhVEXt3-s3zQ"
      ]
    },
    "kernelspec": {
      "name": "python3",
      "display_name": "Python 3"
    },
    "language_info": {
      "name": "python"
    }
  },
  "cells": [
    {
      "cell_type": "markdown",
      "source": [
        "## Configurações gerais"
      ],
      "metadata": {
        "id": "hALnMX1iKWWV"
      }
    },
    {
      "cell_type": "code",
      "execution_count": 74,
      "metadata": {
        "colab": {
          "base_uri": "https://localhost:8080/"
        },
        "id": "0li2_U5JJuha",
        "outputId": "3d31cae0-e69c-4bac-c30c-c7c94aa277e7"
      },
      "outputs": [
        {
          "output_type": "stream",
          "name": "stdout",
          "text": [
            "Drive already mounted at /content/drive; to attempt to forcibly remount, call drive.mount(\"/content/drive\", force_remount=True).\n"
          ]
        }
      ],
      "source": [
        "## coloque os outros códigos antes...\n",
        "\n",
        "# https://neptune.ai/blog/google-colab-dealing-with-files\n",
        "from google.colab import drive\n",
        "drive.mount('/content/drive')"
      ]
    },
    {
      "cell_type": "code",
      "source": [
        "# !pip install pandas\n",
        "# !pip install numpy\n",
        "# !pip install matplotlib==3.5.3\n",
        "# !pip install docxtpl\n",
        "from docxtpl import DocxTemplate, InlineImage\n",
        "from docx.shared import Cm\n",
        "\n",
        "import pandas as pd\n",
        "import numpy as np\n",
        "import matplotlib.pyplot as plt\n",
        "import datetime as dt"
      ],
      "metadata": {
        "id": "5pgXQqrQJ1bI"
      },
      "execution_count": 75,
      "outputs": []
    },
    {
      "cell_type": "markdown",
      "source": [
        "## Preparação banco de dados"
      ],
      "metadata": {
        "id": "1l6aDMMeKbrn"
      }
    },
    {
      "cell_type": "code",
      "source": [
        "planilha = pd.read_excel(\"/content/drive/My Drive/CNJ-mortes/df_final_ajust.xlsx\")"
      ],
      "metadata": {
        "id": "HdxSKBRWKe5Y"
      },
      "execution_count": 76,
      "outputs": []
    },
    {
      "cell_type": "code",
      "source": [
        "indexes_para_remover = []\n",
        "for idx in planilha.index:\n",
        "  if planilha.iloc[idx][\"5 - É caso de interesse?\"] != \"sim: morte interna\" and planilha.iloc[idx][\"5 - É caso de interesse?\"] != \"sim: morte externa\":\n",
        "    indexes_para_remover.append(idx)\n",
        "\n",
        "planilha_filtrada = planilha.drop(labels=indexes_para_remover)"
      ],
      "metadata": {
        "id": "542DWrAZKyRD"
      },
      "execution_count": 77,
      "outputs": []
    },
    {
      "cell_type": "markdown",
      "source": [
        "### Criação variáveis"
      ],
      "metadata": {
        "id": "NpbMIQf0LZ4f"
      }
    },
    {
      "cell_type": "markdown",
      "source": [
        "#### Renda Tratada"
      ],
      "metadata": {
        "id": "pYlsOhgj0cck"
      }
    },
    {
      "cell_type": "code",
      "source": [
        "import unicodedata\n",
        "def strip_accents(s):\n",
        "   return ''.join(c for c in unicodedata.normalize('NFD', s)\n",
        "                  if unicodedata.category(c) != 'Mn')"
      ],
      "metadata": {
        "id": "yK0yFoFw0b9v"
      },
      "execution_count": 78,
      "outputs": []
    },
    {
      "cell_type": "code",
      "source": [
        "variavel = '29 - Renda (coloque apenas o valor em números. Ex: 1.275,50 ou \"SI\" para casos sem informação'\n",
        "arr_renda = []\n",
        "\n",
        "\"\"\"\n",
        "58 30 reais a diaria\n",
        "60 800,00 por mes\n",
        "65 1300,00 por mes\n",
        "73 50,00 por dia de trabalho\n",
        "93 60/diaria\n",
        "95 menos de 1 salario minimo\n",
        "1258 80,00 (diaria de terca e quinta)\n",
        "1735 1.500,00; 2.000\n",
        "1740 120,00/dia\n",
        "1790 2.500,00; 998,00 (inss)\n",
        "2070 salario minimo\n",
        "2400 ate 2 salarios minimos\n",
        "2454 ate um salario minimo\n",
        "2584 800 euros\n",
        "2926 300,00 por dia (comercializar drogas)\n",
        "\"\"\"\n",
        "planilha_filtrada.at[58, variavel] = 30*30\n",
        "planilha_filtrada.at[60, variavel] = 800\n",
        "planilha_filtrada.at[65, variavel] = 1300\n",
        "planilha_filtrada.at[73, variavel] = 50*30\n",
        "planilha_filtrada.at[93, variavel] = 60*30\n",
        "planilha_filtrada.at[95, variavel] = 1045 # morte 2020\n",
        "planilha_filtrada.at[1258, variavel] = 160*4\n",
        "planilha_filtrada.at[1735, variavel] = 3500 # [2500, 998] --- devo somar?\n",
        "planilha_filtrada.at[1740, variavel] = 120*30\n",
        "planilha_filtrada.at[1790, variavel] = 3498\n",
        "planilha_filtrada.at[2070, variavel] = 998 # morte 2019\n",
        "planilha_filtrada.at[2400, variavel] = 2*998\t# morte 2019\n",
        "planilha_filtrada.at[2454, variavel] = 937 # morte 2017\n",
        "planilha_filtrada.at[2584, variavel] = 800*4.48 # morte 2019/10/24 --- https://br.investing.com/currencies/eur-brl-historical-data\n",
        "planilha_filtrada.at[2926, variavel] = 300*30\n",
        "\n",
        "for idx in planilha_filtrada.index:\n",
        "  line = planilha_filtrada.at[idx, variavel]\n",
        "\n",
        "  if pd.isnull(line):\n",
        "    arr_renda.append(0)\n",
        "    continue\n",
        "  \n",
        "  if type(line)==int or type(line)==float:\n",
        "    arr_renda.append(line)\n",
        "    continue\n",
        "  \n",
        "  line = strip_accents(line).lower().strip()\n",
        "  if line == \"si\":\n",
        "    arr_renda.append(0)\n",
        "    continue\n",
        "  \n",
        "  if line == \"nsa\":\n",
        "    arr_renda.append(0)\n",
        "    continue\n",
        "  \n",
        "  # print(idx, line)\n",
        "# print(arr_renda)\n",
        "planilha_filtrada['Renda Tratada'] = arr_renda\n",
        "# for l in planilha_filtrada['Renda Tratada']:\n",
        "  # print(l)"
      ],
      "metadata": {
        "id": "3qyZ_r2w0gyu"
      },
      "execution_count": 79,
      "outputs": []
    },
    {
      "cell_type": "markdown",
      "source": [
        "#### Quantidade de comorbidades"
      ],
      "metadata": {
        "id": "X2y0Xc1kaYeT"
      }
    },
    {
      "cell_type": "code",
      "source": [
        "planilha_filtrada[\"22 - Situação de saúde com comorbidade (descreva na opção outros)\"] = planilha_filtrada[\"22 - Situação de saúde com comorbidade (descreva na opção outros)\"].astype(str).str.replace(\",|\\+\",\";\", regex = True)\n",
        "planilha_filtrada[\"22 - Situação de saúde com comorbidade (descreva na opção outros)\"] = planilha_filtrada[\"22 - Situação de saúde com comorbidade (descreva na opção outros)\"].astype(str).str.replace(\"(?:)\\se\\s\",\";\", regex = True)\n",
        "planilha_filtrada[\"22 - Situação de saúde com comorbidade (descreva na opção outros)\"] = planilha_filtrada[\"22 - Situação de saúde com comorbidade (descreva na opção outros)\"].astype(str).str.replace(\"nan\",\"\", regex = True)\n",
        "# pd.set_option('display.max_rows', None)\n",
        "# print(planilha_filtrada[\"22 - Situação de saúde com comorbidade (descreva na opção outros)\"])\n",
        "\n",
        "arr_qtd_comorb = []\n",
        "dict_grupos_comorb = {}\n",
        "for line in planilha_filtrada[\"22 - Situação de saúde com comorbidade (descreva na opção outros)\"]:\n",
        "  if pd.isnull(line):\n",
        "    arr_qtd_comorb.append(None)\n",
        "    continue\n",
        "\n",
        "  if \";\" not in line:\n",
        "    doc_sanitizado = strip_accents(line).strip().lower()\n",
        "    if doc_sanitizado == \"\":\n",
        "      arr_qtd_comorb.append(None)\n",
        "      continue\n",
        "    if doc_sanitizado == \"sem informacao\":\n",
        "      arr_qtd_comorb.append(None)\n",
        "      if doc_sanitizado not in dict_grupos_comorb.keys():\n",
        "        dict_grupos_comorb[doc_sanitizado] = 1\n",
        "      else:\n",
        "        dict_grupos_comorb[doc_sanitizado] += 1\n",
        "      continue\n",
        "    if doc_sanitizado == \"nao\":\n",
        "      arr_qtd_comorb.append(0)\n",
        "      continue\n",
        "    arr_qtd_comorb.append(1)\n",
        "    if doc_sanitizado not in dict_grupos_comorb.keys():\n",
        "      dict_grupos_comorb[doc_sanitizado] = 1\n",
        "    else:\n",
        "      dict_grupos_comorb[doc_sanitizado] += 1\n",
        "  else:\n",
        "    docs = line.split(\";\")\n",
        "    arr_qtd_comorb.append(len(docs))\n",
        "    for doc in docs:\n",
        "      doc_sanitizado = doc.strip().lower()\n",
        "      if doc_sanitizado == \"\":\n",
        "        continue\n",
        "      if doc_sanitizado not in dict_grupos_comorb.keys():\n",
        "        dict_grupos_comorb[doc_sanitizado] = 1\n",
        "      else:\n",
        "        dict_grupos_comorb[doc_sanitizado] += 1\n",
        "\n",
        "\n",
        "print(len(arr_qtd_comorb))\n",
        "# print(arr_qtd_comorb)\n",
        "planilha_filtrada[\"Quantidade de comorbidades\"] = arr_qtd_comorb\n",
        "print(len(planilha_filtrada[\"Quantidade de comorbidades\"]))\n",
        "# print(dict_grupos_comorb['sem informacao'])\n",
        "# print(dict_grupos_comorb)"
      ],
      "metadata": {
        "id": "7n7fJA91LvTH",
        "colab": {
          "base_uri": "https://localhost:8080/"
        },
        "outputId": "e76a245f-85b0-4a93-917e-5d7bbf554359"
      },
      "execution_count": 107,
      "outputs": [
        {
          "output_type": "stream",
          "name": "stdout",
          "text": [
            "1168\n",
            "1168\n"
          ]
        }
      ]
    },
    {
      "cell_type": "markdown",
      "source": [
        "### Tempo de pena da sentença"
      ],
      "metadata": {
        "id": "YfV4z0NcdaDj"
      }
    },
    {
      "cell_type": "code",
      "source": [
        "import unicodedata\n",
        "def strip_accents(s):\n",
        "   return ''.join(c for c in unicodedata.normalize('NFD', s)\n",
        "                  if unicodedata.category(c) != 'Mn')"
      ],
      "metadata": {
        "id": "IAVm0Uwsdb1e"
      },
      "execution_count": 81,
      "outputs": []
    },
    {
      "cell_type": "code",
      "source": [
        "import re\n",
        "\n",
        "\n",
        "variavel = '35 - Tempo de pena - em caso de condenação (no processo analisado) - por favor coloque no padrão (X anos, y meses e z dias + Multa) e se houver mais de uma, separar por ponto e vírgula \";\"'\n",
        "arr_tempo_pena_sentenca = []\n",
        "\n",
        "planilha_filtrada.at[46, variavel] = \"7 anos, 6 meses +15 dias-multa\"\n",
        "planilha_filtrada.at[830, variavel] = \"2 anos +10 dias-multa\"\n",
        "planilha_filtrada.at[1288, variavel] = None\n",
        "planilha_filtrada.at[1296, variavel] = None\n",
        "planilha_filtrada.at[2071, variavel] = \"26 anos e 8 meses de reclusão + 580 dias-multa\"\n",
        "planilha_filtrada.at[2107, variavel] = \"3 anos e 4 meses + 34 dias-multa\"\n",
        "planilha_filtrada.at[2310, variavel] = \"1 ano e 9 meses + 190 dias-multa (acódão).\"\n",
        "planilha_filtrada.at[2507, variavel] = \"6 anos e 6 meses + multa\"\n",
        "planilha_filtrada.at[2637, variavel] = \"3 anos, 6 meses e 5 dias +159 dias-multa\"\n",
        "planilha_filtrada.at[2644, variavel] = \"5 anos, 6 meses e 20 dias + 30 dias-multa\"\n",
        "planilha_filtrada.at[2781, variavel] = \"15 anos, 10 meses e 29 dias\"\n",
        "planilha_filtrada.at[2925, variavel] = None\n",
        "planilha_filtrada.at[3001, variavel] = None\n",
        "planilha_filtrada.at[3005, variavel] = \"3 anos, 6 meses e 20 dias + 9 dias-multa\"\n",
        "planilha_filtrada.at[3513, variavel] = None\n",
        "planilha_filtrada.at[3608, variavel] = \"7 anos, 3 meses, 3 dias + 437,00\"\n",
        "planilha_filtrada.at[3610, variavel] = \"2 anos, 11 meses, 0 dias + 11 dias-multa\"\n",
        "planilha_filtrada.at[3611, variavel] = \"2 anos, 10 dias-multa\" \n",
        "planilha_filtrada.at[3614, variavel] = \"6 meses e 10 dias-multa\"\n",
        "planilha_filtrada.at[3620, variavel] = \"1 mês\"\n",
        "planilha_filtrada.at[3633, variavel] = \"2 anos\"\n",
        "planilha_filtrada.at[3656, variavel] = \"29 anos, 4 meses + 26 dias-multa a 1/30\"\n",
        "planilha_filtrada.at[3671, variavel] = \"5 anos + 500 dias-multa\"\n",
        "planilha_filtrada.at[3682, variavel] = \"NSA\"\n",
        "planilha_filtrada.at[3696, variavel] = \"2 anos, 7 meses e 5 dias + 20 dias-multa no minimo\"\n",
        "planilha_filtrada.at[3717, variavel] = \"8 anos, 6 meses + 520 dias-multa\"\n",
        "planilha_filtrada.at[3818, variavel] = \"4 anos + 1 ano e 10 meses de detencao + 36 dias-multa\"\n",
        "\n",
        "for idx in planilha_filtrada[variavel].index:\n",
        "  line = planilha_filtrada.at[idx, variavel]\n",
        "  if pd.isnull(line):\n",
        "    arr_tempo_pena_sentenca.append(None)\n",
        "    continue\n",
        "  elif str(line).lower() == \"si\" or str(line).lower() == \"nsa\":\n",
        "    arr_tempo_pena_sentenca.append(None)\n",
        "    continue\n",
        "  \n",
        "  line = strip_accents(line.lower())\n",
        "  # print(idx, line, end=\" \")\n",
        "  ultima_pos = 0\n",
        "  ano = mes = dia = dia_multa = 0\n",
        "  if \";\" not in line:\n",
        "    if \"ano\" in line:\n",
        "      indices_ano = [i for i in range(len(line)) if line.startswith(\"ano\", i)]\n",
        "      if len(indices_ano) > 1:\n",
        "        for indice in indices_ano:\n",
        "          pos_ano = line.find(\"ano\", indice)\n",
        "          ano_aux = re.sub('\\D', '', line[ultima_pos:pos_ano])\n",
        "          if ano_aux != '':\n",
        "            ano = int(ano_aux) if ano == \"\" else int(ano)+int(ano_aux)\n",
        "          ultima_pos = pos_ano\n",
        "          # print(ano, end=\" \")\n",
        "      else:\n",
        "        pos_ano = line.find(\"ano\")\n",
        "        ano_aux = re.sub('\\D', '', line[ultima_pos:pos_ano])\n",
        "        if ano_aux != '':\n",
        "          ano = int(ano_aux) if ano == \"\" else int(ano)+int(ano_aux)\n",
        "        ultima_pos = pos_ano\n",
        "        # print(ano, end=\" \")\n",
        "    \n",
        "    if \"mes\" in line:\n",
        "      indices_mes = [i for i in range(len(line)) if line.startswith(\"mes\", i)]\n",
        "      if len(indices_mes) > 1:\n",
        "        for indice in indices_mes:\n",
        "          pos_mes = line.find(\"mes\", indice)\n",
        "          mes_aux = re.sub('\\D', '', line[ultima_pos:pos_mes])\n",
        "          if mes_aux != '':\n",
        "            mes = int(mes_aux) if mes == \"\" else int(mes)+int(mes_aux)\n",
        "          ultima_pos = pos_mes\n",
        "          # print(mes, end=\" \")\n",
        "      else:\n",
        "        pos_mes = line.find(\"mes\")\n",
        "        mes_aux = re.sub('\\D', '', line[ultima_pos:pos_mes])\n",
        "        if mes_aux != '':\n",
        "          mes = int(mes_aux) if mes == \"\" else int(mes)+int(mes_aux)\n",
        "        ultima_pos = pos_mes\n",
        "        # print(mes, end=\" \")\n",
        "      \n",
        "    if \"dia\" in line:\n",
        "      indices_dia = [i for i in range(len(line)) if line.startswith(\"dia\", i)]\n",
        "      if len(indices_dia) > 1:\n",
        "        for idx_indice in range(len(indices_dia)):\n",
        "          pos_atual = indices_dia[idx_indice]\n",
        "          if idx_indice < len(indices_dia)-1:\n",
        "            pos_prox = indices_dia[idx_indice]+1\n",
        "            if \"-multa\" not in line[pos_atual:pos_prox]:\n",
        "              pos_dia = line.find(\"dia\", pos_atual)\n",
        "              dia_aux = re.sub('\\D', '', line[ultima_pos:pos_dia])\n",
        "              if dia_aux != '':\n",
        "                dia = int(dia_aux) if dia == \"\" else int(dia)+int(dia_aux)\n",
        "              ultima_pos = pos_dia\n",
        "            else:\n",
        "              pos_dia_multa = line.find(\"dia\", pos_atual)\n",
        "              dia_multa_aux = re.sub('\\D', '', line[ultima_pos:pos_dia_multa])\n",
        "              if dia_multa_aux != '':\n",
        "                dia_multa = int(dia_multa_aux) if dia_multa == \"\" else int(dia_multa)+int(dia_multa_aux)\n",
        "              ultima_pos = pos_dia_multa\n",
        "          else:\n",
        "            if \"-multa\" not in line:\n",
        "              pos_dia = line.find(\"dia\", pos_atual)\n",
        "              dia_aux = re.sub('\\D', '', line[ultima_pos:pos_dia])\n",
        "              if dia_aux != '':\n",
        "                dia = int(dia_aux) if dia == \"\" else int(dia)+int(dia_aux)\n",
        "              ultima_pos = pos_dia\n",
        "            else:\n",
        "              pos_dia_multa = line.find(\"dia\", pos_atual)\n",
        "              dia_multa_aux = re.sub('\\D', '', line[ultima_pos:pos_dia_multa])\n",
        "              if dia_multa_aux != '':\n",
        "                dia_multa = int(dia_multa_aux) if dia_multa == \"\" else int(dia_multa)+int(dia_multa_aux)\n",
        "              ultima_pos = pos_dia_multa\n",
        "      else:\n",
        "        if \"-multa\" not in line:\n",
        "          pos_dia = line.find(\"dia\")\n",
        "          dia_aux = re.sub('\\D', '', line[ultima_pos:pos_dia])\n",
        "          if dia_aux != '':\n",
        "            dia = int(dia_aux) if dia == \"\" else int(dia)+int(dia_aux)\n",
        "          ultima_pos = pos_dia\n",
        "        else:\n",
        "          pos_dia_multa = line.find(\"dia\")\n",
        "          dia_multa_aux = re.sub('\\D', '', line[ultima_pos:pos_dia_multa])\n",
        "          if dia_multa_aux != '':\n",
        "            dia_multa = int(dia_multa_aux) if dia_multa == \"\" else int(dia_multa)+int(dia_multa_aux)\n",
        "          ultima_pos = pos_dia_multa\n",
        "\n",
        "      # print(dia, dia_multa)\n",
        "    arr_tempo_pena_sentenca.append((ano, mes, dia))\n",
        "  else:\n",
        "    arr_aux = []\n",
        "    line_splited = [p.strip() for p in line.split(\";\")]\n",
        "    for line_ in line_splited:\n",
        "      ultima_pos = 0\n",
        "      ano = mes = dia = dia_multa = 0\n",
        "      if \"ano\" in line_:\n",
        "        indices_ano = [i for i in range(len(line_)) if line_.startswith(\"ano\", i)]\n",
        "        if len(indices_ano) > 1:\n",
        "          for indice in indices_ano:\n",
        "            pos_ano = line_.find(\"ano\", indice)\n",
        "            ano_aux = re.sub('\\D', '', line_[ultima_pos:pos_ano])\n",
        "            if ano_aux != '':\n",
        "              ano = int(ano_aux) if ano == \"\" else int(ano)+int(ano_aux)\n",
        "            ultima_pos = pos_ano\n",
        "            # print(ano, end=\" \")\n",
        "        else:\n",
        "          pos_ano = line_.find(\"ano\")\n",
        "          ano_aux = re.sub('\\D', '', line_[ultima_pos:pos_ano])\n",
        "          if ano_aux != '':\n",
        "            ano = int(ano_aux) if ano == \"\" else int(ano)+int(ano_aux)\n",
        "          ultima_pos = pos_ano\n",
        "          # print(ano, end=\" \")\n",
        "      \n",
        "      if \"mes\" in line_:\n",
        "        indices_mes = [i for i in range(len(line_)) if line_.startswith(\"mes\", i)]\n",
        "        if len(indices_mes) > 1:\n",
        "          for indice in indices_mes:\n",
        "            pos_mes = line_.find(\"mes\", indice)\n",
        "            mes_aux = re.sub('\\D', '', line_[ultima_pos:pos_mes])\n",
        "            if mes_aux != '':\n",
        "              mes = int(mes_aux) if mes == \"\" else int(mes)+int(mes_aux)\n",
        "            ultima_pos = pos_mes\n",
        "            # print(mes, end=\" \")\n",
        "        else:\n",
        "          pos_mes = line_.find(\"mes\")\n",
        "          mes_aux = re.sub('\\D', '', line_[ultima_pos:pos_mes])\n",
        "          if mes_aux != '':\n",
        "            mes = int(mes_aux) if mes == \"\" else int(mes)+int(mes_aux)\n",
        "          ultima_pos = pos_mes\n",
        "          # print(mes, end=\" \")\n",
        "        \n",
        "      if \"dia\" in line_:\n",
        "        indices_dia = [i for i in range(len(line_)) if line_.startswith(\"dia\", i)]\n",
        "        if len(indices_dia) > 1:\n",
        "          for idx_indice in range(len(indices_dia)):\n",
        "            pos_atual = indices_dia[idx_indice]\n",
        "            if idx_indice < len(indices_dia)-1:\n",
        "              pos_prox = indices_dia[idx_indice]+1\n",
        "              if \"-multa\" not in line_[pos_atual:pos_prox]:\n",
        "                pos_dia = line_.find(\"dia\", pos_atual)\n",
        "                dia_aux = re.sub('\\D', '', line_[ultima_pos:pos_dia])\n",
        "                if dia_aux != '':\n",
        "                  dia = int(dia_aux) if dia == \"\" else int(dia)+int(dia_aux)\n",
        "                ultima_pos = pos_dia\n",
        "              else:\n",
        "                pos_dia_multa = line_.find(\"dia\", pos_atual)\n",
        "                dia_multa_aux = re.sub('\\D', '', line_[ultima_pos:pos_dia_multa])\n",
        "                if dia_multa_aux != '':\n",
        "                  dia_multa = int(dia_multa_aux) if dia_multa == \"\" else int(dia_multa)+int(dia_multa_aux)\n",
        "                ultima_pos = pos_dia_multa\n",
        "            else:\n",
        "              if \"-multa\" not in line_:\n",
        "                pos_dia = line_.find(\"dia\", pos_atual)\n",
        "                dia_aux = re.sub('\\D', '', line_[ultima_pos:pos_dia])\n",
        "                if dia_aux != '':\n",
        "                  dia = int(dia_aux) if dia == \"\" else int(dia)+int(dia_aux)\n",
        "                ultima_pos = pos_dia\n",
        "              else:\n",
        "                pos_dia_multa = line_.find(\"dia\", pos_atual)\n",
        "                dia_multa_aux = re.sub('\\D', '', line_[ultima_pos:pos_dia_multa])\n",
        "                if dia_multa_aux != '':\n",
        "                  dia_multa = int(dia_multa_aux) if dia_multa == \"\" else int(dia_multa)+int(dia_multa_aux)\n",
        "                ultima_pos = pos_dia_multa\n",
        "        else:\n",
        "          if \"-multa\" not in line_:\n",
        "            pos_dia = line_.find(\"dia\")\n",
        "            dia_aux = re.sub('\\D', '', line_[ultima_pos:pos_dia])\n",
        "            if dia_aux != '':\n",
        "              dia = int(dia_aux) if dia == \"\" else int(dia)+int(dia_aux)\n",
        "            ultima_pos = pos_dia\n",
        "          else:\n",
        "            pos_dia_multa = line_.find(\"dia\")\n",
        "            dia_multa_aux = re.sub('\\D', '', line_[ultima_pos:pos_dia_multa])\n",
        "            if dia_multa_aux != '':\n",
        "              dia_multa = int(dia_multa_aux) if dia_multa == \"\" else int(dia_multa)+int(dia_multa_aux)\n",
        "            ultima_pos = pos_dia_multa\n",
        "        # print(dia, dia_multa)\n",
        "      arr_aux.append((ano, mes, dia))\n",
        "    arr_tempo_pena_sentenca.append(arr_aux)\n",
        "  # print(arr_tempo_pena_sentenca[-1])\n",
        "\n",
        "  # print()\n",
        "# problemas = [2002, 2241, 2937, 3471, 3566, 3568, 3569, 3572, 3578, 3591, 3640]\n",
        "# for j in problemas:\n",
        "  # print(j, planilha_filtrada.at[j, variavel])\n",
        "\n",
        "arr_tempo_pena_sentenca_dias = []\n",
        "for arr in arr_tempo_pena_sentenca:\n",
        "  if arr is None:\n",
        "    arr_tempo_pena_sentenca_dias.append(None)\n",
        "    continue\n",
        "\n",
        "  if type(arr)==tuple:\n",
        "    anos_p_dias = arr[0]*365\n",
        "    mes_p_dias = arr[1]*30\n",
        "    arr_tempo_pena_sentenca_dias.append(anos_p_dias+mes_p_dias+arr[2])\n",
        "  else:\n",
        "    arr_aux = []\n",
        "    for arr_i in arr:\n",
        "      anos_p_dias = arr_i[0]*365\n",
        "      mes_p_dias = arr_i[1]*30\n",
        "      arr_aux.append(anos_p_dias+mes_p_dias+arr_i[2])\n",
        "    arr_tempo_pena_sentenca_dias.append(np.nansum(arr_aux))\n",
        "planilha_filtrada[\"Tempo de pena da sentença (em dias)\"] = arr_tempo_pena_sentenca_dias\n",
        "# print(planilha_filtrada.at[3057,\"Tempo de pena da sentença (em dias)\"])\n"
      ],
      "metadata": {
        "id": "B0MtjFumdeR1"
      },
      "execution_count": 82,
      "outputs": []
    },
    {
      "cell_type": "markdown",
      "source": [
        "### Tempo total de pena"
      ],
      "metadata": {
        "id": "icoQke_50Sjg"
      }
    },
    {
      "cell_type": "code",
      "source": [
        "import re\n",
        "\n",
        "\n",
        "variavel = '36 - Caso haja condenação em outros processos, qual o tempo de condenação total? (se não houver colocar \"NSA\" para não se aplica ou \"SI\" se houver outro processo, mas não temos essa informação)'\n",
        "variavel_aux = 'Tempo de pena da sentença (em dias)'\n",
        "arr_tempo_total_pena = []\n",
        "\n",
        "planilha_filtrada[2402, variavel] = None\n",
        "planilha_filtrada[2753, variavel] = None\n",
        "planilha_filtrada[3393, variavel] = None\n",
        "\n",
        "for idx in planilha_filtrada[variavel].index:\n",
        "  line = planilha_filtrada.at[idx, variavel]\n",
        "  if pd.isnull(line):\n",
        "    arr_tempo_total_pena.append(None)\n",
        "    continue\n",
        "  elif str(line).lower().strip() == \"nsa\":\n",
        "    arr_tempo_total_pena.append(None)\n",
        "    continue\n",
        "  elif str(line).lower().strip() == \"si\":\n",
        "    if planilha_filtrada.at[idx, variavel_aux] is not None:\n",
        "      arr_tempo_total_pena.append(planilha_filtrada.at[idx, variavel_aux])\n",
        "    else:\n",
        "      arr_tempo_total_pena.append(None)\n",
        "    continue\n",
        "  \n",
        "  line = strip_accents(line.lower())\n",
        "  # print(idx, line, end=\" \")\n",
        "  ultima_pos = 0\n",
        "  ano = mes = dia = dia_multa = 0\n",
        "  if \";\" not in line:\n",
        "    if \"ano\" in line:\n",
        "      indices_ano = [i for i in range(len(line)) if line.startswith(\"ano\", i)]\n",
        "      if len(indices_ano) > 1:\n",
        "        for indice in indices_ano:\n",
        "          pos_ano = line.find(\"ano\", indice)\n",
        "          ano_aux = re.sub('\\D', '', line[ultima_pos:pos_ano])\n",
        "          if ano_aux != '':\n",
        "            ano = int(ano_aux) if ano == \"\" else int(ano)+int(ano_aux)\n",
        "          ultima_pos = pos_ano\n",
        "          # print(ano, end=\" \")\n",
        "      else:\n",
        "        pos_ano = line.find(\"ano\")\n",
        "        ano_aux = re.sub('\\D', '', line[ultima_pos:pos_ano])\n",
        "        if ano_aux != '':\n",
        "          ano = int(ano_aux) if ano == \"\" else int(ano)+int(ano_aux)\n",
        "        ultima_pos = pos_ano\n",
        "        # print(ano, end=\" \")\n",
        "    \n",
        "    if \"mes\" in line:\n",
        "      indices_mes = [i for i in range(len(line)) if line.startswith(\"mes\", i)]\n",
        "      if len(indices_mes) > 1:\n",
        "        for indice in indices_mes:\n",
        "          pos_mes = line.find(\"mes\", indice)\n",
        "          mes_aux = re.sub('\\D', '', line[ultima_pos:pos_mes])\n",
        "          if mes_aux != '':\n",
        "            mes = int(mes_aux) if mes == \"\" else int(mes)+int(mes_aux)\n",
        "          ultima_pos = pos_mes\n",
        "          # print(mes, end=\" \")\n",
        "      else:\n",
        "        pos_mes = line.find(\"mes\")\n",
        "        mes_aux = re.sub('\\D', '', line[ultima_pos:pos_mes])\n",
        "        if mes_aux != '':\n",
        "          mes = int(mes_aux) if mes == \"\" else int(mes)+int(mes_aux)\n",
        "        ultima_pos = pos_mes\n",
        "        # print(mes, end=\" \")\n",
        "      \n",
        "    if \"dia\" in line:\n",
        "      indices_dia = [i for i in range(len(line)) if line.startswith(\"dia\", i)]\n",
        "      if len(indices_dia) > 1:\n",
        "        for idx_indice in range(len(indices_dia)):\n",
        "          pos_atual = indices_dia[idx_indice]\n",
        "          if idx_indice < len(indices_dia)-1:\n",
        "            pos_prox = indices_dia[idx_indice]+1\n",
        "            if \"-multa\" not in line[pos_atual:pos_prox]:\n",
        "              pos_dia = line.find(\"dia\", pos_atual)\n",
        "              dia_aux = re.sub('\\D', '', line[ultima_pos:pos_dia])\n",
        "              if dia_aux != '':\n",
        "                dia = int(dia_aux) if dia == \"\" else int(dia)+int(dia_aux)\n",
        "              ultima_pos = pos_dia\n",
        "            else:\n",
        "              pos_dia_multa = line.find(\"dia\", pos_atual)\n",
        "              dia_multa_aux = re.sub('\\D', '', line[ultima_pos:pos_dia_multa])\n",
        "              if dia_multa_aux != '':\n",
        "                dia_multa = int(dia_multa_aux) if dia_multa == \"\" else int(dia_multa)+int(dia_multa_aux)\n",
        "              ultima_pos = pos_dia_multa\n",
        "          else:\n",
        "            if \"-multa\" not in line:\n",
        "              pos_dia = line.find(\"dia\", pos_atual)\n",
        "              dia_aux = re.sub('\\D', '', line[ultima_pos:pos_dia])\n",
        "              if dia_aux != '':\n",
        "                dia = int(dia_aux) if dia == \"\" else int(dia)+int(dia_aux)\n",
        "              ultima_pos = pos_dia\n",
        "            else:\n",
        "              pos_dia_multa = line.find(\"dia\", pos_atual)\n",
        "              dia_multa_aux = re.sub('\\D', '', line[ultima_pos:pos_dia_multa])\n",
        "              if dia_multa_aux != '':\n",
        "                dia_multa = int(dia_multa_aux) if dia_multa == \"\" else int(dia_multa)+int(dia_multa_aux)\n",
        "              ultima_pos = pos_dia_multa\n",
        "      else:\n",
        "        if \"-multa\" not in line:\n",
        "          pos_dia = line.find(\"dia\")\n",
        "          dia_aux = re.sub('\\D', '', line[ultima_pos:pos_dia])\n",
        "          if dia_aux != '':\n",
        "            dia = int(dia_aux) if dia == \"\" else int(dia)+int(dia_aux)\n",
        "          ultima_pos = pos_dia\n",
        "        else:\n",
        "          pos_dia_multa = line.find(\"dia\")\n",
        "          dia_multa_aux = re.sub('\\D', '', line[ultima_pos:pos_dia_multa])\n",
        "          if dia_multa_aux != '':\n",
        "            dia_multa = int(dia_multa_aux) if dia_multa == \"\" else int(dia_multa)+int(dia_multa_aux)\n",
        "          ultima_pos = pos_dia_multa\n",
        "\n",
        "      # print(dia, dia_multa)\n",
        "    arr_tempo_total_pena.append((ano, mes, dia))\n",
        "  else:\n",
        "    arr_aux = []\n",
        "    line_splited = [p.strip() for p in line.split(\";\")]\n",
        "    for line_ in line_splited:\n",
        "      ultima_pos = 0\n",
        "      ano = mes = dia = dia_multa = 0\n",
        "      if \"ano\" in line_:\n",
        "        indices_ano = [i for i in range(len(line_)) if line_.startswith(\"ano\", i)]\n",
        "        if len(indices_ano) > 1:\n",
        "          for indice in indices_ano:\n",
        "            pos_ano = line_.find(\"ano\", indice)\n",
        "            ano_aux = re.sub('\\D', '', line_[ultima_pos:pos_ano])\n",
        "            if ano_aux != '':\n",
        "              ano = int(ano_aux) if ano == \"\" else int(ano)+int(ano_aux)\n",
        "            ultima_pos = pos_ano\n",
        "            # print(ano, end=\" \")\n",
        "        else:\n",
        "          pos_ano = line_.find(\"ano\")\n",
        "          ano_aux = re.sub('\\D', '', line_[ultima_pos:pos_ano])\n",
        "          if ano_aux != '':\n",
        "            ano = int(ano_aux) if ano == \"\" else int(ano)+int(ano_aux)\n",
        "          ultima_pos = pos_ano\n",
        "          # print(ano, end=\" \")\n",
        "      \n",
        "      if \"mes\" in line_:\n",
        "        indices_mes = [i for i in range(len(line_)) if line_.startswith(\"mes\", i)]\n",
        "        if len(indices_mes) > 1:\n",
        "          for indice in indices_mes:\n",
        "            pos_mes = line_.find(\"mes\", indice)\n",
        "            mes_aux = re.sub('\\D', '', line_[ultima_pos:pos_mes])\n",
        "            if mes_aux != '':\n",
        "              mes = int(mes_aux) if mes == \"\" else int(mes)+int(mes_aux)\n",
        "            ultima_pos = pos_mes\n",
        "            # print(mes, end=\" \")\n",
        "        else:\n",
        "          pos_mes = line_.find(\"mes\")\n",
        "          mes_aux = re.sub('\\D', '', line_[ultima_pos:pos_mes])\n",
        "          if mes_aux != '':\n",
        "            mes = int(mes_aux) if mes == \"\" else int(mes)+int(mes_aux)\n",
        "          ultima_pos = pos_mes\n",
        "          # print(mes, end=\" \")\n",
        "        \n",
        "      if \"dia\" in line_:\n",
        "        indices_dia = [i for i in range(len(line_)) if line_.startswith(\"dia\", i)]\n",
        "        if len(indices_dia) > 1:\n",
        "          for idx_indice in range(len(indices_dia)):\n",
        "            pos_atual = indices_dia[idx_indice]\n",
        "            if idx_indice < len(indices_dia)-1:\n",
        "              pos_prox = indices_dia[idx_indice]+1\n",
        "              if \"-multa\" not in line_[pos_atual:pos_prox]:\n",
        "                pos_dia = line_.find(\"dia\", pos_atual)\n",
        "                dia_aux = re.sub('\\D', '', line_[ultima_pos:pos_dia])\n",
        "                if dia_aux != '':\n",
        "                  dia = int(dia_aux) if dia == \"\" else int(dia)+int(dia_aux)\n",
        "                ultima_pos = pos_dia\n",
        "              else:\n",
        "                pos_dia_multa = line_.find(\"dia\", pos_atual)\n",
        "                dia_multa_aux = re.sub('\\D', '', line_[ultima_pos:pos_dia_multa])\n",
        "                if dia_multa_aux != '':\n",
        "                  dia_multa = int(dia_multa_aux) if dia_multa == \"\" else int(dia_multa)+int(dia_multa_aux)\n",
        "                ultima_pos = pos_dia_multa\n",
        "            else:\n",
        "              if \"-multa\" not in line_:\n",
        "                pos_dia = line_.find(\"dia\", pos_atual)\n",
        "                dia_aux = re.sub('\\D', '', line_[ultima_pos:pos_dia])\n",
        "                if dia_aux != '':\n",
        "                  dia = int(dia_aux) if dia == \"\" else int(dia)+int(dia_aux)\n",
        "                ultima_pos = pos_dia\n",
        "              else:\n",
        "                pos_dia_multa = line_.find(\"dia\", pos_atual)\n",
        "                dia_multa_aux = re.sub('\\D', '', line_[ultima_pos:pos_dia_multa])\n",
        "                if dia_multa_aux != '':\n",
        "                  dia_multa = int(dia_multa_aux) if dia_multa == \"\" else int(dia_multa)+int(dia_multa_aux)\n",
        "                ultima_pos = pos_dia_multa\n",
        "        else:\n",
        "          if \"-multa\" not in line_:\n",
        "            pos_dia = line_.find(\"dia\")\n",
        "            dia_aux = re.sub('\\D', '', line_[ultima_pos:pos_dia])\n",
        "            if dia_aux != '':\n",
        "              dia = int(dia_aux) if dia == \"\" else int(dia)+int(dia_aux)\n",
        "            ultima_pos = pos_dia\n",
        "          else:\n",
        "            pos_dia_multa = line_.find(\"dia\")\n",
        "            dia_multa_aux = re.sub('\\D', '', line_[ultima_pos:pos_dia_multa])\n",
        "            if dia_multa_aux != '':\n",
        "              dia_multa = int(dia_multa_aux) if dia_multa == \"\" else int(dia_multa)+int(dia_multa_aux)\n",
        "            ultima_pos = pos_dia_multa\n",
        "        # print(dia, dia_multa)\n",
        "      arr_aux.append((ano, mes, dia))\n",
        "    arr_tempo_total_pena.append(arr_aux)\n",
        "  # print(arr_tempo_total_pena[-1])\n",
        "\n",
        "  # print()\n",
        "# problemas = [2002, 2241, 2937, 3471, 3566, 3568, 3569, 3572, 3578, 3591, 3640]\n",
        "# for j in problemas:\n",
        "  # print(j, planilha_filtrada.at[j, variavel])\n",
        "\n",
        "# print(arr_tempo_total_pena)\n",
        "arr_tempo_total_pena_dias = []\n",
        "for arr in arr_tempo_total_pena:\n",
        "  if arr is None:\n",
        "    arr_tempo_total_pena_dias.append(None)\n",
        "    continue\n",
        "\n",
        "  if type(arr)==int or type(arr)==np.float64:\n",
        "    arr_tempo_total_pena_dias.append(arr)\n",
        "  elif type(arr)==tuple:\n",
        "    anos_p_dias = arr[0]*365\n",
        "    mes_p_dias = arr[1]*30\n",
        "    arr_tempo_total_pena_dias.append(anos_p_dias+mes_p_dias+arr[2])\n",
        "  else:\n",
        "    arr_aux = []\n",
        "    for arr_i in arr:\n",
        "      anos_p_dias = arr_i[0]*365\n",
        "      mes_p_dias = arr_i[1]*30\n",
        "      arr_aux.append(anos_p_dias+mes_p_dias+arr_i[2])\n",
        "    arr_tempo_total_pena_dias.append(np.nansum(arr_aux))\n",
        "planilha_filtrada[\"Tempo total de pena\"] = arr_tempo_total_pena_dias\n",
        "# print(planilha_filtrada.at[3057,\"Tempo de pena da sentença (em dias)\"])\n"
      ],
      "metadata": {
        "id": "fxa29U4n0Why"
      },
      "execution_count": 83,
      "outputs": []
    },
    {
      "cell_type": "markdown",
      "source": [
        "### Filtra planilhas"
      ],
      "metadata": {
        "id": "p4Q6rMtCPHPR"
      }
    },
    {
      "cell_type": "code",
      "source": [
        "# print(len(planilha_filtrada))\n",
        "\n",
        "planilha_filtrada_interna = planilha_filtrada[planilha_filtrada[\"5 - É caso de interesse?\"] == \"sim: morte interna\"]\n",
        "# print(len(planilha_filtrada_interna))\n",
        "planilha_filtrada_externa = planilha_filtrada[planilha_filtrada[\"5 - É caso de interesse?\"] == \"sim: morte externa\"]\n",
        "# print(len(planilha_filtrada_externa))"
      ],
      "metadata": {
        "id": "jc_1sjdAPLWi"
      },
      "execution_count": 84,
      "outputs": []
    },
    {
      "cell_type": "markdown",
      "source": [
        "## Funções de uso geral"
      ],
      "metadata": {
        "id": "F2dMZ5ydPSQk"
      }
    },
    {
      "cell_type": "code",
      "source": [
        "def combine(counts, percentages):\n",
        "    fmt = ' {:.2f}% ({})'.format\n",
        "    return [fmt(p, c) for c, p in zip(counts, percentages)]"
      ],
      "metadata": {
        "id": "uwJ3EXzcPTya"
      },
      "execution_count": 85,
      "outputs": []
    },
    {
      "cell_type": "code",
      "source": [
        "def gera_grafico_geral(variavel, planilha_filtrada, titulo=\"Media e Medianas Gerais\", cor=\"#ba2e2e\", eixo_y=(200, 1400, 200), fonttamanho=17, fonttitulo=20, fontlabel=15, x=22, y=10):\n",
        "  # print(f'Número total de registros vazios: {planilha_filtrada[variavel].isna().sum()}')\n",
        "\n",
        "  plt.style.use(['ggplot'])\n",
        "  fig, ax = plt.subplots(figsize=(x,y))\n",
        "  fig.suptitle(titulo, fontsize=fonttitulo)\n",
        "\n",
        "  geral_absolute = planilha_filtrada[variavel].value_counts()\n",
        "  geral_relative = planilha_filtrada[variavel].value_counts(normalize=True)*100\n",
        "  if geral_relative.size != 0:\n",
        "    # ax.xticks(range(eixo_y[0], eixo_y[1], eixo_y[2]))\n",
        "    geral_relative_plt = geral_relative.plot(ax=ax, kind='barh', color=[cor], fontsize=fonttamanho, edgecolor=\"black\")\n",
        "    ax.bar_label(ax.containers[0], labels=combine(geral_absolute, geral_relative), fontsize=fontlabel)\n",
        "    plt.xticks(range(eixo_y[0], eixo_y[1], eixo_y[2]))\n",
        "\n",
        "  return (plt, fig)\n",
        "\n",
        "def gera_grafico_geral_media(variavel, planilha_filtrada, titulo=\"Media e Medianas Gerais\", cor=\"#ba2e2e\", eixo_y=(200, 1400, 200), fonttamanho=12):\n",
        "  # Geral\n",
        "  media_geral = planilha_filtrada[variavel].mean()\n",
        "  print(f'Média geral de dias: {media_geral}')\n",
        "\n",
        "  mediana_geral = planilha_filtrada[variavel].median()\n",
        "  print(f'Mediana geral de dias: {mediana_geral}')\n",
        "\n",
        "  dict_infos_gerais = {\"Média\": float(\"{:.2f}\".format(media_geral)), \"Mediana\": float(\"{:.2f}\".format(mediana_geral))}\n",
        "  # print(dict_infos_gerais)\n",
        "\n",
        "  series_dict_infos_geral = pd.Series(dict_infos_gerais)\n",
        "\n",
        "  plt.style.use(['ggplot'])\n",
        "  plt.yticks(range(eixo_y[0], eixo_y[1], eixo_y[2]))\n",
        "  fig, ax = plt.subplots(1, 1, sharex=True, sharey=False, figsize=(8,8))\n",
        "  ax.set_title(titulo)\n",
        "  series_dict_infos_geral.plot(ax=ax, kind='barh', color=[cor], fontsize=fonttamanho, edgecolor=\"black\")\n",
        "  ax.bar_label(ax.containers[0])\n",
        "\n",
        "  return (plt, fig)"
      ],
      "metadata": {
        "id": "xVLNzvxNPVJC"
      },
      "execution_count": 86,
      "outputs": []
    },
    {
      "cell_type": "markdown",
      "source": [
        "## Parte 1"
      ],
      "metadata": {
        "id": "B7O3PMOyMG3f"
      }
    },
    {
      "cell_type": "markdown",
      "source": [
        "### 5 - É caso de interesse?"
      ],
      "metadata": {
        "id": "ZoPJ64w5MKW3"
      }
    },
    {
      "cell_type": "code",
      "source": [
        "plot, fig = gera_grafico_geral(\"5 - É caso de interesse?\", planilha_filtrada, titulo=\"Teste\", eixo_y=(0, 120, 20))\n",
        "plot.show()\n",
        "\n",
        "# loc_geral_variavel_5 = \"/content/drive/My Drive/codigos_colab/imagens_graficos_final/1/grafico_geral_variavel_caso_interesse.png\"\n",
        "# fig.savefig(loc_geral_variavel_5)"
      ],
      "metadata": {
        "id": "DpK5yD_rMJsP",
        "colab": {
          "base_uri": "https://localhost:8080/",
          "height": 672
        },
        "outputId": "42f953ee-171c-46ce-c5f7-bf026e9dbcdd"
      },
      "execution_count": 71,
      "outputs": [
        {
          "output_type": "display_data",
          "data": {
            "text/plain": [
              "<Figure size 1584x720 with 1 Axes>"
            ],
            "image/png": "[encoded data removed]"
          },
          "metadata": {}
        }
      ]
    },
    {
      "cell_type": "markdown",
      "source": [
        "## Parte 2\n"
      ],
      "metadata": {
        "id": "3KzFEJAZVXVt"
      }
    },
    {
      "cell_type": "markdown",
      "source": [
        "### 15 - CPF (apenas números quando houver. Quando não houver colocar \"SI\")"
      ],
      "metadata": {
        "id": "fvHhksYuVY5o"
      }
    },
    {
      "cell_type": "code",
      "source": [
        "sem_preenchimento = 0\n",
        "dict_infos = {'geral': []}\n",
        "for line in planilha_filtrada_interna['15 - CPF (apenas números quando houver. Quando não houver colocar \"SI\")']:\n",
        "  if str(line).lower() == \"si\": dict_infos['geral'].append('sem informação')\n",
        "  elif str(line).lower() == \"nan\": sem_preenchimento += 1\n",
        "  else: dict_infos['geral'].append('com informação')\n",
        "\n",
        "series_arr_valores1 = pd.Series(dict_infos['geral'])\n",
        "absolute_plt = series_arr_valores1.value_counts()\n",
        "relative_plt = series_arr_valores1.value_counts(normalize=True)*100\n",
        "\n",
        "\n",
        "fig, ax = plt.subplots(figsize=(16,8))\n",
        "fig.suptitle(\"Morte Interna\", fontsize=20)\n",
        "relative_plot = relative_plt.plot(ax=ax, kind='barh', color=['#ba2e2e'], fontsize=17, edgecolor=\"black\")\n",
        "ax.bar_label(ax.containers[0], labels=combine(absolute_plt, relative_plt), fontsize=16)\n",
        "plt.xticks(range(0, 120, 20))\n",
        "\n",
        "# loc_geral_variavel_15_1 = \"/content/drive/My Drive/codigos_colab/imagens_graficos/2/grafico_informacoes_cpf_caso_interno.png\"\n",
        "# fig.savefig(loc_geral_variavel_15_1)"
      ],
      "metadata": {
        "id": "U85MqsX7Vj1Q"
      },
      "execution_count": null,
      "outputs": []
    },
    {
      "cell_type": "code",
      "source": [
        "sem_preenchimento = 0\n",
        "dict_infos = {'geral': []}\n",
        "for line in planilha_filtrada_externa['15 - CPF (apenas números quando houver. Quando não houver colocar \"SI\")']:\n",
        "  if str(line).lower() == \"si\": dict_infos['geral'].append('sem informação')\n",
        "  elif str(line).lower() == \"nan\": sem_preenchimento += 1\n",
        "  else: dict_infos['geral'].append('com informação')\n",
        "\n",
        "series_arr_valores1 = pd.Series(dict_infos['geral'])\n",
        "absolute_plt = series_arr_valores1.value_counts()\n",
        "relative_plt = series_arr_valores1.value_counts(normalize=True)*100\n",
        "\n",
        "\n",
        "fig, ax = plt.subplots(figsize=(16,8))\n",
        "fig.suptitle(\"Morte Externa\", fontsize=20)\n",
        "relative_plot = relative_plt.plot(ax=ax, kind='barh', color=['#121fa1'], fontsize=17, edgecolor=\"black\")\n",
        "ax.bar_label(ax.containers[0], labels=combine(absolute_plt, relative_plt), fontsize=16)\n",
        "plt.xticks(range(0, 120, 20))\n",
        "\n",
        "loc_geral_variavel_15_2 = \"/content/drive/My Drive/codigos_colab/imagens_graficos/2/grafico_informacoes_cpf_caso_externo.png\"\n",
        "fig.savefig(loc_geral_variavel_15_2)"
      ],
      "metadata": {
        "id": "WVdj-2daeKlW"
      },
      "execution_count": null,
      "outputs": []
    },
    {
      "cell_type": "markdown",
      "source": [
        "### 27 - Filhos (quantidade)"
      ],
      "metadata": {
        "id": "0v1WZF8llN8N"
      }
    },
    {
      "cell_type": "code",
      "source": [
        "var_27_aux_interna = planilha_filtrada_interna[\"27 - Filhos (quantidade)\"].value_counts().to_frame()\n",
        "var_27_aux_interna.rename(columns = {\"27 - Filhos (quantidade)\": \"quantidade\"}, inplace = True)\n",
        "var_27_aux_interna = var_27_aux_interna.reset_index()\n",
        "var_27_aux_interna = var_27_aux_interna.reindex([2,3,4,6,5,1,0])\n",
        "var_27_aux_interna.set_index('index', inplace=True)\n",
        "\n",
        "var_27_aux_interna['porcentagem'] = var_27_aux_interna['quantidade']/var_27_aux_interna['quantidade'].sum()*100\n",
        "\n",
        "plt.style.use(['ggplot'])\n",
        "fig, ax = plt.subplots(figsize=(18,6))\n",
        "fig.suptitle(\"Morte Interna\", fontsize=24)\n",
        "var_27_aux_interna['porcentagem'].plot(ax=ax, kind='barh', color=['#ba2e2e'], fontsize=18, edgecolor=\"black\")\n",
        "ax.bar_label(ax.containers[0], labels=combine(var_27_aux_interna['quantidade'], var_27_aux_interna['porcentagem']), fontsize=17)\n",
        "plt.ylabel(None)\n",
        "plt.xticks(range(0, 50, 10))\n",
        "\n",
        "\n",
        "loc_geral_variavel_27_1 = \"/content/drive/My Drive/codigos_colab/imagens_graficos/2/grafico_quantidade_filhos_caso_interna.png\"\n",
        "fig.savefig(loc_geral_variavel_27_1)"
      ],
      "metadata": {
        "id": "te5z9mGZlSkg"
      },
      "execution_count": null,
      "outputs": []
    },
    {
      "cell_type": "code",
      "source": [
        "var_27_aux_externa = planilha_filtrada_externa[\"27 - Filhos (quantidade)\"].value_counts().to_frame()\n",
        "var_27_aux_externa.rename(columns = {\"27 - Filhos (quantidade)\": \"quantidade\"}, inplace = True)\n",
        "var_27_aux_externa = var_27_aux_externa.reset_index()\n",
        "var_27_aux_externa = var_27_aux_externa.reindex([2,3,4,5,6,0,1])\n",
        "var_27_aux_externa.set_index('index', inplace=True)\n",
        "\n",
        "var_27_aux_externa['porcentagem'] = var_27_aux_externa['quantidade']/var_27_aux_externa['quantidade'].sum()*100\n",
        "\n",
        "plt.style.use(['ggplot'])\n",
        "fig, ax = plt.subplots(figsize=(18,6))\n",
        "fig.suptitle(\"Morte Externa\", fontsize=24)\n",
        "var_27_aux_externa['porcentagem'].plot(ax=ax, kind='barh', color=['#121fa1'], fontsize=18, edgecolor=\"black\")\n",
        "ax.bar_label(ax.containers[0], labels=combine(var_27_aux_externa['quantidade'], var_27_aux_externa['porcentagem']), fontsize=17)\n",
        "plt.ylabel(None)\n",
        "plt.xticks(range(0, 50, 10))\n",
        "\n",
        "loc_geral_variavel_27_2 = \"/content/drive/My Drive/codigos_colab/imagens_graficos/2/grafico_quantidade_filhos_caso_externa.png\"\n",
        "fig.savefig(loc_geral_variavel_27_2)"
      ],
      "metadata": {
        "id": "P5Af2WPolV0H"
      },
      "execution_count": null,
      "outputs": []
    },
    {
      "cell_type": "code",
      "source": [
        "### fazer o com e sem informação dessa variável aqui\n",
        "\n",
        "# print(planilha_filtrada_interna[\"27 - Filhos (quantidade)\"])\n",
        "\n",
        "planilha_aux_interna = pd.DataFrame()\n",
        "planilha_aux_interna[\"var 27 vazio\"] = planilha_filtrada_interna[\"27 - Filhos (quantidade)\"].dropna()\n",
        "planilha_aux_interna[\"var 27 vazio\"] = np.where(planilha_aux_interna[\"var 27 vazio\"] != \"sem informações\", \"com informação\", \"sem informação\")\n",
        "print(planilha_aux_interna[\"var 27 vazio\"].value_counts())\n",
        "\n",
        "plot, fig = gera_grafico_geral(\"var 27 vazio\", planilha_aux_interna, \"Quantidade de Dados Faltantes - Filhos (qtd.) - Morte Interna\", x=16, y=6, eixo_y=(0, 110, 10))\n",
        "\n",
        "## interno\n",
        "loc_geral_variavel_27_vazio_1 = \"/content/drive/My Drive/codigos_colab/imagens_graficos/2/grafico_filhos_vazio_interna.png\"\n",
        "fig.savefig(loc_geral_variavel_27_vazio_1)"
      ],
      "metadata": {
        "id": "9IoL24FUcEnl"
      },
      "execution_count": null,
      "outputs": []
    },
    {
      "cell_type": "code",
      "source": [
        "planilha_aux_externa = pd.DataFrame()\n",
        "planilha_aux_externa[\"var 27 vazio\"] = planilha_filtrada_externa[\"27 - Filhos (quantidade)\"].dropna()\n",
        "planilha_aux_externa[\"var 27 vazio\"] = np.where(planilha_aux_externa[\"var 27 vazio\"] != \"sem informações\", \"com informação\", \"sem informação\")\n",
        "print(planilha_aux_externa[\"var 27 vazio\"].value_counts())\n",
        "\n",
        "plot, fig = gera_grafico_geral(\"var 27 vazio\", planilha_aux_externa, \"Quantidade de Dados Faltantes - Filhos (qtd.) - Morte Externa\", cor=\"#121fa1\", x=16, y=6, eixo_y=(0, 110, 10))\n",
        "\n",
        "# externo\n",
        "loc_geral_variavel_27_vazio_2 = \"/content/drive/My Drive/codigos_colab/imagens_graficos/2/grafico_filhos_vazio_externa.png\"\n",
        "fig.savefig(loc_geral_variavel_27_vazio_2)"
      ],
      "metadata": {
        "id": "tLr8euH4gDTP"
      },
      "execution_count": null,
      "outputs": []
    },
    {
      "cell_type": "markdown",
      "source": [
        "### Renda"
      ],
      "metadata": {
        "id": "GpcSLKLh4UsH"
      }
    },
    {
      "cell_type": "code",
      "source": [
        "import numpy as np\n",
        "\n",
        "# print(arr_renda_calc)\n",
        "variavel = '29 - Renda (coloque apenas o valor em números. Ex: 1.275,50 ou \"SI\" para casos sem informação'\n",
        "arr_renda_calc = []\n",
        "\n",
        "qtd_sem_info_interna = 0\n",
        "qtd_nsa_interna = 0\n",
        "qtd_linha_vazias_interna = 0\n",
        "\n",
        "for idx in planilha_filtrada_interna.index:\n",
        "  line = planilha_filtrada_interna.at[idx, variavel]\n",
        "\n",
        "  if pd.isnull(line):\n",
        "    qtd_linha_vazias_interna += 1\n",
        "    continue\n",
        "  \n",
        "  if type(line)==int or type(line)==float:\n",
        "    # arr_renda.append(line)\n",
        "    arr_renda_calc.append(line)\n",
        "    continue\n",
        "  \n",
        "  line = strip_accents(line).lower().strip()\n",
        "  if line == \"si\":\n",
        "    qtd_sem_info_interna += 1\n",
        "    continue\n",
        "  \n",
        "  if line == \"nsa\":\n",
        "    qtd_nsa_interna += 1\n",
        "    continue\n",
        "\n",
        "print(\"Quantidade de ocorrências sem informação - interna:\", qtd_sem_info_interna+qtd_nsa_interna)\n",
        "# print(\"Quantidade de NSA - interna:\", qtd_nsa_interna)\n",
        "print(\"Quantidade de linhas vazias - interna:\", qtd_linha_vazias_interna)\n",
        "\n",
        "mediana_renda_tratada_2 = np.median(arr_renda_calc)\n",
        "print(\"Mediana - interna:\", mediana_renda_tratada_2)\n",
        "\n",
        "media_renda_tratada_2 = np.mean(arr_renda_calc)\n",
        "print(\"Média - interna:\", media_renda_tratada_2)\n",
        "\n",
        "# print(\"Valor máximo:\", max(arr_renda_calc))\n",
        "\n",
        "\n",
        "dict_infos_gerais = {\"Média\": float(\"{:.2f}\".format(media_renda_tratada_2)), \"Mediana\": float(\"{:.2f}\".format(mediana_renda_tratada_2))}\n",
        "# print(dict_infos_gerais)\n",
        "\n",
        "series_dict_infos_geral = pd.Series(dict_infos_gerais)\n",
        "\n",
        "plt.style.use(['ggplot'])\n",
        "fig, ax = plt.subplots(1, 1, sharex=True, sharey=False, figsize=(14,6))\n",
        "ax.set_title(\"Média e Mediana de Renda (R$) - Morte Interna\", fontsize=20)\n",
        "series_dict_infos_geral.plot(ax=ax, kind='barh', color=[\"#ba2e2e\"], fontsize=15, edgecolor=\"black\")\n",
        "ax.bar_label(ax.containers[0], labels=[' {:.2f}'.format(media_renda_tratada_2), ' {:.2f}'.format(mediana_renda_tratada_2)], fontsize=13)\n",
        "plt.xticks(range(0, 2000, 200))\n",
        "\n",
        "loc_geral_variavel_renda_interna_2 = \"/content/drive/My Drive/codigos_colab/imagens_graficos/2/grafico_renda_interna_2.png\"\n",
        "fig.savefig(loc_geral_variavel_renda_interna_2)"
      ],
      "metadata": {
        "id": "7edC5BK-4V1L"
      },
      "execution_count": null,
      "outputs": []
    },
    {
      "cell_type": "code",
      "source": [
        "### parte nova\n",
        "\n",
        "dict_aux = {\"com informação\": [len(arr_renda_calc)], \"sem informação\": [int(qtd_sem_info_interna+qtd_nsa_interna)]}\n",
        "\n",
        "pd_sem_info_inter = pd.DataFrame.from_dict(dict_aux)\n",
        "pd_sem_info_inter.rename(index={0: 'quantidade'}, inplace=True)\n",
        "pd_sem_info_inter_aux = pd_sem_info_inter.T\n",
        "# print(pd_sem_info_inter_aux)\n",
        "\n",
        "pd_sem_info_inter_aux['porcentagem'] = pd_sem_info_inter_aux['quantidade']/pd_sem_info_inter_aux['quantidade'].sum()*100\n",
        "\n",
        "plt.style.use(['ggplot'])\n",
        "fig, ax = plt.subplots(1, 1, sharex=True, sharey=False, figsize=(16,8))\n",
        "ax.set_title(\"Quantidade de Informações Faltantes - Renda - Morte Interna\", fontsize=20)\n",
        "pd_sem_info_inter_aux['porcentagem'].plot(ax=ax, kind='barh', color=[\"#ba2e2e\"], fontsize=15, edgecolor=\"black\")\n",
        "ax.bar_label(ax.containers[0], labels=combine(pd_sem_info_inter_aux['quantidade'], pd_sem_info_inter_aux['porcentagem']), fontsize=14)\n",
        "plt.xticks(range(0, 110, 10))\n",
        "\n",
        "loc_geral_variavel_renda_interna_sem_info = \"/content/drive/My Drive/codigos_colab/imagens_graficos/2/grafico_renda_interna_sem_info.png\"\n",
        "fig.savefig(loc_geral_variavel_renda_interna_sem_info)"
      ],
      "metadata": {
        "id": "0Jb8i8a4Utc7"
      },
      "execution_count": null,
      "outputs": []
    },
    {
      "cell_type": "code",
      "source": [
        "df_renda_morte_interna = pd.DataFrame(arr_renda_calc, columns=['Renda - Morte Interna'])\n",
        "# print(df_renda_morte_interna)\n",
        "faixas = [\"0 a 500\", \"500 a 1000\", \"1000 a 1500\", \"1500 a 2000\", \"2000 a 2500\", \"2500 a 3000\"]\n",
        "df_renda_morte_interna[\"Faixas Renda - Morte Interna\"] = pd.cut(x=df_renda_morte_interna['Renda - Morte Interna'], bins=[-1,500,1000,1500,2000,2500,3000], labels=faixas)\n",
        "# print(df_renda_morte_interna[\"Faixas Renda - Morte Interna\"].value_counts())\n",
        "\n",
        "\n",
        "var_27_aux_faixas_renda_interna = df_renda_morte_interna[\"Faixas Renda - Morte Interna\"].value_counts().to_frame()\n",
        "var_27_aux_faixas_renda_interna.rename(columns = {\"Faixas Renda - Morte Interna\": \"quantidade\"}, inplace = True)\n",
        "var_27_aux_faixas_renda_interna = var_27_aux_faixas_renda_interna.reset_index()\n",
        "print(var_27_aux_faixas_renda_interna.index)\n",
        "var_27_aux_faixas_renda_interna = var_27_aux_faixas_renda_interna.reindex([1,2,0,4,3,5])\n",
        "var_27_aux_faixas_renda_interna.set_index('index', inplace=True)\n",
        "# print(var_27_aux_faixas_renda_interna)\n",
        "\n",
        "# value_counts_renda_morte_interna = var_27_aux_faixas_renda_interna[\"Faixas Renda - Morte Interna\"].value_counts()\n",
        "labels_value_counts_renda_morte_interna = [' {}'.format(i[0]) for i in var_27_aux_faixas_renda_interna.values]\n",
        "# print(labels_value_counts_renda_morte_interna)\n",
        "\n",
        "plt.style.use(['ggplot'])\n",
        "fig, ax = plt.subplots(1, 1, sharex=True, sharey=False, figsize=(14,6))\n",
        "ax.set_title(\"Faixas de Renda (R$) - Morte Interna\", fontsize=20)\n",
        "var_27_aux_faixas_renda_interna['quantidade'].plot(ax=ax, kind='barh', color=[\"#ba2e2e\"], fontsize=15, edgecolor=\"black\")\n",
        "ax.bar_label(ax.containers[0], labels=labels_value_counts_renda_morte_interna, fontsize=13)\n",
        "plt.xticks(range(0, max(var_27_aux_faixas_renda_interna['quantidade'].values)+1, 1))\n",
        "plt.ylabel(None)\n",
        "\n",
        "loc_geral_variavel_renda_faixa_interna_2 = \"/content/drive/My Drive/codigos_colab/imagens_graficos/2/grafico_renda_faixa_interna_2.png\"\n",
        "fig.savefig(loc_geral_variavel_renda_faixa_interna_2)"
      ],
      "metadata": {
        "id": "eN84r84SDJCp"
      },
      "execution_count": null,
      "outputs": []
    },
    {
      "cell_type": "code",
      "source": [
        "arr_renda_calc = []\n",
        "variavel = '29 - Renda (coloque apenas o valor em números. Ex: 1.275,50 ou \"SI\" para casos sem informação'\n",
        "qtd_sem_info_externa = 0\n",
        "qtd_nsa_externa = 0\n",
        "qtd_linha_vazias_externa = 0\n",
        "\n",
        "for idx in planilha_filtrada_externa.index:\n",
        "  line = planilha_filtrada_externa.at[idx, variavel]\n",
        "\n",
        "  if pd.isnull(line):\n",
        "    qtd_linha_vazias_externa += 1\n",
        "    continue\n",
        "  \n",
        "  if type(line)==int or type(line)==float:\n",
        "    # arr_renda.append(line)\n",
        "    arr_renda_calc.append(line)\n",
        "    continue\n",
        "  \n",
        "  line = strip_accents(line).lower().strip()\n",
        "  if line == \"si\":\n",
        "    qtd_sem_info_externa += 1\n",
        "    continue\n",
        "  \n",
        "  if line == \"nsa\":\n",
        "    qtd_nsa_externa += 1\n",
        "    continue\n",
        "\n",
        "print(\"Quantidade de ocorrências sem informação - externa:\", qtd_sem_info_externa+qtd_nsa_externa)\n",
        "# print(\"Quantidade de NSA - externa:\", qtd_nsa_externa)\n",
        "print(\"Quantidade de linhas vazias - externa:\", qtd_linha_vazias_externa)\n",
        "\n",
        "mediana_renda_tratada_2 = np.median(arr_renda_calc)\n",
        "print(\"Mediana - externa:\", mediana_renda_tratada_2)\n",
        "\n",
        "media_renda_tratada_2 = np.mean(arr_renda_calc)\n",
        "print(\"Média - externa:\", media_renda_tratada_2)\n",
        "\n",
        "print(\"Valor máximo:\", max(arr_renda_calc))\n",
        "\n",
        "dict_infos_gerais = {\"Média\": float(\"{:.2f}\".format(media_renda_tratada_2)), \"Mediana\": float(\"{:.2f}\".format(mediana_renda_tratada_2))}\n",
        "# print(dict_infos_gerais)\n",
        "\n",
        "series_dict_infos_geral = pd.Series(dict_infos_gerais)\n",
        "\n",
        "plt.style.use(['ggplot'])\n",
        "fig, ax = plt.subplots(1, 1, sharex=True, sharey=False, figsize=(14,6))\n",
        "ax.set_title(\"Média e Mediana de Renda (R$) - Morte externa\", fontsize=20)\n",
        "series_dict_infos_geral.plot(ax=ax, kind='barh', color=[\"#121fa1\"], fontsize=15, edgecolor=\"black\")\n",
        "ax.bar_label(ax.containers[0], labels=[' {:.2f}'.format(media_renda_tratada_2), ' {:.2f}'.format(mediana_renda_tratada_2)], fontsize=13)\n",
        "plt.xticks(range(0, 2000, 200))\n",
        "\n",
        "loc_geral_variavel_renda_externa_2 = \"/content/drive/My Drive/codigos_colab/imagens_graficos/2/grafico_renda_externa_2.png\"\n",
        "fig.savefig(loc_geral_variavel_renda_externa_2)"
      ],
      "metadata": {
        "id": "5ClscMMb8BZZ"
      },
      "execution_count": null,
      "outputs": []
    },
    {
      "cell_type": "code",
      "source": [
        "### parte nova\n",
        "\n",
        "dict_aux = {\"com informação\": [len(arr_renda_calc)], \"sem informação\": [int(qtd_sem_info_externa+qtd_nsa_externa)]}\n",
        "\n",
        "pd_sem_info_extern = pd.DataFrame.from_dict(dict_aux)\n",
        "pd_sem_info_extern.rename(index = {0: 'quantidade'}, inplace=True)\n",
        "pd_sem_info_extern_aux = pd_sem_info_extern.T\n",
        "pd_sem_info_extern_aux['porcentagem'] = pd_sem_info_extern_aux['quantidade']/pd_sem_info_extern_aux['quantidade'].sum()*100\n",
        "\n",
        "plt.style.use(['ggplot'])\n",
        "fig, ax = plt.subplots(1, 1, sharex=True, sharey=False, figsize=(17,8))\n",
        "ax.set_title(\"Quantidade de Informações Faltantes - Renda - Morte Externa\", fontsize=20)\n",
        "pd_sem_info_extern_aux['porcentagem'].plot(ax=ax, kind='barh', color=[\"#121fa1\"], fontsize=15, edgecolor=\"black\")\n",
        "ax.bar_label(ax.containers[0], labels=combine(pd_sem_info_extern_aux['quantidade'], pd_sem_info_extern_aux['porcentagem']), fontsize=14)\n",
        "# ax.get_legend().remove()\n",
        "plt.xticks(range(0, 110, 10))\n",
        "\n",
        "loc_geral_variavel_renda_externa_sem_info = \"/content/drive/My Drive/codigos_colab/imagens_graficos/2/grafico_renda_externa_sem_info.png\"\n",
        "fig.savefig(loc_geral_variavel_renda_externa_sem_info)"
      ],
      "metadata": {
        "id": "sXCFUACUZDy8"
      },
      "execution_count": null,
      "outputs": []
    },
    {
      "cell_type": "code",
      "source": [
        "df_renda_morte_externa = pd.DataFrame(arr_renda_calc, columns=['Renda - Morte Externa'])\n",
        "# print(df_renda_morte_externa)\n",
        "faixas = [\"0 a 500\", \"500 a 1000\", \"1000 a 1500\", \"1500 a 2000\", \"2000 a 2500\", \"2500 a 3000\", \"3000 a 3500\", \"Acima de 3500\"]\n",
        "df_renda_morte_externa[\"Faixas Renda - Morte Externa\"] = pd.cut(x=df_renda_morte_externa['Renda - Morte Externa'], bins=[-1,500,1000,1500,2000,2500,3000,3500,20000], labels=faixas)\n",
        "# print(df_renda_morte_externa[\"Faixas Renda - Morte Externa\"].value_counts())\n",
        "\n",
        "var_27_aux_faixas_renda_externa = df_renda_morte_externa[\"Faixas Renda - Morte Externa\"].value_counts().to_frame()\n",
        "# print(var_27_aux_faixas_renda_externa)\n",
        "var_27_aux_faixas_renda_externa.rename(columns = {\"Faixas Renda - Morte Externa\": \"quantidade\"}, inplace = True)\n",
        "var_27_aux_faixas_renda_externa = var_27_aux_faixas_renda_externa.reset_index()\n",
        "# print(var_27_aux_faixas_renda_externa)\n",
        "var_27_aux_faixas_renda_externa = var_27_aux_faixas_renda_externa.reindex([2,0,1,3,4,6,7,5])\n",
        "var_27_aux_faixas_renda_externa.set_index('index', inplace=True)\n",
        "# print(var_27_aux_faixas_renda_externa)\n",
        "\n",
        "# labels_value_counts_renda_morte_externa = var_27_aux_faixas_renda_externa[\"Faixas Renda - Morte Externa\"].value_counts()\n",
        "labels_value_counts_renda_morte_externa = [' {}'.format(i[0]) for i in var_27_aux_faixas_renda_externa.values]\n",
        "# print(labels_value_counts_renda_morte_externa)\n",
        "\n",
        "plt.style.use(['ggplot'])\n",
        "fig, ax = plt.subplots(1, 1, sharex=True, sharey=False, figsize=(14,6))\n",
        "ax.set_title(\"Faixas de Renda (R$) - Morte Externa\", fontsize=20)\n",
        "var_27_aux_faixas_renda_externa['quantidade'].plot(ax=ax, kind='barh', color=[\"#121fa1\"], fontsize=15, edgecolor=\"black\")\n",
        "ax.bar_label(ax.containers[0], labels=labels_value_counts_renda_morte_externa, fontsize=13)\n",
        "plt.xticks(range(0, max(var_27_aux_faixas_renda_externa['quantidade'].values)+1, 2))\n",
        "plt.ylabel(None)\n",
        "\n",
        "loc_geral_variavel_renda_faixa_externa_2 = \"/content/drive/My Drive/codigos_colab/imagens_graficos/2/grafico_renda_faixa_externa_2.png\"\n",
        "fig.savefig(loc_geral_variavel_renda_faixa_externa_2)"
      ],
      "metadata": {
        "id": "O4DzUbVXGoT0"
      },
      "execution_count": null,
      "outputs": []
    },
    {
      "cell_type": "markdown",
      "source": [
        "### 30 - Passagens anteriores pelo sistema de justiça criminal?"
      ],
      "metadata": {
        "id": "XMiXYePbpCbj"
      }
    },
    {
      "cell_type": "code",
      "source": [
        "plot, fig = gera_grafico_geral(\"30 - Passagens anteriores pelo sistema de justiça criminal?\", planilha_filtrada_interna, \"Morte Interna\", x=16, y=6, eixo_y=(0, 110, 10))\n",
        "\n",
        "loc_geral_variavel_30_1 = \"/content/drive/My Drive/codigos_colab/imagens_graficos/2/grafico_passagem_anteriores_criminal_caso_interna.png\"\n",
        "fig.savefig(loc_geral_variavel_30_1)"
      ],
      "metadata": {
        "id": "gY80jLt4pECS"
      },
      "execution_count": null,
      "outputs": []
    },
    {
      "cell_type": "code",
      "source": [
        "planilha_aux_interna = pd.DataFrame()\n",
        "planilha_aux_interna[\"var 30 vazio\"] = planilha_filtrada_interna[\"30 - Passagens anteriores pelo sistema de justiça criminal?\"].dropna()\n",
        "planilha_aux_interna[\"var 30 vazio\"] = np.where(planilha_aux_interna[\"var 30 vazio\"] != \"sem informação\", \"com informação\", \"sem informação\")\n",
        "print(planilha_aux_interna[\"var 30 vazio\"].value_counts())\n",
        "\n",
        "plot, fig = gera_grafico_geral(\"var 30 vazio\", planilha_aux_interna, \"Dados Faltantes - Passagens anteriores pelo sistema de justiça criminal - Morte Interna\",\n",
        "                               x=16, y=6, eixo_y=(0, 110, 10))\n",
        "\n",
        "loc_geral_variavel_30_vazio_1 = \"/content/drive/My Drive/codigos_colab/imagens_graficos/2/grafico_passagem_anteriores_criminal_vazio_caso_interna.png\"\n",
        "fig.savefig(loc_geral_variavel_30_vazio_1)"
      ],
      "metadata": {
        "id": "b6jDUSuGyw3l"
      },
      "execution_count": null,
      "outputs": []
    },
    {
      "cell_type": "code",
      "source": [
        "plot, fig = gera_grafico_geral(\"30 - Passagens anteriores pelo sistema de justiça criminal?\", planilha_filtrada_externa, \"Morte Externa\", cor=\"#121fa1\", x=16, y=6, eixo_y=(0, 110, 10))\n",
        "\n",
        "loc_geral_variavel_30_2 = \"/content/drive/My Drive/codigos_colab/imagens_graficos/2/grafico_passagem_antereiores_criminal_caso_externa.png\"\n",
        "fig.savefig(loc_geral_variavel_30_2)"
      ],
      "metadata": {
        "id": "_XmEbr5zp62d"
      },
      "execution_count": null,
      "outputs": []
    },
    {
      "cell_type": "code",
      "source": [
        "planilha_aux_externa = pd.DataFrame()\n",
        "planilha_aux_externa[\"var 30 vazio\"] = planilha_filtrada_externa[\"30 - Passagens anteriores pelo sistema de justiça criminal?\"].dropna()\n",
        "planilha_aux_externa[\"var 30 vazio\"] = np.where(planilha_aux_externa[\"var 30 vazio\"] != \"sem informação\", \"com informação\", \"sem informação\")\n",
        "print(planilha_aux_externa[\"var 30 vazio\"].value_counts())\n",
        "\n",
        "plot, fig = gera_grafico_geral(\"var 30 vazio\", planilha_aux_externa, \"Dados Faltantes - Passagens anteriores pelo sistema de justiça criminal - Morte Externa\",\n",
        "                               cor=\"#121fa1\", x=16, y=6, eixo_y=(0, 110, 10))\n",
        "\n",
        "loc_geral_variavel_30_vazio_2 = \"/content/drive/My Drive/codigos_colab/imagens_graficos/2/grafico_passagem_anteriores_criminal_vazio_caso_externa.png\"\n",
        "fig.savefig(loc_geral_variavel_30_vazio_2)"
      ],
      "metadata": {
        "id": "GxDeshGy2RtT"
      },
      "execution_count": null,
      "outputs": []
    },
    {
      "cell_type": "markdown",
      "source": [
        "### 31 - Há passagens anteriores pelo sistema de justiça socioeducativo?"
      ],
      "metadata": {
        "id": "9bO-BjfZr1-F"
      }
    },
    {
      "cell_type": "code",
      "source": [
        "plot, fig = gera_grafico_geral(\"31 - Há passagens anteriores pelo sistema de justiça socioeducativo?\", planilha_filtrada_interna, \"Morte Interna\", x=16, y=6, eixo_y=(0, 110, 10))\n",
        "\n",
        "loc_geral_variavel_31_1 = \"/content/drive/My Drive/codigos_colab/imagens_graficos/2/grafico_passagem_anteriores_socioeducativo_caso_interno.png\"\n",
        "fig.savefig(loc_geral_variavel_31_1)"
      ],
      "metadata": {
        "id": "94_614Rfr2_M"
      },
      "execution_count": null,
      "outputs": []
    },
    {
      "cell_type": "code",
      "source": [
        "plot, fig = gera_grafico_geral(\"31 - Há passagens anteriores pelo sistema de justiça socioeducativo?\", planilha_filtrada_externa, \"Morte Externa\", cor=\"#121fa1\", x=16, y=6, eixo_y=(0, 110, 10))\n",
        "\n",
        "loc_geral_variavel_31_2 = \"/content/drive/My Drive/codigos_colab/imagens_graficos/2/grafico_passagem_anteriores_socioeducativo_caso_externo.png\"\n",
        "fig.savefig(loc_geral_variavel_31_2)"
      ],
      "metadata": {
        "id": "AnCE0wImsKQ9"
      },
      "execution_count": null,
      "outputs": []
    },
    {
      "cell_type": "code",
      "source": [
        "### fazer o com e sem informação dessa variável aqui\n",
        "\n",
        "\n",
        "planilha_aux_interna = pd.DataFrame()\n",
        "planilha_aux_interna[\"var 31 vazio\"] = planilha_filtrada_interna[\"31 - Há passagens anteriores pelo sistema de justiça socioeducativo?\"].dropna()\n",
        "planilha_aux_interna[\"var 31 vazio\"] = np.where(planilha_aux_interna[\"var 31 vazio\"] != \"sem informação\", \"com informação\", \"sem informação\")\n",
        "print(planilha_aux_interna[\"var 31 vazio\"].value_counts())\n",
        "\n",
        "plot, fig = gera_grafico_geral(\"var 31 vazio\", planilha_aux_interna, \"Dados Faltantes - Passagens anteriores pelo sistema de justiça socioeducativo - Morte Interna\", x=16, y=6, eixo_y=(0, 110, 10))\n",
        "\n",
        "## interno\n",
        "loc_geral_variavel_31_vazio_1 = \"/content/drive/My Drive/codigos_colab/imagens_graficos/2/grafico_passagem_anteriores_socioeducativo_vazio_caso_interna.png\"\n",
        "fig.savefig(loc_geral_variavel_31_vazio_1)"
      ],
      "metadata": {
        "id": "f6Mm-iIra0TO"
      },
      "execution_count": null,
      "outputs": []
    },
    {
      "cell_type": "code",
      "source": [
        "planilha_aux_externa = pd.DataFrame()\n",
        "planilha_aux_externa[\"var 31 vazio\"] = planilha_filtrada_externa[\"31 - Há passagens anteriores pelo sistema de justiça socioeducativo?\"].dropna()\n",
        "planilha_aux_externa[\"var 31 vazio\"] = np.where(planilha_aux_externa[\"var 31 vazio\"] != \"sem informação\", \"com informação\", \"sem informação\")\n",
        "print(planilha_aux_externa[\"var 31 vazio\"].value_counts())\n",
        "\n",
        "plot, fig = gera_grafico_geral(\"var 31 vazio\", planilha_aux_externa, \"Dados Faltantes - Passagens anteriores pelo sistema de justiça socioeducativo - Morte Externa\",\n",
        "                               cor=\"#121fa1\", x=16, y=6, eixo_y=(0, 110, 10))\n",
        "\n",
        "# externo\n",
        "loc_geral_variavel_31_vazio_2 = \"/content/drive/My Drive/codigos_colab/imagens_graficos/2/grafico_passagem_anteriores_socioeducativo_vazio_caso_externa.png\"\n",
        "fig.savefig(loc_geral_variavel_31_vazio_2)"
      ],
      "metadata": {
        "id": "R8fyEchfg2U5"
      },
      "execution_count": null,
      "outputs": []
    },
    {
      "cell_type": "markdown",
      "source": [
        "### 48 - Há certidão de óbito (sim/não)? "
      ],
      "metadata": {
        "id": "lhVEXt3-s3zQ"
      }
    },
    {
      "cell_type": "code",
      "source": [
        "plot, fig = gera_grafico_geral(\"48 - Há certidão de óbito (sim/não)? \", planilha_filtrada_interna, \"Morte Interna\", x=16, y=6, eixo_y=(0, 110, 10))\n",
        "\n",
        "loc_geral_variavel_48_1 = \"/content/drive/My Drive/codigos_colab/imagens_graficos/2/grafico_existe_certidao_obito_caso_interno.png\"\n",
        "fig.savefig(loc_geral_variavel_48_1)"
      ],
      "metadata": {
        "id": "-h3ZvrBFs4-P"
      },
      "execution_count": null,
      "outputs": []
    },
    {
      "cell_type": "code",
      "source": [
        "plot, fig = gera_grafico_geral(\"48 - Há certidão de óbito (sim/não)? \", planilha_filtrada_externa, \"Morte Externa\", cor=\"#121fa1\", x=16, y=6, eixo_y=(0, 110, 10))\n",
        "\n",
        "loc_geral_variavel_48_2 = \"/content/drive/My Drive/codigos_colab/imagens_graficos/2/grafico_existe_certidao_obito_caso_externo.png\"\n",
        "fig.savefig(loc_geral_variavel_48_2)"
      ],
      "metadata": {
        "id": "tv-WX4S7tCkg"
      },
      "execution_count": null,
      "outputs": []
    },
    {
      "cell_type": "markdown",
      "source": [
        "### 61 - Houve investigação da morte?"
      ],
      "metadata": {
        "id": "KmK5CoFst9ps"
      }
    },
    {
      "cell_type": "code",
      "source": [
        "plot, fig = gera_grafico_geral(\"61 - Houve investigação da morte?\", planilha_filtrada_interna, \"Morte Interna\", x=16, y=6, eixo_y=(0, 110, 10))\n",
        "\n",
        "loc_geral_variavel_61_1 = \"/content/drive/My Drive/codigos_colab/imagens_graficos/2/grafico_houve_investigacao_morte_caso_interno.png\"\n",
        "fig.savefig(loc_geral_variavel_61_1)"
      ],
      "metadata": {
        "id": "4CZNylZtt-0D"
      },
      "execution_count": null,
      "outputs": []
    },
    {
      "cell_type": "code",
      "source": [
        "plot, fig = gera_grafico_geral(\"61 - Houve investigação da morte?\", planilha_filtrada_externa, \"Morte Externa\", cor=\"#121fa1\", x=16, y=6, eixo_y=(0, 110, 10))\n",
        "\n",
        "loc_geral_variavel_61_2 = \"/content/drive/My Drive/codigos_colab/imagens_graficos/2/grafico_houve_investigacao_morte_caso_externo.png\"\n",
        "fig.savefig(loc_geral_variavel_61_2)"
      ],
      "metadata": {
        "id": "tv0UiWZBuCDt"
      },
      "execution_count": null,
      "outputs": []
    },
    {
      "cell_type": "code",
      "source": [
        "### fazer o com e sem informação dessa variável aqui\n",
        "\n",
        "planilha_aux_interna = pd.DataFrame()\n",
        "planilha_aux_interna[\"var 61 vazio\"] = planilha_filtrada_interna[\"61 - Houve investigação da morte?\"].dropna()\n",
        "planilha_aux_interna[\"var 61 vazio\"] = np.where(planilha_aux_interna[\"var 61 vazio\"] != \"sem informação\", \"com informação\", \"sem informação\")\n",
        "print(planilha_aux_interna[\"var 61 vazio\"].value_counts())\n",
        "\n",
        "plot, fig = gera_grafico_geral(\"var 61 vazio\", planilha_aux_interna, \"Dados Faltantes - Houve investigação da morte? - Morte Interna\", x=16, y=6, eixo_y=(0, 110, 10))\n",
        "\n",
        "## interno\n",
        "loc_geral_variavel_61_vazio_1 = \"/content/drive/My Drive/codigos_colab/imagens_graficos/2/grafico_investigacao_morte_vazio_interna.png\"\n",
        "fig.savefig(loc_geral_variavel_61_vazio_1)"
      ],
      "metadata": {
        "id": "C-u0xaHzbbjR"
      },
      "execution_count": null,
      "outputs": []
    },
    {
      "cell_type": "code",
      "source": [
        "planilha_aux_externa = pd.DataFrame()\n",
        "planilha_aux_externa[\"var 61 vazio\"] = planilha_filtrada_externa[\"61 - Houve investigação da morte?\"].dropna()\n",
        "planilha_aux_externa[\"var 61 vazio\"] = np.where(planilha_aux_externa[\"var 61 vazio\"] != \"sem informação\", \"com informação\", \"sem informação\")\n",
        "print(planilha_aux_externa[\"var 61 vazio\"].value_counts())\n",
        "\n",
        "plot, fig = gera_grafico_geral(\"var 61 vazio\", planilha_aux_externa, \"Dados Faltantes - Houve investigação da morte? - Morte Externa\", cor=\"#121fa1\", x=16, y=6, eixo_y=(0, 110, 10))\n",
        "\n",
        "# externo\n",
        "loc_geral_variavel_61_vazio_2 = \"/content/drive/My Drive/codigos_colab/imagens_graficos/2/grafico_investigacao_morte_vazio_externa.png\"\n",
        "fig.savefig(loc_geral_variavel_61_vazio_2)"
      ],
      "metadata": {
        "id": "3vPlu8mLhw8M"
      },
      "execution_count": null,
      "outputs": []
    },
    {
      "cell_type": "markdown",
      "source": [
        "### 68 - Houve perícia?"
      ],
      "metadata": {
        "id": "WnGEC-DHujkD"
      }
    },
    {
      "cell_type": "code",
      "source": [
        "plot, fig = gera_grafico_geral(\"68 - Houve perícia?\", planilha_filtrada_interna, \"Morte Interna\", x=16, y=6, eixo_y=(0, 110, 10))\n",
        "\n",
        "# loc_geral_variavel_68_1 = \"/content/drive/My Drive/codigos_colab/imagens_graficos/2/grafico_houve_pericia_caso_interno.png\"\n",
        "# fig.savefig(loc_geral_variavel_68_1)"
      ],
      "metadata": {
        "colab": {
          "base_uri": "https://localhost:8080/",
          "height": 425
        },
        "id": "Is7dDVyEukI4",
        "outputId": "a8211130-5703-4ead-9670-9af6487f53b4"
      },
      "execution_count": 22,
      "outputs": [
        {
          "output_type": "display_data",
          "data": {
            "text/plain": [
              "<Figure size 1152x432 with 1 Axes>"
            ],
            "image/png": "[encoded data removed]"
          },
          "metadata": {}
        }
      ]
    },
    {
      "cell_type": "code",
      "source": [
        "plot, fig = gera_grafico_geral(\"68 - Houve perícia?\", planilha_filtrada_externa, \"Morte Externa\", cor=\"#121fa1\", x=20, y=10, eixo_y=(0, 110, 10), fonttamanho=17, fonttitulo=22, fontlabel=17)\n",
        "\n",
        "loc_geral_variavel_68_2 = \"/content/drive/My Drive/codigos_colab/imagens_graficos/2/grafico_houve_pericia_caso_externo.png\"\n",
        "fig.savefig(loc_geral_variavel_68_2)"
      ],
      "metadata": {
        "id": "Eb13t-EMumcZ"
      },
      "execution_count": null,
      "outputs": []
    },
    {
      "cell_type": "code",
      "source": [
        "planilha_aux_interna = pd.DataFrame()\n",
        "planilha_aux_interna[\"var 68 vazio\"] = planilha_filtrada_interna[\"68 - Houve perícia?\"].dropna()\n",
        "planilha_aux_interna[\"var 68 vazio\"] = np.where(planilha_aux_interna[\"var 68 vazio\"] != \"sem informação\", \"com informação\", \"sem informação\")\n",
        "print(planilha_aux_interna[\"var 68 vazio\"].value_counts())\n",
        "\n",
        "plot, fig = gera_grafico_geral(\"var 68 vazio\", planilha_aux_interna, \"Dados Faltantes - Houve perícia? - Morte Interna\", x=16, y=6, eixo_y=(0, 110, 10))\n",
        "\n",
        "\n",
        "## interno\n",
        "# loc_geral_variavel_68_vazio_1 = \"/content/drive/My Drive/codigos_colab/imagens_graficos/2/grafico_houve_pericia_vazio_interna.png\"\n",
        "# fig.savefig(loc_geral_variavel_68_vazio_1)"
      ],
      "metadata": {
        "id": "pW7XKn8ubyNO",
        "colab": {
          "base_uri": "https://localhost:8080/",
          "height": 480
        },
        "outputId": "eb8cb941-39fa-41e3-8e9c-f30f5d69b223"
      },
      "execution_count": 24,
      "outputs": [
        {
          "output_type": "stream",
          "name": "stdout",
          "text": [
            "sem informação    86\n",
            "com informação    28\n",
            "Name: var 68 vazio, dtype: int64\n"
          ]
        },
        {
          "output_type": "display_data",
          "data": {
            "text/plain": [
              "<Figure size 1152x432 with 1 Axes>"
            ],
            "image/png": "[encoded data removed]"
          },
          "metadata": {}
        }
      ]
    },
    {
      "cell_type": "code",
      "source": [
        "planilha_aux_externa = pd.DataFrame()\n",
        "planilha_aux_externa[\"var 68 vazio\"] = planilha_filtrada_externa[\"68 - Houve perícia?\"].dropna()\n",
        "planilha_aux_externa[\"var 68 vazio\"] = np.where(planilha_aux_externa[\"var 68 vazio\"] != \"sem informação\", \"com informação\", \"sem informação\")\n",
        "print(planilha_aux_externa[\"var 68 vazio\"].value_counts())\n",
        "\n",
        "plot, fig = gera_grafico_geral(\"var 68 vazio\", planilha_aux_externa, \"Dados Faltantes - Houve perícia? - Morte Externa\", cor=\"#121fa1\", x=16, y=6, eixo_y=(0, 110, 10))\n",
        "\n",
        "# externo\n",
        "loc_geral_variavel_68_vazio_2 = \"/content/drive/My Drive/codigos_colab/imagens_graficos/2/grafico_houve_pericia_vazio_externa.png\"\n",
        "fig.savefig(loc_geral_variavel_68_vazio_2)"
      ],
      "metadata": {
        "id": "3ySn7ul8iUxy"
      },
      "execution_count": null,
      "outputs": []
    },
    {
      "cell_type": "markdown",
      "source": [
        "### 23 - Escolaridade"
      ],
      "metadata": {
        "id": "FehlAulqpVcR"
      }
    },
    {
      "cell_type": "code",
      "source": [
        "# plot, fig = gera_grafico_geral(\"23 - Escolaridade\", planilha_filtrada_interna, \"Morte Interna\", x=16, y=6, eixo_y=(0, 110, 10))"
      ],
      "metadata": {
        "id": "rODMofPcpXk0"
      },
      "execution_count": null,
      "outputs": []
    },
    {
      "cell_type": "code",
      "source": [
        "# plot, fig = gera_grafico_geral(\"23 - Escolaridade\", planilha_filtrada_externa, \"Morte Externa\", cor=\"#121fa1\", x=16, y=6, eixo_y=(0, 110, 10))"
      ],
      "metadata": {
        "id": "7T48zHBUpvsU"
      },
      "execution_count": null,
      "outputs": []
    },
    {
      "cell_type": "code",
      "source": [
        "planilha_aux_interna = pd.DataFrame()\n",
        "planilha_aux_interna[\"var 23 vazio\"] = planilha_filtrada_interna[\"23 - Escolaridade\"].dropna()\n",
        "planilha_aux_interna[\"var 23 vazio\"] = np.where(planilha_aux_interna[\"var 23 vazio\"] != \"sem informação\", \"com informação\", \"sem informação\")\n",
        "print(planilha_aux_interna[\"var 23 vazio\"].value_counts())\n",
        "\n",
        "plot, fig = gera_grafico_geral(\"var 23 vazio\", planilha_aux_interna, \"Quantidade de Dados Faltantes - Escolaridade - Morte Interna\", x=16, y=6, eixo_y=(0, 110, 10))\n",
        "\n",
        "# interno\n",
        "# loc_geral_variavel_23_vazio_1 = \"/content/drive/My Drive/codigos_colab/imagens_graficos/2/grafico_escolaridade_vazio_caso_interna.png\"\n",
        "# fig.savefig(loc_geral_variavel_23_vazio_1)"
      ],
      "metadata": {
        "colab": {
          "base_uri": "https://localhost:8080/",
          "height": 480
        },
        "id": "ZUT1Zy46p0Jw",
        "outputId": "70b0c597-7273-4c6f-9086-b5241a0ea434"
      },
      "execution_count": 26,
      "outputs": [
        {
          "output_type": "stream",
          "name": "stdout",
          "text": [
            "com informação    67\n",
            "sem informação    46\n",
            "Name: var 23 vazio, dtype: int64\n"
          ]
        },
        {
          "output_type": "display_data",
          "data": {
            "text/plain": [
              "<Figure size 1152x432 with 1 Axes>"
            ],
            "image/png": "[encoded data removed]"
          },
          "metadata": {}
        }
      ]
    },
    {
      "cell_type": "code",
      "source": [
        "planilha_aux_externa = pd.DataFrame()\n",
        "planilha_aux_externa[\"var 23 vazio\"] = planilha_filtrada_externa[\"23 - Escolaridade\"].dropna()\n",
        "planilha_aux_externa[\"var 23 vazio\"] = np.where(planilha_aux_externa[\"var 23 vazio\"] != \"sem informação\", \"com informação\", \"sem informação\")\n",
        "print(planilha_aux_externa[\"var 23 vazio\"].value_counts())\n",
        "\n",
        "plot, fig = gera_grafico_geral(\"var 23 vazio\", planilha_aux_externa, \"Quantidade de Dados Faltantes - Escolaridade - Morte Externa\", cor=\"#121fa1\", x=16, y=6, eixo_y=(0, 110, 10))\n",
        "\n",
        "# externo\n",
        "loc_geral_variavel_23_vazio_2 = \"/content/drive/My Drive/codigos_colab/imagens_graficos/2/grafico_escolaridade_vazio_caso_externa.png\"\n",
        "fig.savefig(loc_geral_variavel_23_vazio_2)"
      ],
      "metadata": {
        "id": "-Qcp62yYqUys"
      },
      "execution_count": null,
      "outputs": []
    },
    {
      "cell_type": "markdown",
      "source": [
        "### 22 - Situação de saúde"
      ],
      "metadata": {
        "id": "SNukbDRXqyJ0"
      }
    },
    {
      "cell_type": "code",
      "source": [
        "planilha_filtrada_interna[\"22 - Situação de saúde com comorbidade (descreva na opção outros)\"] = planilha_filtrada_interna[\"22 - Situação de saúde com comorbidade (descreva na opção outros)\"].astype(str).str.replace(\",|\\+\",\";\", regex = True)\n",
        "planilha_filtrada_interna[\"22 - Situação de saúde com comorbidade (descreva na opção outros)\"] = planilha_filtrada_interna[\"22 - Situação de saúde com comorbidade (descreva na opção outros)\"].astype(str).str.replace(\"(?:)\\se\\s\",\";\", regex = True)\n",
        "planilha_filtrada_interna[\"22 - Situação de saúde com comorbidade (descreva na opção outros)\"] = planilha_filtrada_interna[\"22 - Situação de saúde com comorbidade (descreva na opção outros)\"].astype(str).str.replace(\"nan\",\"\", regex = True)\n",
        "\n",
        "# pd.set_option('display.max_rows', None)\n",
        "# print(planilha_filtrada[\"22 - Situação de saúde com comorbidade (descreva na opção outros)\"])\n",
        "\n",
        "arr_qtd_comorb = []\n",
        "dict_grupos_comorb = {}\n",
        "com_informacao = 0\n",
        "sem_informacao = 0\n",
        "\n",
        "for line in planilha_filtrada_interna[\"22 - Situação de saúde com comorbidade (descreva na opção outros)\"]:\n",
        "  if pd.isnull(line):\n",
        "    arr_qtd_comorb.append(None)\n",
        "    continue\n",
        "\n",
        "  if \";\" not in line:\n",
        "    doc_sanitizado = strip_accents(line).strip().lower()\n",
        "    if doc_sanitizado == \"\":\n",
        "      arr_qtd_comorb.append(None)\n",
        "      continue\n",
        "    if doc_sanitizado == \"sem informacao\":\n",
        "      arr_qtd_comorb.append(None)\n",
        "      sem_informacao += 1\n",
        "      if doc_sanitizado not in dict_grupos_comorb.keys():\n",
        "        dict_grupos_comorb[doc_sanitizado] = 1\n",
        "      else:\n",
        "        dict_grupos_comorb[doc_sanitizado] += 1\n",
        "      continue\n",
        "    if doc_sanitizado == \"nao\":\n",
        "      arr_qtd_comorb.append(0)\n",
        "      com_informacao += 1\n",
        "      continue\n",
        "    arr_qtd_comorb.append(1)\n",
        "    com_informacao += 1\n",
        "    if doc_sanitizado not in dict_grupos_comorb.keys():\n",
        "      dict_grupos_comorb[doc_sanitizado] = 1\n",
        "    else:\n",
        "      dict_grupos_comorb[doc_sanitizado] += 1\n",
        "  else:\n",
        "    com_informacao += 1\n",
        "    docs = line.split(\";\")\n",
        "    arr_qtd_comorb.append(len(docs))\n",
        "    for doc in docs:\n",
        "      doc_sanitizado = doc.strip().lower()\n",
        "      if doc_sanitizado == \"\":\n",
        "        continue\n",
        "      if doc_sanitizado not in dict_grupos_comorb.keys():\n",
        "        dict_grupos_comorb[doc_sanitizado] = 1\n",
        "      else:\n",
        "        dict_grupos_comorb[doc_sanitizado] += 1\n",
        "\n",
        "\n",
        "\n",
        "  \n",
        "dic_vazios = {}\n",
        "dic_vazios[\"com informação\"] = com_informacao\n",
        "dic_vazios[\"sem informação\"] = sem_informacao\n",
        "print(dic_vazios)\n",
        "\n",
        "\n",
        "df_vazios_interna = pd.DataFrame.from_dict(dic_vazios, orient='index')\n",
        "print(df_vazios_interna)\n",
        "df_vazios_interna.rename(columns = {0: \"quantidade\"}, inplace = True)\n",
        "print(df_vazios_interna)\n",
        "df_vazios_interna['porcentagem'] = df_vazios_interna['quantidade']/df_vazios_interna['quantidade'].sum()*100\n",
        "print(df_vazios_interna)\n",
        "# df_new_vazios_externa = df_vazios_externa.T\n",
        "print(df_vazios_interna)\n",
        "\n",
        "# # print(df_new_vazios_externa)\n",
        "# # print(df_vazios_externa.T)\n",
        "# df_new_vazios_externa = df_vazios_externa.T\n",
        "# print(df_new_vazios_externa)\n",
        "# df_new_vazios_externa['porcentagem'] = df_new_vazios_externa['quantidade']/df_new_vazios_externa['quantidade'].sum()*100\n",
        "# print(df_new_vazios_externa)\n",
        "\n",
        "plt.style.use(['ggplot'])\n",
        "fig, ax = plt.subplots(figsize=(16,8))\n",
        "fig.suptitle(\"Quantidade de Dados Faltantes - Situação de Saúde - Morte Interna\", fontsize=24)\n",
        "df_vazios_interna['porcentagem'].plot(ax=ax, kind='barh', color=['#ba2e2e'], fontsize=15, edgecolor=\"black\")\n",
        "ax.bar_label(ax.containers[0], labels=combine(df_vazios_interna['quantidade'],df_vazios_interna['porcentagem']), fontsize=20)\n",
        "plt.ylabel(None)\n",
        "plt.xticks(range(0, 110, 10))\n",
        "# loc_geral_variavel_situacao_saude_interna_vazio_2 = \"/content/drive/My Drive/codigos_colab/imagens_graficos/2/grafico_situacao_saude_vazio_interna_2.png\"\n",
        "# fig.savefig(loc_geral_variavel_situacao_saude_interna_vazio_2)"
      ],
      "metadata": {
        "colab": {
          "base_uri": "https://localhost:8080/",
          "height": 1000
        },
        "id": "Cf36TrKxqxLe",
        "outputId": "8349b0a3-5b2e-4335-d0bc-901c46141834"
      },
      "execution_count": 104,
      "outputs": [
        {
          "output_type": "stream",
          "name": "stdout",
          "text": [
            "{'com informação': 30, 'sem informação': 84}\n",
            "                 0\n",
            "com informação  30\n",
            "sem informação  84\n",
            "                quantidade\n",
            "com informação          30\n",
            "sem informação          84\n",
            "                quantidade  porcentagem\n",
            "com informação          30    26.315789\n",
            "sem informação          84    73.684211\n",
            "                quantidade  porcentagem\n",
            "com informação          30    26.315789\n",
            "sem informação          84    73.684211\n"
          ]
        },
        {
          "output_type": "stream",
          "name": "stderr",
          "text": [
            "<ipython-input-104-fd175edd8da3>:1: SettingWithCopyWarning: \n",
            "A value is trying to be set on a copy of a slice from a DataFrame.\n",
            "Try using .loc[row_indexer,col_indexer] = value instead\n",
            "\n",
            "See the caveats in the documentation: https://pandas.pydata.org/pandas-docs/stable/user_guide/indexing.html#returning-a-view-versus-a-copy\n",
            "  planilha_filtrada_interna[\"22 - Situação de saúde com comorbidade (descreva na opção outros)\"] = planilha_filtrada_interna[\"22 - Situação de saúde com comorbidade (descreva na opção outros)\"].astype(str).str.replace(\",|\\+\",\";\", regex = True)\n",
            "<ipython-input-104-fd175edd8da3>:2: SettingWithCopyWarning: \n",
            "A value is trying to be set on a copy of a slice from a DataFrame.\n",
            "Try using .loc[row_indexer,col_indexer] = value instead\n",
            "\n",
            "See the caveats in the documentation: https://pandas.pydata.org/pandas-docs/stable/user_guide/indexing.html#returning-a-view-versus-a-copy\n",
            "  planilha_filtrada_interna[\"22 - Situação de saúde com comorbidade (descreva na opção outros)\"] = planilha_filtrada_interna[\"22 - Situação de saúde com comorbidade (descreva na opção outros)\"].astype(str).str.replace(\"(?:)\\se\\s\",\";\", regex = True)\n",
            "<ipython-input-104-fd175edd8da3>:3: SettingWithCopyWarning: \n",
            "A value is trying to be set on a copy of a slice from a DataFrame.\n",
            "Try using .loc[row_indexer,col_indexer] = value instead\n",
            "\n",
            "See the caveats in the documentation: https://pandas.pydata.org/pandas-docs/stable/user_guide/indexing.html#returning-a-view-versus-a-copy\n",
            "  planilha_filtrada_interna[\"22 - Situação de saúde com comorbidade (descreva na opção outros)\"] = planilha_filtrada_interna[\"22 - Situação de saúde com comorbidade (descreva na opção outros)\"].astype(str).str.replace(\"nan\",\"\", regex = True)\n"
          ]
        },
        {
          "output_type": "execute_result",
          "data": {
            "text/plain": [
              "([<matplotlib.axis.XTick at 0x7f328e8ae6d0>,\n",
              "  <matplotlib.axis.XTick at 0x7f328e8ae400>,\n",
              "  <matplotlib.axis.XTick at 0x7f328e771eb0>,\n",
              "  <matplotlib.axis.XTick at 0x7f328e771a60>,\n",
              "  <matplotlib.axis.XTick at 0x7f328e82caf0>,\n",
              "  <matplotlib.axis.XTick at 0x7f328e90deb0>,\n",
              "  <matplotlib.axis.XTick at 0x7f328e817df0>,\n",
              "  <matplotlib.axis.XTick at 0x7f328e7ba190>,\n",
              "  <matplotlib.axis.XTick at 0x7f328e7982e0>,\n",
              "  <matplotlib.axis.XTick at 0x7f328e992a00>,\n",
              "  <matplotlib.axis.XTick at 0x7f328e798b20>],\n",
              " [Text(0, 0, ''),\n",
              "  Text(0, 0, ''),\n",
              "  Text(0, 0, ''),\n",
              "  Text(0, 0, ''),\n",
              "  Text(0, 0, ''),\n",
              "  Text(0, 0, ''),\n",
              "  Text(0, 0, ''),\n",
              "  Text(0, 0, ''),\n",
              "  Text(0, 0, ''),\n",
              "  Text(0, 0, ''),\n",
              "  Text(0, 0, '')])"
            ]
          },
          "metadata": {},
          "execution_count": 104
        },
        {
          "output_type": "display_data",
          "data": {
            "text/plain": [
              "<Figure size 1152x576 with 1 Axes>"
            ],
            "image/png": "[encoded data removed]"
          },
          "metadata": {}
        }
      ]
    },
    {
      "cell_type": "code",
      "source": [
        "planilha_filtrada_externa[\"22 - Situação de saúde com comorbidade (descreva na opção outros)\"] = planilha_filtrada_externa[\"22 - Situação de saúde com comorbidade (descreva na opção outros)\"].astype(str).str.replace(\",\",\";\", regex = True)\n",
        "planilha_filtrada_externa[\"22 - Situação de saúde com comorbidade (descreva na opção outros)\"] = planilha_filtrada_externa[\"22 - Situação de saúde com comorbidade (descreva na opção outros)\"].astype(str).str.replace(\"(?:)\\se\\s\",\";\", regex = True)\n",
        "planilha_filtrada_externa[\"22 - Situação de saúde com comorbidade (descreva na opção outros)\"] = planilha_filtrada_externa[\"22 - Situação de saúde com comorbidade (descreva na opção outros)\"].astype(str).str.replace(\"nan\",\"\", regex = True)\n",
        "# pd.set_option('display.max_rows', None)\n",
        "# print(planilha_filtrada[\"22 - Situação de saúde com comorbidade (descreva na opção outros)\"])\n",
        "\n",
        "# pd.set_option(\"max_rows\", None)\n",
        "# print(planilha_filtrada_externa[\"22 - Situação de saúde com comorbidade (descreva na opção outros)\"])\n",
        "\n",
        "arr_qtd_comorb = []\n",
        "dict_grupos_comorb = {}\n",
        "com_informacao = 0\n",
        "sem_informacao = 0\n",
        "\n",
        "for line in planilha_filtrada_externa[\"22 - Situação de saúde com comorbidade (descreva na opção outros)\"]:\n",
        "  if pd.isnull(line):\n",
        "    arr_qtd_comorb.append(None)\n",
        "    print(\"vazio\")\n",
        "    continue\n",
        "\n",
        "  if \";\" not in line:\n",
        "    doc_sanitizado = strip_accents(line).strip().lower()\n",
        "    if doc_sanitizado == \"\":\n",
        "      arr_qtd_comorb.append(None)\n",
        "      print(\"vazio\")\n",
        "      continue\n",
        "    if doc_sanitizado == \"sem informacao\":\n",
        "      arr_qtd_comorb.append(None)\n",
        "      sem_informacao += 1\n",
        "      if doc_sanitizado not in dict_grupos_comorb.keys():\n",
        "        dict_grupos_comorb[doc_sanitizado] = 1\n",
        "      else:\n",
        "        dict_grupos_comorb[doc_sanitizado] += 1\n",
        "      continue\n",
        "    if doc_sanitizado == \"nao\":\n",
        "      arr_qtd_comorb.append(0)\n",
        "      com_informacao += 1\n",
        "      continue\n",
        "    arr_qtd_comorb.append(1)\n",
        "    if doc_sanitizado not in dict_grupos_comorb.keys():\n",
        "      dict_grupos_comorb[doc_sanitizado] = 1\n",
        "      com_informacao += 1\n",
        "    else:\n",
        "      dict_grupos_comorb[doc_sanitizado] += 1\n",
        "      com_informacao += 1\n",
        "  else:\n",
        "    docs = line.split(\";\")\n",
        "    arr_qtd_comorb.append(len(docs))\n",
        "    com_informacao += 1\n",
        "    for doc in docs:\n",
        "      doc_sanitizado = doc.strip().lower()\n",
        "      if doc_sanitizado == \"\":\n",
        "        continue\n",
        "      if doc_sanitizado not in dict_grupos_comorb.keys():\n",
        "        dict_grupos_comorb[doc_sanitizado] = 1\n",
        "      else:\n",
        "        dict_grupos_comorb[doc_sanitizado] += 1\n",
        "        \n",
        "\n",
        "\n",
        "\n",
        "  \n",
        "dic_vazios = {}\n",
        "dic_vazios[\"com informação\"] = com_informacao\n",
        "dic_vazios[\"sem informação\"] = sem_informacao\n",
        "print(dic_vazios)\n",
        "\n",
        "print(dict_grupos_comorb)\n",
        "df_vazios_externa = pd.DataFrame.from_dict(dic_vazios, orient='index')\n",
        "print(df_vazios_externa)\n",
        "df_vazios_externa.rename(columns = {0: \"quantidade\"}, inplace = True)\n",
        "print(df_vazios_externa)\n",
        "df_vazios_externa['porcentagem'] = df_vazios_externa['quantidade']/df_vazios_externa['quantidade'].sum()*100\n",
        "print(df_vazios_externa)\n",
        "# df_new_vazios_externa = df_vazios_externa.T\n",
        "# print(df_vazios_externa)\n",
        "\n",
        "# # print(df_new_vazios_externa)\n",
        "# # print(df_vazios_externa.T)\n",
        "# df_new_vazios_externa = df_vazios_externa.T\n",
        "# print(df_new_vazios_externa)\n",
        "# df_new_vazios_externa['porcentagem'] = df_new_vazios_externa['quantidade']/df_new_vazios_externa['quantidade'].sum()*100\n",
        "# print(df_new_vazios_externa)\n",
        "\n",
        "plt.style.use(['ggplot'])\n",
        "fig, ax = plt.subplots(figsize=(16,8))\n",
        "fig.suptitle(\"Quantidade de Dados Faltantes - Situação de Saúde - Morte Externa\", fontsize=24)\n",
        "df_vazios_externa['porcentagem'].plot(ax=ax, kind='barh', color=['#121fa1'], fontsize=15, edgecolor=\"black\")\n",
        "ax.bar_label(ax.containers[0], labels=combine(df_vazios_externa['quantidade'],df_vazios_externa['porcentagem']), fontsize=20)\n",
        "plt.ylabel(None)\n",
        "plt.xticks(range(0, 110, 10))\n",
        "\n",
        "\n",
        "# loc_geral_variavel_situacao_saude_externa_vazio_2 = \"/content/drive/My Drive/codigos_colab/imagens_graficos/2/grafico_situacao_saude_vazio_externa_2.png\"\n",
        "# fig.savefig(loc_geral_variavel_situacao_saude_externa_vazio_2)"
      ],
      "metadata": {
        "colab": {
          "base_uri": "https://localhost:8080/",
          "height": 1000
        },
        "id": "sGDEo5TTyvXI",
        "outputId": "a21f7271-2a49-4bf0-b337-ba7f33da080c"
      },
      "execution_count": 103,
      "outputs": [
        {
          "output_type": "stream",
          "name": "stdout",
          "text": [
            "vazio\n",
            "vazio\n",
            "vazio\n",
            "vazio\n",
            "vazio\n",
            "vazio\n",
            "vazio\n",
            "vazio\n",
            "{'com informação': 106, 'sem informação': 938}\n",
            "{'sem informacao': 938, 'miocardia dilatada grave': 1, 'obesidade': 1, 'hiv positivo. informação sobre saúde nos autos: internado desde 10/04/2018 no hgr na uti devido ao quadro de abdome agudo perfurativo': 1, 'sendo submetido a laparotomia exploradora com ressecção': 1, 'rafia lesão em jejuno': 1, 'em 30/04/2018. recebeu alta hospitalar em 24/05/2018.': 1, 'a pessoa utilizava sonda': 1, 'dreno para urinar': 1, 'devido a uma grave fratura sofrida na região da bacia durante o trabalho': 1, 'dores pulmonares': 1, 'escarra sangue': 1, 'com deficit de apetite': 1, 'dores no estômago': 1, 'tuberculose': 8, 'diabetes': 6, 'hipertensão': 6, 'cardiopatia': 1, 'uso de cadeira de rodas em função de discopatia degenerativa (idoso)': 1, 'necessidade de tratamento em razão de pinos no pé + tratamento psiquiátrico': 1, 'em razão de \"fortes dores de cabeça': 1, 'com surtos frequentes de epilepsia': 1, 'além de dores na clavícula': 1, 'em decorrência desses ataques epiléticos\" (fls. 94': 1, 'fls. 173) + fistula anal': 1, 'tenho sido encaminhado para cirurgia enquanto preso + tuberculose pulmonar desde 2020 (época em que estava preso)': 1, 'dependente químico': 1, 'portador de diabetes crônica': 1, 'crises epiléticas': 1, 'cardioatia grave (cid 10 – i 20.9)': 1, 'psicose não-orgânica não especificada (cid f29)': 1, 'transtorno depressivo recorrente': 1, 'episódio atual moderado (f33.1)': 1, 'transtornos mentais': 1, 'comportamentais devidos ao uso de álcool (f10)': 1, 'malaria': 1, 'pneumonia': 2, 'chikungunya': 1, 'necessidade de tratamento pneumologico': 1, 'saude fragilizada em razao de recuperacao de lesao grave': 1, 'esofagite erosiva intensa - grau d de los angeles': 1, 'bulboduodenite ulcerativa intensa com sinais de sangramento': 1, 'disturbio de saude mental borderline': 1, 'dependente quimico': 1, 'dependente química': 1, 'portadora de transtornos mentais': 1, 'depressão': 1, 'passou por cirurgia no coração': 1, 'instalou uma válvula': 1, 'idoso (84 anos)': 1, 'escotoma absoluto': 1, 'problemas cardiológicos': 1, 'cancer': 2, 'neoplasia maligna de hipofaringe': 1, 'traqueostomia': 1, 'câncer': 1, 'leucemia': 1, 'neoplasia maligma hematológica': 1, 'uso abusivo de drogas (crack)': 1, 'no curso do processo a defensoria pública pede que seja instaurado incidente de insanidade mental': 1, '\"vício em drogas\" do denunciado. o juiz': 1, 'porém nega dizendo não haver provas dos problemas psicológicos alegados.': 1, 'hipertensao': 2, 'diabates': 1, 'tratamento hemodialitico para doença renal': 1, 'foi juntado ao processo laudo medico que atestava que edilson fazia acompanhamento psiquiatrico no caps por ser portador de esquizofrenia (cid f20).': 1, 'doença metástica na coluna vertebral': 1, 'costelas': 1, 'sacro': 1, 'ilíaco': 1, 'aumento de volume prostático com sintomas luts leve': 1, 'oncologia': 1, 'uso abusivo de drogas': 6, 'doença renal em estágio final': 1, 'saude mental': 1, 'lesao decorrente de disparo de arma de fogo': 1, 'condicao de saude nao especificada': 1, 'saúde mental': 1, 'esquizofrenia paranoide': 1, 'hiv': 2, 'cirrose hepatica': 1, 'hipertensao arterial': 1, 'adenocarcinoma': 1, 'asma': 3, 'alcoolismo': 1, 'idoso: cardiopatia hipertensiva': 1, 'cardiopatia crônica': 1, 'insuficiência cardíaca congestiva': 1, 'arritmia cardíaca': 1, 'tumor/cancer - neoplasia de comportamento incerto ou desconhecido de rinofaringe': 1, 'pielonefrite crônica (cidio n 11)': 1, 'hidrocele bilateral (cldlo n43)': 1, 'cisto de epidídimo esquerdo (cidio n 51)': 1, 'portador de isquemia miocárdica': 1, 'has (cid = i25': 1, 'i10). foi submetido a cateterismo cardíaco': 1, 'angioplastia com colocação de 2 stents na coronária direita. é portador de lesão grave com comprometimento miocárdico evidenciado no ecocardiograma. apresenta hipertensão arterial em controle medicamentoso.': 1, 'possui uma hernia': 1, 'diabetes mellitus nao especificado com complicacoes neurologicas': 1, 'portador de doença de parkinson (uso de medicamento)': 1, 'lupus': 1, 'insuficiência coronária com difusão miocárdio moderada': 1, 'bronquite': 1, 'aneurisma de aorta ascendente': 1, 'tuberculose multiresistente com destruição do parenquima pulmonar': 1, 'necessidade de uso contínuo de oxigênio': 1, 'neoplasia de pancreas': 1, 'questões diversas de saúde mental (exemplos: diagnóstico de esquizofrenia': 1, 'ansiedade': 1, 'verborragia': 1, 'frouxidão associativa': 1, 'delírios paranoides': 1, 'de auto-referência': 1, 'alucinações visuais': 1, 'sintomas psicóticos': 1, 'etc.)': 1, 'visíveis problemas de saúde (utiliza-se de sonda externa para urinar)': 1, 'câncer de próstata': 1, 'cid f19.2 (transtornos mentais e comportamentais devidos ao uso de multiplas drogas e ao uso de outras substancias psicoativas - sindrome de dependencia)': 1, 'portador de alzheimer': 1, 'parkinson': 2, 'problemas de saúde no trato gastrointestinal': 1, 'não conseguindo se alimentar apropriadamente': 1, 'estando isolado dos demais presos da unidade prisional.': 1, 'neoplasia maligna da prostata (cid c61) - cancer em estagio terminal': 1, 'idoso': 1, 'hanseniase': 1, 'hiv/aids': 1, 'pessoa em tratamento psiquiátrico (cids f14': 1, 'f32': 1, 'f34': 1, 'f41)': 1, 'esquizofrenia': 1, 'historico de acidente com traumatismo craniano': 1, 'dependencia quimica': 1, 'colostomia': 1, 'paresia': 1, 'uso de traqueostomia': 1, 'histórico de pneumonia bacteriana': 1, 'vicio em crack': 1, 'problemas cardíacos': 1, 'angioplastia coronária com estente': 1, 'cid 10 c50.9 neoplasia maligna (cancer)': 1, '\"hemiparesia direita grave': 1, 'necessitar de hemodiálise por tempo indeterminado\"': 1, 'de acordo com manifestação do mp favorável à domiciliar': 1, 'fazia uso de bolsa de colostomia': 1, 'utilização de bolsa coletora': 1, 'tipo sonda': 1, 'problemas cardiologicos (cid i25)': 1, 'neoplasia maligna do encefalo nao especificado': 1, 'epigastralgia': 1, 'transtornos de saude mental': 1, 'queimaduras com necessidade de cuidado intensivo': 1, 'problemas no coração': 1, 'problemas na coluna': 1, 'cid s82': 1, 'afastado pelo inss': 1}\n",
            "                  0\n",
            "com informação  106\n",
            "sem informação  938\n",
            "                quantidade\n",
            "com informação         106\n",
            "sem informação         938\n",
            "                quantidade  porcentagem\n",
            "com informação         106    10.153257\n",
            "sem informação         938    89.846743\n"
          ]
        },
        {
          "output_type": "stream",
          "name": "stderr",
          "text": [
            "<ipython-input-103-7f91e172c6ad>:1: SettingWithCopyWarning: \n",
            "A value is trying to be set on a copy of a slice from a DataFrame.\n",
            "Try using .loc[row_indexer,col_indexer] = value instead\n",
            "\n",
            "See the caveats in the documentation: https://pandas.pydata.org/pandas-docs/stable/user_guide/indexing.html#returning-a-view-versus-a-copy\n",
            "  planilha_filtrada_externa[\"22 - Situação de saúde com comorbidade (descreva na opção outros)\"] = planilha_filtrada_externa[\"22 - Situação de saúde com comorbidade (descreva na opção outros)\"].astype(str).str.replace(\",\",\";\", regex = True)\n",
            "<ipython-input-103-7f91e172c6ad>:2: SettingWithCopyWarning: \n",
            "A value is trying to be set on a copy of a slice from a DataFrame.\n",
            "Try using .loc[row_indexer,col_indexer] = value instead\n",
            "\n",
            "See the caveats in the documentation: https://pandas.pydata.org/pandas-docs/stable/user_guide/indexing.html#returning-a-view-versus-a-copy\n",
            "  planilha_filtrada_externa[\"22 - Situação de saúde com comorbidade (descreva na opção outros)\"] = planilha_filtrada_externa[\"22 - Situação de saúde com comorbidade (descreva na opção outros)\"].astype(str).str.replace(\"(?:)\\se\\s\",\";\", regex = True)\n",
            "<ipython-input-103-7f91e172c6ad>:3: SettingWithCopyWarning: \n",
            "A value is trying to be set on a copy of a slice from a DataFrame.\n",
            "Try using .loc[row_indexer,col_indexer] = value instead\n",
            "\n",
            "See the caveats in the documentation: https://pandas.pydata.org/pandas-docs/stable/user_guide/indexing.html#returning-a-view-versus-a-copy\n",
            "  planilha_filtrada_externa[\"22 - Situação de saúde com comorbidade (descreva na opção outros)\"] = planilha_filtrada_externa[\"22 - Situação de saúde com comorbidade (descreva na opção outros)\"].astype(str).str.replace(\"nan\",\"\", regex = True)\n"
          ]
        },
        {
          "output_type": "execute_result",
          "data": {
            "text/plain": [
              "([<matplotlib.axis.XTick at 0x7f328e999b20>,\n",
              "  <matplotlib.axis.XTick at 0x7f328e999850>,\n",
              "  <matplotlib.axis.XTick at 0x7f328e914850>,\n",
              "  <matplotlib.axis.XTick at 0x7f328e927430>,\n",
              "  <matplotlib.axis.XTick at 0x7f328e914d30>,\n",
              "  <matplotlib.axis.XTick at 0x7f328e907160>,\n",
              "  <matplotlib.axis.XTick at 0x7f328e98e640>,\n",
              "  <matplotlib.axis.XTick at 0x7f328e8f4490>,\n",
              "  <matplotlib.axis.XTick at 0x7f328e864640>,\n",
              "  <matplotlib.axis.XTick at 0x7f328fcff8b0>,\n",
              "  <matplotlib.axis.XTick at 0x7f328fcff5e0>],\n",
              " [Text(0, 0, ''),\n",
              "  Text(0, 0, ''),\n",
              "  Text(0, 0, ''),\n",
              "  Text(0, 0, ''),\n",
              "  Text(0, 0, ''),\n",
              "  Text(0, 0, ''),\n",
              "  Text(0, 0, ''),\n",
              "  Text(0, 0, ''),\n",
              "  Text(0, 0, ''),\n",
              "  Text(0, 0, ''),\n",
              "  Text(0, 0, '')])"
            ]
          },
          "metadata": {},
          "execution_count": 103
        },
        {
          "output_type": "display_data",
          "data": {
            "text/plain": [
              "<Figure size 1152x576 with 1 Axes>"
            ],
            "image/png": "[encoded data removed]"
          },
          "metadata": {}
        }
      ]
    },
    {
      "cell_type": "markdown",
      "source": [
        "### 14 - Registro do nome completo, quando houver. (Quando não houver colocar \"SI\")"
      ],
      "metadata": {
        "id": "nc8aw7jB0_B7"
      }
    },
    {
      "cell_type": "code",
      "source": [
        "dict_infos = {'sem informação': 0, 'com informação': 0}\n",
        "for j in planilha_filtrada_interna['14 - Registro do nome completo, quando houver. (Quando não houver colocar \"SI\")']:\n",
        "  if pd.isnull(j) or j.lower() == \"nsa\":\n",
        "    continue\n",
        "  \n",
        "  if strip_accents(j).lower().strip() == \"si\" or j is None:\n",
        "    dict_infos['sem informação'] += 1\n",
        "  else:\n",
        "    dict_infos['com informação'] += 1\n",
        "# print(dict_infos)\n",
        "\n",
        "df_dict_infos = pd.DataFrame.from_dict([dict_infos])\n",
        "df_dict_infos.rename(index = {0: \"quantidade\"}, inplace = True)\n",
        "# print(df_dict_infos)\n",
        "df_dict_infos = df_dict_infos.T\n",
        "# print(df_dict_infos)\n",
        "df_dict_infos['porcentagem'] = df_dict_infos['quantidade']/df_dict_infos['quantidade'].sum()*100\n",
        "\n",
        "\n",
        "plt.style.use(['ggplot'])\n",
        "fig, ax = plt.subplots(figsize=(20,7))\n",
        "fig.suptitle(\"Dados Faltantes - Registro do nome completo - Morte Externa\", fontsize=24)\n",
        "df_dict_infos['porcentagem'].plot(ax=ax, kind='barh', color=['#ba2e2e'], fontsize=15, edgecolor=\"black\")\n",
        "ax.bar_label(ax.containers[0], labels=combine(df_dict_infos['quantidade'],df_dict_infos['porcentagem']), fontsize=15)\n",
        "# plt.ylabel(None)\n",
        "plt.xticks(range(0, 110, 10))\n",
        "\n",
        "loc_geral_variavel_14_1 = \"/content/drive/My Drive/codigos_colab/imagens_graficos/2/grafico_registro_nome_completo_vazio_caso_interna_2.png\"\n",
        "fig.savefig(loc_geral_variavel_14_1)"
      ],
      "metadata": {
        "id": "OcZnV_912U7d"
      },
      "execution_count": null,
      "outputs": []
    },
    {
      "cell_type": "code",
      "source": [
        "planilha_filtrada_externa.at[3020, '14 - Registro do nome completo, quando houver. (Quando não houver colocar \"SI\")'] = None\n",
        "dict_infos = {'sem informação': 0, 'com informação': 0}\n",
        "for j in planilha_filtrada_externa['14 - Registro do nome completo, quando houver. (Quando não houver colocar \"SI\")']:\n",
        "  if pd.isnull(j) or j.lower() == \"nsa\":\n",
        "    continue\n",
        "  \n",
        "  if strip_accents(j).lower().strip() == \"si\" or j is None:\n",
        "    dict_infos['sem informação'] += 1\n",
        "  else:\n",
        "    dict_infos['com informação'] += 1\n",
        "# print(dict_infos)\n",
        "\n",
        "df_dict_infos = pd.DataFrame.from_dict([dict_infos])\n",
        "df_dict_infos.rename(index = {0: \"quantidade\"}, inplace = True)\n",
        "# print(df_dict_infos)\n",
        "df_dict_infos = df_dict_infos.T\n",
        "# print(df_dict_infos)\n",
        "df_dict_infos['porcentagem'] = df_dict_infos['quantidade']/df_dict_infos['quantidade'].sum()*100\n",
        "\n",
        "\n",
        "plt.style.use(['ggplot'])\n",
        "fig, ax = plt.subplots(figsize=(20,7))\n",
        "fig.suptitle(\"Dados Faltantes - Registro do nome completo - Morte Externa\", fontsize=24)\n",
        "df_dict_infos['porcentagem'].plot(ax=ax, kind='barh', color=['#121fa1'], fontsize=15, edgecolor=\"black\")\n",
        "ax.bar_label(ax.containers[0], labels=combine(df_dict_infos['quantidade'],df_dict_infos['porcentagem']), fontsize=15)\n",
        "# plt.ylabel(None)\n",
        "plt.xticks(range(0, 110, 10))\n",
        "\n",
        "loc_geral_variavel_14_2 = \"/content/drive/My Drive/codigos_colab/imagens_graficos/2/grafico_registro_nome_completo_vazio_caso_externa_2.png\"\n",
        "fig.savefig(loc_geral_variavel_14_2)"
      ],
      "metadata": {
        "id": "HJLPYFXS8jrE"
      },
      "execution_count": null,
      "outputs": []
    },
    {
      "cell_type": "markdown",
      "source": [
        "### 63 - Número do Inquérito Policial de investigação sobre a morte ( \"SI\" para \"sem informação\" ou \"NSA\" para não se aplica)"
      ],
      "metadata": {
        "id": "wiPOcPGa1Agc"
      }
    },
    {
      "cell_type": "code",
      "source": [
        "nsa = 0\n",
        "dict_infos = {'sem informação': 0, 'com informação': 0}\n",
        "for j in planilha_filtrada_interna['63 - Número do Inquérito Policial de investigação sobre a morte ( \"SI\" para \"sem informação\" ou \"NSA\" para não se aplica)']:\n",
        "  if pd.isnull(j) or j.lower() == \"nsa\":\n",
        "    if str(j).lower() == \"nsa\": nsa += 1\n",
        "    continue\n",
        "  \n",
        "  if strip_accents(j).lower().strip() == \"si\" or j is None:\n",
        "    dict_infos['sem informação'] += 1\n",
        "  else:\n",
        "    dict_infos['com informação'] += 1\n",
        "# print(dict_infos)\n",
        "print(nsa)\n",
        "df_dict_infos = pd.DataFrame.from_dict([dict_infos])\n",
        "df_dict_infos.rename(index = {0: \"quantidade\"}, inplace = True)\n",
        "# print(df_dict_infos)\n",
        "df_dict_infos = df_dict_infos.T\n",
        "# print(df_dict_infos)\n",
        "df_dict_infos['porcentagem'] = df_dict_infos['quantidade']/df_dict_infos['quantidade'].sum()*100\n",
        "\n",
        "\n",
        "plt.style.use(['ggplot'])\n",
        "fig, ax = plt.subplots(figsize=(20,7))\n",
        "fig.suptitle(\"Dados Faltantes - Número Inquérito Policial - Morte Interna\", fontsize=24)\n",
        "df_dict_infos['porcentagem'].plot(ax=ax, kind='barh', color=['#ba2e2e'], fontsize=15, edgecolor=\"black\")\n",
        "ax.bar_label(ax.containers[0], labels=combine(df_dict_infos['quantidade'],df_dict_infos['porcentagem']), fontsize=15)\n",
        "# plt.ylabel(None)\n",
        "plt.xticks(range(0, 110, 10))\n",
        "\n",
        "loc_geral_variavel_63_1 = \"/content/drive/My Drive/codigos_colab/imagens_graficos/2/grafico_num_inquerito_policial_vazio_caso_interna_2.png\"\n",
        "fig.savefig(loc_geral_variavel_63_1)"
      ],
      "metadata": {
        "id": "aMU2Ip2r2lmH"
      },
      "execution_count": null,
      "outputs": []
    },
    {
      "cell_type": "code",
      "source": [
        "nsa = 0\n",
        "dict_infos = {'sem informação': 0, 'com informação': 0}\n",
        "for j in planilha_filtrada_externa['63 - Número do Inquérito Policial de investigação sobre a morte ( \"SI\" para \"sem informação\" ou \"NSA\" para não se aplica)']:\n",
        "  if pd.isnull(j) or j.lower() == \"nsa\":\n",
        "    if str(j).lower() == \"nsa\": nsa += 1\n",
        "    continue\n",
        "  \n",
        "  if strip_accents(j).lower().strip() == \"si\" or j is None:\n",
        "    dict_infos['sem informação'] += 1\n",
        "  else:\n",
        "    dict_infos['com informação'] += 1\n",
        "# print(dict_infos)\n",
        "print(nsa)\n",
        "df_dict_infos = pd.DataFrame.from_dict([dict_infos])\n",
        "df_dict_infos.rename(index = {0: \"quantidade\"}, inplace = True)\n",
        "# print(df_dict_infos)\n",
        "df_dict_infos = df_dict_infos.T\n",
        "# print(df_dict_infos)\n",
        "df_dict_infos['porcentagem'] = df_dict_infos['quantidade']/df_dict_infos['quantidade'].sum()*100\n",
        "\n",
        "\n",
        "plt.style.use(['ggplot'])\n",
        "fig, ax = plt.subplots(figsize=(20,7))\n",
        "fig.suptitle(\"Dados Faltantes - Número Inquérito Policial - Morte Externa\", fontsize=24)\n",
        "df_dict_infos['porcentagem'].plot(ax=ax, kind='barh', color=['#121fa1'], fontsize=15, edgecolor=\"black\")\n",
        "ax.bar_label(ax.containers[0], labels=combine(df_dict_infos['quantidade'],df_dict_infos['porcentagem']), fontsize=15)\n",
        "# plt.ylabel(None)\n",
        "plt.xticks(range(0, 110, 10))\n",
        "\n",
        "loc_geral_variavel_63_2 = \"/content/drive/My Drive/codigos_colab/imagens_graficos/2/grafico_num_inquerito_policial_vazio_caso_externa_2.png\"\n",
        "fig.savefig(loc_geral_variavel_63_2)"
      ],
      "metadata": {
        "id": "Lgjqz6vU3tgQ"
      },
      "execution_count": null,
      "outputs": []
    },
    {
      "cell_type": "markdown",
      "source": [
        "### 49 - Número da certidão de óbito"
      ],
      "metadata": {
        "id": "OJM3pcwr1DOH"
      }
    },
    {
      "cell_type": "code",
      "source": [
        "dict_infos = {'sem informação': 0, 'com informação': 0}\n",
        "for j in planilha_filtrada_interna['49 - Número da certidão de óbito']:\n",
        "  if pd.isnull(j):\n",
        "    continue\n",
        "  \n",
        "  if strip_accents(str(j)).lower().strip() == \"nao ha\" or strip_accents(j).lower().strip() == \"si\" or strip_accents(j).lower().strip() == \"ilegivel\" or j is None or strip_accents(j).lower().strip() == \"nsa\":\n",
        "    dict_infos['sem informação'] += 1\n",
        "  else:\n",
        "    dict_infos['com informação'] += 1\n",
        "# print(dict_infos)\n",
        "\n",
        "df_dict_infos = pd.DataFrame.from_dict([dict_infos])\n",
        "df_dict_infos.rename(index = {0: \"quantidade\"}, inplace = True)\n",
        "# print(df_dict_infos)\n",
        "df_dict_infos = df_dict_infos.T\n",
        "# print(df_dict_infos)\n",
        "df_dict_infos['porcentagem'] = df_dict_infos['quantidade']/df_dict_infos['quantidade'].sum()*100\n",
        "\n",
        "\n",
        "plt.style.use(['ggplot'])\n",
        "fig, ax = plt.subplots(figsize=(20,7))\n",
        "fig.suptitle(\"Dados Faltantes - Número Certidão de Óbito - Morte Interna\", fontsize=24)\n",
        "df_dict_infos['porcentagem'].plot(ax=ax, kind='barh', color=['#ba2e2e'], fontsize=15, edgecolor=\"black\")\n",
        "ax.bar_label(ax.containers[0], labels=combine(df_dict_infos['quantidade'],df_dict_infos['porcentagem']), fontsize=15)\n",
        "# plt.ylabel(None)\n",
        "plt.xticks(range(0, 110, 10))\n",
        "\n",
        "loc_geral_variavel_49_1 = \"/content/drive/My Drive/codigos_colab/imagens_graficos/2/grafico_num_certidao_obito_vazio_caso_interna_2.png\"\n",
        "fig.savefig(loc_geral_variavel_49_1)"
      ],
      "metadata": {
        "id": "Qn43WEN26QKf"
      },
      "execution_count": null,
      "outputs": []
    },
    {
      "cell_type": "code",
      "source": [
        "dict_infos = {'sem informação': 0, 'com informação': 0}\n",
        "for j in planilha_filtrada_externa['49 - Número da certidão de óbito']:\n",
        "  if pd.isnull(j):\n",
        "    continue\n",
        "\n",
        "  if strip_accents(str(j)).lower().strip() == \"nao ha\" or strip_accents(str(j)).lower().strip() == \"si\" or strip_accents(str(j)).lower().strip() == \"ilegivel\" or j is None or strip_accents(str(j)).lower().strip() == \"nsa\":\n",
        "    dict_infos['sem informação'] += 1\n",
        "  else:\n",
        "    dict_infos['com informação'] += 1\n",
        "# print(dict_infos)\n",
        "\n",
        "df_dict_infos = pd.DataFrame.from_dict([dict_infos])\n",
        "df_dict_infos.rename(index = {0: \"quantidade\"}, inplace = True)\n",
        "# print(df_dict_infos)\n",
        "df_dict_infos = df_dict_infos.T\n",
        "# print(df_dict_infos)\n",
        "df_dict_infos['porcentagem'] = df_dict_infos['quantidade']/df_dict_infos['quantidade'].sum()*100\n",
        "\n",
        "\n",
        "plt.style.use(['ggplot'])\n",
        "fig, ax = plt.subplots(figsize=(20,7))\n",
        "fig.suptitle(\"Dados Faltantes - Número Certidão de Óbito - Morte Externa\", fontsize=24)\n",
        "df_dict_infos['porcentagem'].plot(ax=ax, kind='barh', color=['#121fa1'], fontsize=15, edgecolor=\"black\")\n",
        "ax.bar_label(ax.containers[0], labels=combine(df_dict_infos['quantidade'],df_dict_infos['porcentagem']), fontsize=15)\n",
        "# plt.ylabel(None)\n",
        "plt.xticks(range(0, 110, 10))\n",
        "\n",
        "loc_geral_variavel_49_2 = \"/content/drive/My Drive/codigos_colab/imagens_graficos/2/grafico_num_certidao_obito_vazio_caso_externa_2.png\"\n",
        "fig.savefig(loc_geral_variavel_49_2)"
      ],
      "metadata": {
        "id": "qqesXGdH2pQH"
      },
      "execution_count": null,
      "outputs": []
    },
    {
      "cell_type": "markdown",
      "source": [
        "### 42 - Quem informou a morte no processo judicial ou no inquérito policial ? (42 - codificada)"
      ],
      "metadata": {
        "id": "0imoOjmu1F9a"
      }
    },
    {
      "cell_type": "code",
      "source": [
        "plot, fig = gera_grafico_geral('42 - codificada', planilha_filtrada_interna, \"Morte Interna\", x=16, y=6, eixo_y=(0, 110, 10))\n",
        "\n",
        "loc_geral_variavel_42_codificada_1 = \"/content/drive/My Drive/codigos_colab/imagens_graficos/2/grafico_quem_informou_a_morte_interna_2.png\"\n",
        "fig.savefig(loc_geral_variavel_42_codificada_1)"
      ],
      "metadata": {
        "id": "pwVNtUQW2sz4"
      },
      "execution_count": null,
      "outputs": []
    },
    {
      "cell_type": "code",
      "source": [
        "plot, fig = gera_grafico_geral('42 - codificada', planilha_filtrada_externa, \"Morte Externa\", cor=\"#121fa1\", x=16, y=6, eixo_y=(0, 110, 10))\n",
        "\n",
        "loc_geral_variavel_42_codificada_2 = \"/content/drive/My Drive/codigos_colab/imagens_graficos/2/grafico_quem_informou_a_morte_externa_2.png\"\n",
        "fig.savefig(loc_geral_variavel_42_codificada_2)"
      ],
      "metadata": {
        "id": "-QgmIQfi3lkf"
      },
      "execution_count": null,
      "outputs": []
    },
    {
      "cell_type": "code",
      "source": [
        "dict_infos = {'sem informação': 0, 'com informação': 0}\n",
        "for j in planilha_filtrada_interna['42 - codificada']:\n",
        "  if pd.isnull(j) or str(j).lower() == \"nsa\":\n",
        "    continue\n",
        "  \n",
        "  if strip_accents(str(j)).lower().strip() == \"sem informacoes\" or j is None:\n",
        "    dict_infos['sem informação'] += 1\n",
        "  else:\n",
        "    dict_infos['com informação'] += 1\n",
        "# print(dict_infos)\n",
        "\n",
        "df_dict_infos = pd.DataFrame.from_dict([dict_infos])\n",
        "df_dict_infos.rename(index = {0: \"quantidade\"}, inplace = True)\n",
        "# print(df_dict_infos)\n",
        "df_dict_infos = df_dict_infos.T\n",
        "# print(df_dict_infos)\n",
        "df_dict_infos['porcentagem'] = df_dict_infos['quantidade']/df_dict_infos['quantidade'].sum()*100\n",
        "\n",
        "\n",
        "plt.style.use(['ggplot'])\n",
        "fig, ax = plt.subplots(figsize=(20,7))\n",
        "fig.suptitle(\"Dados Faltantes - Quem informou a morte codificada - Morte Interna\", fontsize=24)\n",
        "df_dict_infos['porcentagem'].plot(ax=ax, kind='barh', color=['#ba2e2e'], fontsize=15, edgecolor=\"black\")\n",
        "ax.bar_label(ax.containers[0], labels=combine(df_dict_infos['quantidade'],df_dict_infos['porcentagem']), fontsize=15)\n",
        "# plt.ylabel(None)\n",
        "plt.xticks(range(0, 110, 10))\n",
        "\n",
        "loc_geral_variavel_42_codificada_vazio_1 = \"/content/drive/My Drive/codigos_colab/imagens_graficos/2/grafico_quem_informou_a_morte_codificada_vazio_interna_1.png\"\n",
        "fig.savefig(loc_geral_variavel_42_codificada_vazio_1)"
      ],
      "metadata": {
        "id": "n5LHNcDtIfvI"
      },
      "execution_count": null,
      "outputs": []
    },
    {
      "cell_type": "code",
      "source": [
        "dict_infos = {'sem informação': 0, 'com informação': 0}\n",
        "for j in planilha_filtrada_externa['42 - codificada']:\n",
        "  if pd.isnull(j) or str(j).lower() == \"nsa\":\n",
        "    continue\n",
        "  \n",
        "  if strip_accents(str(j)).lower().strip() == \"sem informacoes\" or j is None:\n",
        "    dict_infos['sem informação'] += 1\n",
        "  else:\n",
        "    dict_infos['com informação'] += 1\n",
        "# print(dict_infos)\n",
        "\n",
        "df_dict_infos = pd.DataFrame.from_dict([dict_infos])\n",
        "df_dict_infos.rename(index = {0: \"quantidade\"}, inplace = True)\n",
        "# print(df_dict_infos)\n",
        "df_dict_infos = df_dict_infos.T\n",
        "# print(df_dict_infos)\n",
        "df_dict_infos['porcentagem'] = df_dict_infos['quantidade']/df_dict_infos['quantidade'].sum()*100\n",
        "\n",
        "\n",
        "plt.style.use(['ggplot'])\n",
        "fig, ax = plt.subplots(figsize=(20,7))\n",
        "fig.suptitle(\"Dados Faltantes - Quem informou a morte codificada - Morte Externa\", fontsize=24)\n",
        "df_dict_infos['porcentagem'].plot(ax=ax, kind='barh', color=['#121fa1'], fontsize=15, edgecolor=\"black\")\n",
        "ax.bar_label(ax.containers[0], labels=combine(df_dict_infos['quantidade'],df_dict_infos['porcentagem']), fontsize=15)\n",
        "# plt.ylabel(None)\n",
        "plt.xticks(range(0, 110, 10))\n",
        "\n",
        "loc_geral_variavel_42_codificada_vazio_2 = \"/content/drive/My Drive/codigos_colab/imagens_graficos/2/grafico_quem_informou_a_morte_codificada_vazio_externa_2.png\"\n",
        "fig.savefig(loc_geral_variavel_42_codificada_vazio_2)"
      ],
      "metadata": {
        "id": "k-13hZuaGdWL"
      },
      "execution_count": null,
      "outputs": []
    },
    {
      "cell_type": "markdown",
      "source": [
        "### 24 - Profissão (24 - codificada)"
      ],
      "metadata": {
        "id": "BgrBOsRm1K4d"
      }
    },
    {
      "cell_type": "code",
      "source": [
        "# plot, fig = gera_grafico_geral(\"24 - codificada\", planilha_filtrada_interna, \"Morte Interna\", x=16, y=6, eixo_y=(0, 110, 10))\n",
        "dict_infos = {'sem informação': 0, 'com informação': 0}\n",
        "for j in planilha_filtrada_interna['24 - codificada']:\n",
        "  if pd.isnull(j) or str(j).lower() == \"nsa\":\n",
        "    continue\n",
        "  \n",
        "  if strip_accents(str(j)).lower().strip() == \"sem informacoes\" or j is None:\n",
        "    dict_infos['sem informação'] += 1\n",
        "  else:\n",
        "    dict_infos['com informação'] += 1\n",
        "# print(dict_infos)\n",
        "\n",
        "df_dict_infos = pd.DataFrame.from_dict([dict_infos])\n",
        "df_dict_infos.rename(index = {0: \"quantidade\"}, inplace = True)\n",
        "# print(df_dict_infos)\n",
        "df_dict_infos = df_dict_infos.T\n",
        "# print(df_dict_infos)\n",
        "df_dict_infos['porcentagem'] = df_dict_infos['quantidade']/df_dict_infos['quantidade'].sum()*100\n",
        "\n",
        "\n",
        "plt.style.use(['ggplot'])\n",
        "fig, ax = plt.subplots(figsize=(20,7))\n",
        "fig.suptitle(\"Dados Faltantes - Profissão codificada - Morte Interna\", fontsize=24)\n",
        "df_dict_infos['porcentagem'].plot(ax=ax, kind='barh', color=['#ba2e2e'], fontsize=15, edgecolor=\"black\")\n",
        "ax.bar_label(ax.containers[0], labels=combine(df_dict_infos['quantidade'],df_dict_infos['porcentagem']), fontsize=15)\n",
        "# plt.ylabel(None)\n",
        "plt.xticks(range(0, 110, 10))\n",
        "\n",
        "loc_geral_variavel_24_codificada_1 = \"/content/drive/My Drive/codigos_colab/imagens_graficos/2/grafico_profissao_codificada_caso_interna_2.png\"\n",
        "fig.savefig(loc_geral_variavel_24_codificada_1)"
      ],
      "metadata": {
        "id": "eFcGI3oS1NqJ"
      },
      "execution_count": null,
      "outputs": []
    },
    {
      "cell_type": "code",
      "source": [
        "# plot, fig = gera_grafico_geral(\"24 - codificada\", planilha_filtrada_externa, \"Morte Externa\", cor=\"#121fa1\", x=16, y=6, eixo_y=(0, 110, 10))\n",
        "dict_infos = {'sem informação': 0, 'com informação': 0}\n",
        "for j in planilha_filtrada_externa['24 - codificada']:\n",
        "  if pd.isnull(j) or str(j).lower() == \"nsa\":\n",
        "    continue\n",
        "  \n",
        "  if strip_accents(str(j)).lower().strip() == \"sem informacoes\" or j is None:\n",
        "    dict_infos['sem informação'] += 1\n",
        "  else:\n",
        "    dict_infos['com informação'] += 1\n",
        "# print(dict_infos)\n",
        "\n",
        "df_dict_infos = pd.DataFrame.from_dict([dict_infos])\n",
        "df_dict_infos.rename(index = {0: \"quantidade\"}, inplace = True)\n",
        "# print(df_dict_infos)\n",
        "df_dict_infos = df_dict_infos.T\n",
        "# print(df_dict_infos)\n",
        "df_dict_infos['porcentagem'] = df_dict_infos['quantidade']/df_dict_infos['quantidade'].sum()*100\n",
        "\n",
        "\n",
        "plt.style.use(['ggplot'])\n",
        "fig, ax = plt.subplots(figsize=(20,7))\n",
        "fig.suptitle(\"Dados Faltantes - Profissão codificada - Morte Externa\", fontsize=24)\n",
        "df_dict_infos['porcentagem'].plot(ax=ax, kind='barh', color=['#121fa1'], fontsize=15, edgecolor=\"black\")\n",
        "ax.bar_label(ax.containers[0], labels=combine(df_dict_infos['quantidade'],df_dict_infos['porcentagem']), fontsize=15)\n",
        "# plt.ylabel(None)\n",
        "plt.xticks(range(0, 110, 10))\n",
        "\n",
        "\n",
        "loc_geral_variavel_24_codificada_2 = \"/content/drive/My Drive/codigos_colab/imagens_graficos/2/grafico_profissao_codificada_caso_externa_2.png\"\n",
        "fig.savefig(loc_geral_variavel_24_codificada_2)"
      ],
      "metadata": {
        "id": "SopCe4-43Ytv"
      },
      "execution_count": null,
      "outputs": []
    },
    {
      "cell_type": "markdown",
      "source": [
        "## Raça"
      ],
      "metadata": {
        "id": "T9rRNKL5LCHk"
      }
    },
    {
      "cell_type": "code",
      "source": [
        "# plot, fig = gera_grafico_geral(\"24 - codificada\", planilha_filtrada_interna, \"Morte Interna\", x=16, y=6, eixo_y=(0, 110, 10))\n",
        "dict_infos = {'sem informação': 0, 'com informação': 0}\n",
        "for j in planilha_filtrada_interna['18 - Raça']:\n",
        "  if pd.isnull(j) or str(j).lower() == \"nsa\":\n",
        "    continue\n",
        "  \n",
        "  if strip_accents(str(j)).lower().strip() == \"sem informacao\" or j is None:\n",
        "    dict_infos['sem informação'] += 1\n",
        "  else:\n",
        "    dict_infos['com informação'] += 1\n",
        "# print(dict_infos)\n",
        "\n",
        "df_dict_infos = pd.DataFrame.from_dict([dict_infos])\n",
        "df_dict_infos.rename(index = {0: \"quantidade\"}, inplace = True)\n",
        "# print(df_dict_infos)\n",
        "df_dict_infos = df_dict_infos.T\n",
        "# print(df_dict_infos)\n",
        "df_dict_infos['porcentagem'] = df_dict_infos['quantidade']/df_dict_infos['quantidade'].sum()*100\n",
        "\n",
        "\n",
        "plt.style.use(['ggplot'])\n",
        "fig, ax = plt.subplots(figsize=(20,7))\n",
        "fig.suptitle(\"Dados Faltantes - Raça - Morte Interna\", fontsize=24)\n",
        "df_dict_infos['porcentagem'].plot(ax=ax, kind='barh', color=['#ba2e2e'], fontsize=15, edgecolor=\"black\")\n",
        "ax.bar_label(ax.containers[0], labels=combine(df_dict_infos['quantidade'],df_dict_infos['porcentagem']), fontsize=15)\n",
        "# plt.ylabel(None)\n",
        "plt.xticks(range(0, 110, 10))\n",
        "\n"
      ],
      "metadata": {
        "id": "XPTJX-CGLTTs",
        "colab": {
          "base_uri": "https://localhost:8080/",
          "height": 885
        },
        "outputId": "5881903d-568d-47dc-bc3b-12c02e1a9c43"
      },
      "execution_count": 21,
      "outputs": [
        {
          "output_type": "execute_result",
          "data": {
            "text/plain": [
              "([<matplotlib.axis.XTick at 0x7f2a22bf6f70>,\n",
              "  <matplotlib.axis.XTick at 0x7f2a22bf6f40>,\n",
              "  <matplotlib.axis.XTick at 0x7f2a22c0d6d0>,\n",
              "  <matplotlib.axis.XTick at 0x7f2a22c0dbb0>,\n",
              "  <matplotlib.axis.XTick at 0x7f2a22c11340>,\n",
              "  <matplotlib.axis.XTick at 0x7f2a22c11a90>,\n",
              "  <matplotlib.axis.XTick at 0x7f2a22c13220>,\n",
              "  <matplotlib.axis.XTick at 0x7f2a22bf6730>,\n",
              "  <matplotlib.axis.XTick at 0x7f2a22c032b0>,\n",
              "  <matplotlib.axis.XTick at 0x7f2a22c0a370>,\n",
              "  <matplotlib.axis.XTick at 0x7f2a22c13d60>],\n",
              " [Text(0, 0, ''),\n",
              "  Text(0, 0, ''),\n",
              "  Text(0, 0, ''),\n",
              "  Text(0, 0, ''),\n",
              "  Text(0, 0, ''),\n",
              "  Text(0, 0, ''),\n",
              "  Text(0, 0, ''),\n",
              "  Text(0, 0, ''),\n",
              "  Text(0, 0, ''),\n",
              "  Text(0, 0, ''),\n",
              "  Text(0, 0, '')])"
            ]
          },
          "metadata": {},
          "execution_count": 21
        },
        {
          "output_type": "display_data",
          "data": {
            "text/plain": [
              "<Figure size 1440x504 with 1 Axes>"
            ],
            "image/png": "[encoded data removed]"
          },
          "metadata": {}
        }
      ]
    },
    {
      "cell_type": "code",
      "source": [
        "# plot, fig = gera_grafico_geral(\"24 - codificada\", planilha_filtrada_externa, \"Morte Externa\", cor=\"#121fa1\", x=16, y=6, eixo_y=(0, 110, 10))\n",
        "dict_infos = {'sem informação': 0, 'com informação': 0}\n",
        "for j in planilha_filtrada_externa['18 - Raça']:\n",
        "  if pd.isnull(j) or str(j).lower() == \"nsa\":\n",
        "    continue\n",
        "  \n",
        "  if strip_accents(str(j)).lower().strip() == \"sem informacao\" or j is None:\n",
        "    dict_infos['sem informação'] += 1\n",
        "  else:\n",
        "    dict_infos['com informação'] += 1\n",
        "# print(dict_infos)\n",
        "\n",
        "df_dict_infos = pd.DataFrame.from_dict([dict_infos])\n",
        "df_dict_infos.rename(index = {0: \"quantidade\"}, inplace = True)\n",
        "# print(df_dict_infos)\n",
        "df_dict_infos = df_dict_infos.T\n",
        "# print(df_dict_infos)\n",
        "df_dict_infos['porcentagem'] = df_dict_infos['quantidade']/df_dict_infos['quantidade'].sum()*100\n",
        "\n",
        "\n",
        "plt.style.use(['ggplot'])\n",
        "fig, ax = plt.subplots(figsize=(20,7))\n",
        "fig.suptitle(\"Dados Faltantes - Raça - Morte Externa\", fontsize=24)\n",
        "df_dict_infos['porcentagem'].plot(ax=ax, kind='barh', color=['#121fa1'], fontsize=15, edgecolor=\"black\")\n",
        "ax.bar_label(ax.containers[0], labels=combine(df_dict_infos['quantidade'],df_dict_infos['porcentagem']), fontsize=15)\n",
        "# plt.ylabel(None)\n",
        "plt.xticks(range(0, 110, 10))"
      ],
      "metadata": {
        "id": "RWtLvVT-K-zo",
        "colab": {
          "base_uri": "https://localhost:8080/",
          "height": 885
        },
        "outputId": "2e4b078b-985f-4e11-84d3-b353ab99f593"
      },
      "execution_count": 19,
      "outputs": [
        {
          "output_type": "execute_result",
          "data": {
            "text/plain": [
              "([<matplotlib.axis.XTick at 0x7f2a2597f5b0>,\n",
              "  <matplotlib.axis.XTick at 0x7f2a2597fc70>,\n",
              "  <matplotlib.axis.XTick at 0x7f2a2570f040>,\n",
              "  <matplotlib.axis.XTick at 0x7f2a256f9a60>,\n",
              "  <matplotlib.axis.XTick at 0x7f2a256680a0>,\n",
              "  <matplotlib.axis.XTick at 0x7f2a26443f70>,\n",
              "  <matplotlib.axis.XTick at 0x7f2a2568f2b0>,\n",
              "  <matplotlib.axis.XTick at 0x7f2a2577ddf0>,\n",
              "  <matplotlib.axis.XTick at 0x7f2a25629070>,\n",
              "  <matplotlib.axis.XTick at 0x7f2a25629ee0>,\n",
              "  <matplotlib.axis.XTick at 0x7f2a26443940>],\n",
              " [Text(0, 0, ''),\n",
              "  Text(0, 0, ''),\n",
              "  Text(0, 0, ''),\n",
              "  Text(0, 0, ''),\n",
              "  Text(0, 0, ''),\n",
              "  Text(0, 0, ''),\n",
              "  Text(0, 0, ''),\n",
              "  Text(0, 0, ''),\n",
              "  Text(0, 0, ''),\n",
              "  Text(0, 0, ''),\n",
              "  Text(0, 0, '')])"
            ]
          },
          "metadata": {},
          "execution_count": 19
        },
        {
          "output_type": "display_data",
          "data": {
            "text/plain": [
              "<Figure size 1440x504 with 1 Axes>"
            ],
            "image/png": "[encoded data removed]"
          },
          "metadata": {}
        }
      ]
    },
    {
      "cell_type": "markdown",
      "source": [
        "## Template"
      ],
      "metadata": {
        "id": "bURYCp9gLjed"
      }
    },
    {
      "cell_type": "markdown",
      "source": [
        "## 75 - Identificação racial ao fim do processo"
      ],
      "metadata": {
        "id": "1FUYToyJjQtO"
      }
    },
    {
      "cell_type": "code",
      "source": [
        "# plot, fig = gera_grafico_geral(\"24 - codificada\", planilha_filtrada_interna, \"Morte Interna\", x=16, y=6, eixo_y=(0, 110, 10))\n",
        "dict_infos = {'sem informação': 0, 'com informação': 0}\n",
        "for j in planilha_filtrada_interna['75 - Identificação racial ao fim do processo']:\n",
        "  if pd.isnull(j) or str(j).lower() == \"nsa\":\n",
        "    continue\n",
        "  \n",
        "  if strip_accents(str(j)).lower().strip() == \"sem informacao\" or j is None:\n",
        "    dict_infos['sem informação'] += 1\n",
        "  else:\n",
        "    dict_infos['com informação'] += 1\n",
        "# print(dict_infos)\n",
        "\n",
        "df_dict_infos = pd.DataFrame.from_dict([dict_infos])\n",
        "df_dict_infos.rename(index = {0: \"quantidade\"}, inplace = True)\n",
        "# print(df_dict_infos)\n",
        "df_dict_infos = df_dict_infos.T\n",
        "# print(df_dict_infos)\n",
        "df_dict_infos['porcentagem'] = df_dict_infos['quantidade']/df_dict_infos['quantidade'].sum()*100\n",
        "\n",
        "\n",
        "plt.style.use(['ggplot'])\n",
        "fig, ax = plt.subplots(figsize=(20,7))\n",
        "fig.suptitle(\"Dados Faltantes - Identificação racial ao fim do processo - Morte Interna\", fontsize=24)\n",
        "df_dict_infos['porcentagem'].plot(ax=ax, kind='barh', color=['#ba2e2e'], fontsize=15, edgecolor=\"black\")\n",
        "ax.bar_label(ax.containers[0], labels=combine(df_dict_infos['quantidade'],df_dict_infos['porcentagem']), fontsize=15)\n",
        "# plt.ylabel(None)\n",
        "plt.xticks(range(0, 110, 10))\n"
      ],
      "metadata": {
        "colab": {
          "base_uri": "https://localhost:8080/",
          "height": 885
        },
        "id": "BcHoXJnVjTPQ",
        "outputId": "cde55e40-c8f9-4d4b-a1c2-c07e6c405fd1"
      },
      "execution_count": 14,
      "outputs": [
        {
          "output_type": "execute_result",
          "data": {
            "text/plain": [
              "([<matplotlib.axis.XTick at 0x7f32930f3e80>,\n",
              "  <matplotlib.axis.XTick at 0x7f32930f3d60>,\n",
              "  <matplotlib.axis.XTick at 0x7f32933014c0>,\n",
              "  <matplotlib.axis.XTick at 0x7f3292f06af0>,\n",
              "  <matplotlib.axis.XTick at 0x7f3292f062b0>,\n",
              "  <matplotlib.axis.XTick at 0x7f3293301580>,\n",
              "  <matplotlib.axis.XTick at 0x7f3293223460>,\n",
              "  <matplotlib.axis.XTick at 0x7f32933934f0>,\n",
              "  <matplotlib.axis.XTick at 0x7f3292e7d1f0>,\n",
              "  <matplotlib.axis.XTick at 0x7f3292ef9fd0>,\n",
              "  <matplotlib.axis.XTick at 0x7f3292e4a0a0>],\n",
              " [Text(0, 0, ''),\n",
              "  Text(0, 0, ''),\n",
              "  Text(0, 0, ''),\n",
              "  Text(0, 0, ''),\n",
              "  Text(0, 0, ''),\n",
              "  Text(0, 0, ''),\n",
              "  Text(0, 0, ''),\n",
              "  Text(0, 0, ''),\n",
              "  Text(0, 0, ''),\n",
              "  Text(0, 0, ''),\n",
              "  Text(0, 0, '')])"
            ]
          },
          "metadata": {},
          "execution_count": 14
        },
        {
          "output_type": "display_data",
          "data": {
            "text/plain": [
              "<Figure size 1440x504 with 1 Axes>"
            ],
            "image/png": "[encoded data removed]"
          },
          "metadata": {}
        }
      ]
    },
    {
      "cell_type": "code",
      "source": [
        "# plot, fig = gera_grafico_geral(\"24 - codificada\", planilha_filtrada_externa, \"Morte Externa\", cor=\"#121fa1\", x=16, y=6, eixo_y=(0, 110, 10))\n",
        "dict_infos = {'sem informação': 0, 'com informação': 0}\n",
        "for j in planilha_filtrada_externa['75 - Identificação racial ao fim do processo']:\n",
        "  if pd.isnull(j) or str(j).lower() == \"nsa\":\n",
        "    continue\n",
        "  \n",
        "  if strip_accents(str(j)).lower().strip() == \"sem informacao\" or j is None:\n",
        "    dict_infos['sem informação'] += 1\n",
        "  else:\n",
        "    dict_infos['com informação'] += 1\n",
        "# print(dict_infos)\n",
        "\n",
        "df_dict_infos = pd.DataFrame.from_dict([dict_infos])\n",
        "df_dict_infos.rename(index = {0: \"quantidade\"}, inplace = True)\n",
        "# print(df_dict_infos)\n",
        "df_dict_infos = df_dict_infos.T\n",
        "# print(df_dict_infos)\n",
        "df_dict_infos['porcentagem'] = df_dict_infos['quantidade']/df_dict_infos['quantidade'].sum()*100\n",
        "\n",
        "\n",
        "plt.style.use(['ggplot'])\n",
        "fig, ax = plt.subplots(figsize=(20,7))\n",
        "fig.suptitle(\"Dados Faltantes - Identificação racial ao fim do processo - Morte Externa\", fontsize=24)\n",
        "df_dict_infos['porcentagem'].plot(ax=ax, kind='barh', color=['#121fa1'], fontsize=15, edgecolor=\"black\")\n",
        "ax.bar_label(ax.containers[0], labels=combine(df_dict_infos['quantidade'],df_dict_infos['porcentagem']), fontsize=15)\n",
        "# plt.ylabel(None)\n",
        "plt.xticks(range(0, 110, 10))"
      ],
      "metadata": {
        "colab": {
          "base_uri": "https://localhost:8080/",
          "height": 885
        },
        "id": "NYmx4Jwzj7G2",
        "outputId": "c3ed99b6-ae7c-4b02-819b-26d1350fec00"
      },
      "execution_count": 15,
      "outputs": [
        {
          "output_type": "execute_result",
          "data": {
            "text/plain": [
              "([<matplotlib.axis.XTick at 0x7f3292c74040>,\n",
              "  <matplotlib.axis.XTick at 0x7f3292cb81c0>,\n",
              "  <matplotlib.axis.XTick at 0x7f3292d15c40>,\n",
              "  <matplotlib.axis.XTick at 0x7f3292bc46d0>,\n",
              "  <matplotlib.axis.XTick at 0x7f3292bc4e20>,\n",
              "  <matplotlib.axis.XTick at 0x7f3292b876d0>,\n",
              "  <matplotlib.axis.XTick at 0x7f3292b28340>,\n",
              "  <matplotlib.axis.XTick at 0x7f3292b9c220>,\n",
              "  <matplotlib.axis.XTick at 0x7f3292b28850>,\n",
              "  <matplotlib.axis.XTick at 0x7f3292bc4c10>,\n",
              "  <matplotlib.axis.XTick at 0x7f3292d50be0>],\n",
              " [Text(0, 0, ''),\n",
              "  Text(0, 0, ''),\n",
              "  Text(0, 0, ''),\n",
              "  Text(0, 0, ''),\n",
              "  Text(0, 0, ''),\n",
              "  Text(0, 0, ''),\n",
              "  Text(0, 0, ''),\n",
              "  Text(0, 0, ''),\n",
              "  Text(0, 0, ''),\n",
              "  Text(0, 0, ''),\n",
              "  Text(0, 0, '')])"
            ]
          },
          "metadata": {},
          "execution_count": 15
        },
        {
          "output_type": "display_data",
          "data": {
            "text/plain": [
              "<Figure size 1440x504 with 1 Axes>"
            ],
            "image/png": "[encoded data removed]"
          },
          "metadata": {}
        }
      ]
    },
    {
      "cell_type": "code",
      "source": [
        "## essa parte pega o template na pasta e usando o método DocxTemplate() salvamos o template dentro da variável documento\n",
        "\n",
        "# arq_template = \"/content/drive/My Drive/codigos_colab/template_tarefa_2.docx\" # esse template está na pasta\n",
        "# documento = DocxTemplate(arq_template)"
      ],
      "metadata": {
        "id": "IiXmwrVZLk7m"
      },
      "execution_count": null,
      "outputs": []
    },
    {
      "cell_type": "code",
      "source": [
        "\n",
        "# ## aqui vc tem que colocar todos os gráficos\n",
        "\n",
        "# # imagem = InlineImage(template onde a imagem deve ser inserida, imagem a ser inserida, tamanho da imagem a ser inserida)\n",
        "\n",
        "# ## gráficos tópico 1\n",
        "# grafico_geral_variavel_5 = InlineImage(documento, loc_geral_variavel_5, Cm(16))\n",
        "\n",
        "\n",
        "# ## gráficos tópico 2\n",
        "# grafico_variavel_15_interna = InlineImage(documento, loc_geral_variavel_15_1, Cm(16))\n",
        "# grafico_variavel_15_externa = InlineImage(documento, loc_geral_variavel_15_2, Cm(16))\n",
        "# grafico_variavel_27_interna = InlineImage(documento, loc_geral_variavel_27_1, Cm(16))\n",
        "# grafico_variavel_27_externa = InlineImage(documento, loc_geral_variavel_27_2, Cm(16))\n",
        "# grafico_renda_interna_2 = InlineImage(documento, loc_geral_variavel_renda_interna_2, Cm(16))\n",
        "# grafico_renda_faixa_interna_2 = InlineImage(documento, loc_geral_variavel_renda_faixa_interna_2, Cm(16))\n",
        "# grafico_renda_externa_2 = InlineImage(documento, loc_geral_variavel_renda_externa_2, Cm(16))\n",
        "# grafico_renda_faixa_externa_2 = InlineImage(documento, loc_geral_variavel_renda_faixa_externa_2, Cm(16))\n",
        "# grafico_renda_interna_sem_info = InlineImage(documento,loc_geral_variavel_renda_interna_sem_info, Cm(16))\n",
        "# grafico_renda_externa_sem_info= InlineImage(documento,loc_geral_variavel_renda_externa_sem_info, Cm(16))\n",
        "# grafico_variavel_30_interna = InlineImage(documento, loc_geral_variavel_30_1, Cm(16))\n",
        "# grafico_variavel_30_externa = InlineImage(documento, loc_geral_variavel_30_2, Cm(16))\n",
        "# grafico_variavel_31_interna = InlineImage(documento, loc_geral_variavel_31_1, Cm(16))\n",
        "# grafico_variavel_31_externa = InlineImage(documento, loc_geral_variavel_31_2, Cm(16))\n",
        "# grafico_variavel_48_interna = InlineImage(documento, loc_geral_variavel_48_1, Cm(16))\n",
        "# grafico_variavel_48_externa = InlineImage(documento, loc_geral_variavel_48_2, Cm(16))\n",
        "# grafico_variavel_61_interna = InlineImage(documento, loc_geral_variavel_61_1, Cm(16))\n",
        "# grafico_variavel_61_externa = InlineImage(documento, loc_geral_variavel_61_2, Cm(16))\n",
        "# grafico_variavel_68_interna = InlineImage(documento, loc_geral_variavel_68_1, Cm(16))\n",
        "# grafico_variavel_68_externa = InlineImage(documento, loc_geral_variavel_68_2, Cm(17))\n",
        "# grafico_variavel_30_vazio_interna = InlineImage(documento, loc_geral_variavel_30_vazio_1, Cm(16))\n",
        "# grafico_variavel_30_vazio_externa = InlineImage(documento, loc_geral_variavel_30_vazio_2, Cm(16))\n",
        "# grafico_variavel_27_vazio_interna = InlineImage(documento, loc_geral_variavel_27_vazio_1, Cm(16))\n",
        "# grafico_variavel_27_vazio_externa = InlineImage(documento, loc_geral_variavel_27_vazio_2, Cm(16))\n",
        "# grafico_variavel_31_vazio_interna = InlineImage(documento, loc_geral_variavel_31_vazio_1, Cm(16))\n",
        "# grafico_variavel_31_vazio_externa = InlineImage(documento, loc_geral_variavel_31_vazio_2, Cm(16))\n",
        "# grafico_variavel_61_vazio_interna = InlineImage(documento, loc_geral_variavel_61_vazio_1, Cm(16))\n",
        "# grafico_variavel_61_vazio_externa = InlineImage(documento, loc_geral_variavel_61_vazio_2, Cm(16))\n",
        "# grafico_variavel_68_vazio_interna = InlineImage(documento, loc_geral_variavel_68_vazio_1, Cm(16))\n",
        "# grafico_variavel_68_vazio_externa = InlineImage(documento, loc_geral_variavel_68_vazio_2, Cm(16))\n",
        "# grafico_variavel_23_vazio_interna_2 = InlineImage(documento, loc_geral_variavel_23_vazio_1, Cm(16))\n",
        "# grafico_variavel_23_vazio_externa_2 = InlineImage(documento, loc_geral_variavel_23_vazio_2, Cm(16))\n",
        "# grafico_variavel_situacao_saude_interna_vazio_2 = InlineImage(documento, loc_geral_variavel_situacao_saude_interna_vazio_2, Cm(16))\n",
        "# grafico_variavel_situacao_saude_externa_vazio_2 = InlineImage(documento, loc_geral_variavel_situacao_saude_externa_vazio_2, Cm(16))\n",
        "# grafico_variavel_14_interna = InlineImage(documento, loc_geral_variavel_14_1, Cm(16))\n",
        "# grafico_variavel_14_externa = InlineImage(documento, loc_geral_variavel_14_2, Cm(16))\n",
        "# grafico_variavel_63_interna = InlineImage(documento, loc_geral_variavel_63_1, Cm(16))\n",
        "# grafico_variavel_63_externa = InlineImage(documento, loc_geral_variavel_63_2, Cm(16))\n",
        "# grafico_variavel_49_interna = InlineImage(documento, loc_geral_variavel_49_1, Cm(16))\n",
        "# grafico_variavel_49_externa = InlineImage(documento, loc_geral_variavel_49_2, Cm(16))\n",
        "# grafico_variavel_24_codificada_interna = InlineImage(documento, loc_geral_variavel_24_codificada_1, Cm(16))\n",
        "# grafico_variavel_24_codificada_externa = InlineImage(documento, loc_geral_variavel_24_codificada_2, Cm(16))\n",
        "# grafico_variavel_42_codificada_interna = InlineImage(documento, loc_geral_variavel_42_codificada_1, Cm(16))\n",
        "# grafico_variavel_42_codificada_externa = InlineImage(documento, loc_geral_variavel_42_codificada_2, Cm(16))\n",
        "# grafico_variavel_42_codificada_interna_vazio = InlineImage(documento, loc_geral_variavel_42_codificada_vazio_1, Cm(16))\n",
        "# grafico_variavel_42_codificada_externa_vazio = InlineImage(documento, loc_geral_variavel_42_codificada_vazio_2, Cm(16))\n",
        "\n",
        "\n",
        "\n",
        "## gráficos tópico 3\n",
        "\n",
        "# grafico_variavel_12_3 = InlineImage(documento, loc_geral_variavel_12_1_3, Cm(16))\n",
        "# grafico_variavel_17_3 = InlineImage(documento, loc_geral_variavel_17_1_3, Cm(16))\n",
        "# grafico_variavel_18_3 = InlineImage(documento, loc_geral_variavel_18_1_3, Cm(16))\n",
        "# grafico_variavel_19_3 = InlineImage(documento, loc_geral_variavel_19_1_3, Cm(16))\n",
        "# grafico_variavel_tempo_vida_3 = InlineImage(documento, loc_geral_variavel_tempo_vida_1_3, Cm(16))\n",
        "# grafico_variavel_qtd_comorbidades_3 = InlineImage(documento, loc_geral_variavel_qtd_comorbidades_1_3, Cm(16))\n",
        "# grafico_variavel_23_3 = InlineImage(documento, loc_geral_variavel_23_1_3, Cm(16))\n",
        "# grafico_variavel_26_3 = InlineImage(documento, loc_geral_variavel_26_1_3, Cm(16))\n",
        "# grafico_variavel_27_3 = InlineImage(documento, loc_geral_variavel_27_1_3, Cm(16))\n",
        "# grafico_variavel_qtd_menor_12_3 = InlineImage(documento, loc_geral_variavel_qtd_menor_12_1_3, Cm(16))\n",
        "# grafico_variavel_28_3 = InlineImage(documento, loc_geral_variavel_28_1_3, Cm(16))\n",
        "# # grafico_variavel_renda_tratada_3 = InlineImage(documento, loc_geral_variavel_renda_tratada_1_3, Cm(16))\n",
        "# grafico_variavel_30_3 = InlineImage(documento, loc_geral_variavel_30_1_3, Cm(16))\n",
        "# grafico_variavel_31_3 = InlineImage(documento, loc_geral_variavel_31_1_3, Cm(16))\n",
        "# grafico_variavel_32_3 = InlineImage(documento, loc_geral_variavel_32_1_3, Cm(16))\n",
        "# grafico_variavel_37_3 = InlineImage(documento, loc_geral_variavel_37_1_3, Cm(16))\n",
        "# # grafico_variavel_tempo_pena_sentenca_3 = InlineImage(documento, loc_geral_variavel_tempo_pena_sentenca_1_3, Cm(16))\n",
        "# # grafico_variavel_tempo_total_pena_3 = InlineImage(documento, loc_geral_variavel_tempo_total_pena_1_3, Cm(16))\n",
        "\n",
        "\n",
        "## gráficos tópico 4\n",
        "\n",
        "# grafico_variavel_12_4 = InlineImage(documento, loc_geral_variavel_12_1_4, Cm(16))\n",
        "# grafico_variavel_17_4 = InlineImage(documento, loc_geral_variavel_17_1_4, Cm(16))\n",
        "# grafico_variavel_18_4 = InlineImage(documento, loc_geral_variavel_18_1_4, Cm(16))\n",
        "# grafico_variavel_19_4 = InlineImage(documento, loc_geral_variavel_19_1_4, Cm(16))\n",
        "# grafico_variavel_tempo_vida_4 = InlineImage(documento, loc_geral_variavel_tempo_vida_1_4, Cm(16))\n",
        "# grafico_variavel_qtd_comorbidades_4 = InlineImage(documento, loc_geral_variavel_qtd_comorbidades_1_4, Cm(16))\n",
        "# grafico_variavel_23_4 = InlineImage(documento, loc_geral_variavel_23_1_4, Cm(16))\n",
        "# grafico_variavel_24_4 = InlineImage(documento, loc_geral_variavel_24_1_4, Cm(16))\n",
        "# # grafico_variavel_25_4 = InlineImage(documento, loc_geral_variavel_25_1_4, Cm(16))\n",
        "# grafico_variavel_26_4 = InlineImage(documento, loc_geral_variavel_26_1_4, Cm(16))\n",
        "# grafico_variavel_27_4 = InlineImage(documento, loc_geral_variavel_27_1_4, Cm(16))\n",
        "# grafico_variavel_qtd_menor_12_4 = InlineImage(documento, loc_geral_variavel_qtd_menor_12_1_4, Cm(16))\n",
        "# grafico_variavel_28_4 = InlineImage(documento, loc_geral_variavel_28_1_4, Cm(16))\n",
        "# # grafico_variavel_renda_tratada_4 = InlineImage(documento, loc_geral_variavel_renda_tratada_1_4, Cm(16))\n",
        "# grafico_variavel_30_4 = InlineImage(documento, loc_geral_variavel_30_1_4, Cm(16))\n",
        "# grafico_variavel_31_4 = InlineImage(documento, loc_geral_variavel_31_1_4, Cm(16))\n",
        "# grafico_variavel_32_4 = InlineImage(documento, loc_geral_variavel_32_1_4, Cm(16))\n",
        "# grafico_variavel_37_4 = InlineImage(documento, loc_geral_variavel_37_1_4, Cm(16))\n",
        "# # grafico_variavel_tempo_pena_sentenca_4 = InlineImage(documento, loc_geral_variavel_tempo_pena_sentenca_1_4, Cm(16))\n",
        "# # grafico_variavel_tempo_total_pena_4 = InlineImage(documento, loc_geral_variavel_tempo_total_pena_1_4, Cm(16))\n",
        "# grafico_variavel_tempo_pena_ultima_prisao_4 = InlineImage(documento, loc_geral_variavel_tempo_pena_ultima_prisao_1_4, Cm(16))\n",
        "# grafico_variavel_tempo_liberdade_morte_4 = InlineImage(documento, loc_geral_variavel_tempo_liberdade_morte_1_4, Cm(16))\n",
        "\n",
        "\n",
        "\n",
        "## gráficos tópico 5\n",
        "\n",
        "# grafico_variavel_53_1_5 = InlineImage(documento, loc_geral_variavel_53_1_5, Cm(16))\n",
        "# grafico_variavel_53_2_5 = InlineImage(documento, loc_geral_variavel_53_2_5, Cm(16))\n",
        "# grafico_variavel_qtd_comorbidades_1_5 = InlineImage(documento, loc_geral_variavel_qtd_comorbidades_1_5, Cm(16))\n",
        "# grafico_variavel_qtd_comorbidades_2_5 = InlineImage(documento, loc_geral_variavel_qtd_comorbidades_2_5, Cm(16))\n",
        "\n",
        "\n",
        "## gráficos tópico 6\n",
        "\n",
        "# grafico_variavel_duracao_processo_1_6 = InlineImage(documento, loc_geral_variavel_duracao_processo_1_6, Cm(16))\n",
        "# grafico_variavel_duracao_processo_2_6 = InlineImage(documento, loc_geral_variavel_duracao_processo_2_6, Cm(16))\n",
        "# grafico_variavel_tempo_investigacao_morte_1_6 = InlineImage(documento, loc_geral_variavel_tempo_investigacao_morte_1_6, Cm(16))\n",
        "# grafico_variavel_tempo_investigacao_morte_2_6 = InlineImage(documento, loc_geral_variavel_tempo_investigacao_morte_2_6, Cm(16))\n",
        "# grafico_variavel_tempo_informar_morte_processo_1_6 = InlineImage(documento, loc_geral_variavel_tempo_informar_morte_processo_1_6, Cm(16))\n",
        "# grafico_variavel_tempo_informar_morte_processo_2_6 = InlineImage(documento, loc_geral_variavel_tempo_informar_morte_processo_2_6, Cm(16))\n",
        "# grafico_variavel_tempo_declaracao_extincao_punibilidade_1_6 = InlineImage(documento, loc_geral_variavel_tempo_declaracao_extincao_punibilidade_1_6, Cm(16))\n",
        "# grafico_variavel_tempo_declaracao_extincao_punibilidade_2_6 = InlineImage(documento, loc_geral_variavel_tempo_declaracao_extincao_punibilidade_2_6, Cm(16))\n",
        "# grafico_variavel_qtd_docs_1_6 = InlineImage(documento, loc_geral_variavel_qtd_docs_1_6, Cm(16))\n",
        "# grafico_variavel_qtd_docs_2_6 = InlineImage(documento, loc_geral_variavel_qtd_docs_2_6, Cm(16))\n",
        "# grafico_variavel_46_1_6 = InlineImage(documento, loc_geral_variavel_46_1_6, Cm(16))\n",
        "# grafico_variavel_46_2_6 = InlineImage(documento, loc_geral_variavel_46_2_6, Cm(16))\n",
        "# grafico_variavel_48_1_6 = InlineImage(documento, loc_geral_variavel_48_1_6, Cm(16))\n",
        "# grafico_variavel_48_2_6 = InlineImage(documento, loc_geral_variavel_48_2_6, Cm(16))\n",
        "# grafico_variavel_53_1_6 = InlineImage(documento, loc_geral_variavel_53_1_6, Cm(16))\n",
        "# grafico_variavel_53_2_6 = InlineImage(documento, loc_geral_variavel_53_2_6, Cm(16))\n",
        "# grafico_variavel_57_1_6 = InlineImage(documento, loc_geral_variavel_57_1_6, Cm(16))\n",
        "# grafico_variavel_57_2_6 = InlineImage(documento, loc_geral_variavel_57_2_6, Cm(16))\n",
        "# grafico_variavel_58_1_6 = InlineImage(documento, loc_geral_variavel_58_1_6, Cm(16))\n",
        "# grafico_variavel_58_2_6 = InlineImage(documento, loc_geral_variavel_58_2_6, Cm(16))\n",
        "# grafico_variavel_59_1_6 = InlineImage(documento, loc_geral_variavel_59_1_6, Cm(16))\n",
        "# grafico_variavel_59_2_6 = InlineImage(documento, loc_geral_variavel_59_2_6, Cm(16))\n",
        "# grafico_variavel_61_1_6 = InlineImage(documento, loc_geral_variavel_61_1_6, Cm(16))\n",
        "# grafico_variavel_61_2_6 = InlineImage(documento, loc_geral_variavel_61_2_6, Cm(16))\n",
        "# grafico_variavel_68_1_6 = InlineImage(documento, loc_geral_variavel_68_1_6, Cm(16))\n",
        "# grafico_variavel_68_2_6 = InlineImage(documento, loc_geral_variavel_68_2_6, Cm(16))"
      ],
      "metadata": {
        "id": "x8r7Y8neL98X"
      },
      "execution_count": null,
      "outputs": []
    },
    {
      "cell_type": "code",
      "source": [
        "# contexto = {\n",
        "#     'variavel_5_grafico_1': grafico_geral_variavel_5,\n",
        "#     'variavel_15_grafico_1': grafico_variavel_15_interna,\n",
        "#     'variavel_15_grafico_2': grafico_variavel_15_externa,\n",
        "#     'variavel_27_grafico_1': grafico_variavel_27_interna,\n",
        "#     'variavel_27_grafico_2': grafico_variavel_27_externa,\n",
        "#     'variavel_renda_interna_grafico_2': grafico_renda_interna_2,\n",
        "#     'variavel_renda_faixa_interna_grafico_2': grafico_renda_faixa_interna_2,\n",
        "#     'variavel_renda_externa_grafico_2': grafico_renda_externa_2,\n",
        "#     'variavel_renda_faixa_externa_grafico_2': grafico_renda_faixa_externa_2,\n",
        "#     'grafico_renda_interna_sem_info': grafico_renda_interna_sem_info,\n",
        "#     'grafico_renda_externa_sem_info': grafico_renda_externa_sem_info,\n",
        "#     'variavel_30_grafico_1': grafico_variavel_30_interna,\n",
        "#     'variavel_30_grafico_2': grafico_variavel_30_externa,\n",
        "#     'variavel_31_grafico_1': grafico_variavel_31_interna,\n",
        "#     'variavel_31_grafico_2': grafico_variavel_31_externa,\n",
        "#     'variavel_48_grafico_1': grafico_variavel_48_interna,\n",
        "#     'variavel_48_grafico_2': grafico_variavel_48_externa,\n",
        "#     'variavel_61_grafico_1': grafico_variavel_61_interna,\n",
        "#     'variavel_61_grafico_2': grafico_variavel_61_externa,\n",
        "#     'variavel_68_grafico_1': grafico_variavel_68_interna,\n",
        "#     'variavel_68_grafico_2': grafico_variavel_68_externa,\n",
        "#     'grafico_variavel_30_vazio_interno': grafico_variavel_30_vazio_interna,\n",
        "#     'grafico_variavel_30_vazio_externo': grafico_variavel_30_vazio_externa,\n",
        "#     'variavel_27_vazios_interno': grafico_variavel_27_vazio_interna, ## filhos\n",
        "#     'variavel_27_vazios_externo': grafico_variavel_27_vazio_externa, ## filhos\n",
        "#     'variavel_31_vazios_interno': grafico_variavel_31_vazio_interna, ## \n",
        "#     'variavel_31_vazios_externo': grafico_variavel_31_vazio_externa, ## \n",
        "#     'variavel_61_vazios_interno': grafico_variavel_61_vazio_interna, ##\n",
        "#     'variavel_61_vazios_externo': grafico_variavel_61_vazio_externa, \n",
        "#     'variavel_68_vazios_interno': grafico_variavel_68_vazio_interna, ##\n",
        "#     'variavel_68_vazios_externo': grafico_variavel_68_vazio_externa,\n",
        "#     'grafico_variavel_23_vazio_interna_2': grafico_variavel_23_vazio_interna_2,\n",
        "#     'grafico_variavel_23_vazio_externa_2': grafico_variavel_23_vazio_externa_2,\n",
        "#     'grafico_variavel_situacao_saude_interna_vazio_2': grafico_variavel_situacao_saude_interna_vazio_2,\n",
        "#     'grafico_variavel_situacao_saude_externa_vazio_2': grafico_variavel_situacao_saude_externa_vazio_2,\n",
        "#     'variavel_14_grafico_1': grafico_variavel_14_interna,\n",
        "#     'variavel_14_grafico_2': grafico_variavel_14_externa,\n",
        "#     'variavel_63_grafico_1': grafico_variavel_63_interna,\n",
        "#     'variavel_63_grafico_2': grafico_variavel_63_externa,\n",
        "#     'variavel_24_codificada_grafico_1': grafico_variavel_24_codificada_interna,\n",
        "#     'variavel_24_codificada_grafico_2': grafico_variavel_24_codificada_externa,\n",
        "#     'variavel_42_codificada_grafico_1': grafico_variavel_42_codificada_interna,\n",
        "#     'variavel_42_codificada_grafico_2': grafico_variavel_42_codificada_externa,\n",
        "#     'variavel_42_codificada_vazio_grafico_1': grafico_variavel_42_codificada_interna_vazio,\n",
        "#     'variavel_42_codificada_vazio_grafico_2': grafico_variavel_42_codificada_externa_vazio,\n",
        "#     'variavel_49_grafico_1': grafico_variavel_49_interna,\n",
        "#     'variavel_49_grafico_2': grafico_variavel_49_externa\n",
        "\n",
        "    # 'variavel_12_grafico_interna': grafico_variavel_12_3,\n",
        "    # 'variavel_17_grafico_interna': grafico_variavel_17_3,\n",
        "    # 'variavel_18_grafico_interna': grafico_variavel_18_3,\n",
        "    # 'variavel_19_grafico_interna': grafico_variavel_19_3,\n",
        "    # 'variavel_tempo_vida_grafico_interna': grafico_variavel_tempo_vida_3,\n",
        "    # 'variavel_quantidade_comorbidades_grafico_interna': grafico_variavel_qtd_comorbidades_3,\n",
        "    # 'variavel_23_grafico_interna': grafico_variavel_23_3,\n",
        "    # 'variavel_26_grafico_interna': grafico_variavel_26_3,\n",
        "    # 'variavel_27_grafico_interna': grafico_variavel_27_3,\n",
        "    # 'variavel_menores_12_anos_grafico_interna': grafico_variavel_qtd_menor_12_3,\n",
        "    # # 'variavel_renda_per_capita_grafico_interna': ,\n",
        "    # 'variavel_28_grafico_interna': grafico_variavel_28_3,\n",
        "    # # 'variavel_renda_grafico_interna': ,\n",
        "    # 'variavel_30_grafico_interna': grafico_variavel_30_3,\n",
        "    # 'variavel_31_grafico_interna': grafico_variavel_31_3,\n",
        "    # 'variavel_32_grafico_interna': grafico_variavel_32_3,\n",
        "    # 'variavel_37_grafico_interna': grafico_variavel_37_3,\n",
        "    # # 'variavel_tempo_pena_sentenca_grafico_interna': ,\n",
        "    # # 'variavel_tempo_total_pena_grafico_interna': \n",
        "\n",
        "    # 'variavel_12_grafico_4': grafico_variavel_12_4,\n",
        "    # 'variavel_17_grafico_4': grafico_variavel_17_4,\n",
        "    # 'variavel_18_grafico_4': grafico_variavel_18_4,\n",
        "    # 'variavel_19_grafico_4': grafico_variavel_19_4,\n",
        "    # 'variavel_tempo_vida_grafico_4': grafico_variavel_tempo_vida_4,\n",
        "    # 'variavel_qtd_comorbidades_grafico_4': grafico_variavel_qtd_comorbidades_4,\n",
        "    # 'variavel_23_grafico_4': grafico_variavel_23_4,\n",
        "    # 'variavel_24_grafico_4': grafico_variavel_24_4,\n",
        "    # # 'variavel_25_grafico_4': grafico_variavel_25_4,\n",
        "    # 'variavel_26_grafico_4': grafico_variavel_26_4,\n",
        "    # 'variavel_27_grafico_4': grafico_variavel_27_4,\n",
        "    # 'variavel_qtd_menor_12_grafico_4': grafico_variavel_qtd_menor_12_4,\n",
        "    # 'variavel_28_grafico_4': grafico_variavel_28_4,\n",
        "    # # 'variavel_renda_tratada_grafico_4': grafico_variavel_renda_tratada_4,\n",
        "    # 'variavel_30_grafico_4': grafico_variavel_30_4,\n",
        "    # 'variavel_31_grafico_4': grafico_variavel_31_4,\n",
        "    # 'variavel_32_grafico_4': grafico_variavel_32_4,\n",
        "    # 'variavel_37_grafico_4': grafico_variavel_37_4,\n",
        "    # # 'variavel_tempo_pena_sentenca_grafico_4': grafico_variavel_tempo_pena_sentenca_4,\n",
        "    # # 'variavel_tempo_total_pena_grafico_4': grafico_variavel_tempo_total_pena_4,\n",
        "    # 'variavel_tempo_pena_ultima_prisao_grafico_4': grafico_variavel_tempo_pena_ultima_prisao_4,\n",
        "    # 'variavel_tempo_liberdade_morte_grafico_4': grafico_variavel_tempo_liberdade_morte_4,\n",
        "\n",
        "    # 'variavel_53_grafico_1_5': grafico_variavel_53_1_5,\n",
        "    # 'variavel_53_grafico_2_5': grafico_variavel_53_2_5,\n",
        "    # 'variavel_quantidade_comorbidades_grafico_1_5': grafico_variavel_qtd_comorbidades_1_5,\n",
        "    # 'variavel_quantidade_comorbidades_grafico_2_5': grafico_variavel_qtd_comorbidades_2_5,\n",
        "\n",
        "    # 'variavel_duracao_processo_1_6': grafico_variavel_duracao_processo_1_6,\n",
        "    # 'variavel_duracao_processo_2_6': grafico_variavel_duracao_processo_2_6,\n",
        "    # 'variavel_tempo_investigacao_morte_1_6': grafico_variavel_tempo_investigacao_morte_1_6,\n",
        "    # 'variavel_tempo_investigacao_morte_2_6': grafico_variavel_tempo_investigacao_morte_2_6,\n",
        "    # 'variavel_tempo_informar_morte_processo_1_6': grafico_variavel_tempo_informar_morte_processo_1_6,\n",
        "    # 'variavel_tempo_informar_morte_processo_2_6': grafico_variavel_tempo_informar_morte_processo_2_6,\n",
        "    # 'variavel_declaracao_extincao_punibilidade_1_6': grafico_variavel_tempo_declaracao_extincao_punibilidade_1_6,\n",
        "    # 'variavel_declaracao_extincao_punibilidade_2_6': grafico_variavel_tempo_declaracao_extincao_punibilidade_2_6,\n",
        "    # 'variavel_qtd_documentos_1_6': grafico_variavel_qtd_docs_1_6,\n",
        "    # 'variavel_qtd_documentos_2_6': grafico_variavel_qtd_docs_2_6,\n",
        "    # 'variavel_46_grafico_1_6': grafico_variavel_46_1_6,\n",
        "    # 'variavel_46_grafico_2_6': grafico_variavel_46_2_6,\n",
        "    # 'variavel_48_grafico_1_6': grafico_variavel_48_1_6,\n",
        "    # 'variavel_48_grafico_2_6': grafico_variavel_48_2_6,\n",
        "    # 'variavel_53_grafico_1_6': grafico_variavel_53_1_6,\n",
        "    # 'variavel_53_grafico_2_6': grafico_variavel_53_2_6,\n",
        "    # 'variavel_57_grafico_1_6': grafico_variavel_57_1_6,\n",
        "    # 'variavel_57_grafico_2_6': grafico_variavel_57_2_6,\n",
        "    # 'variavel_58_grafico_1_6': grafico_variavel_58_1_6,\n",
        "    # 'variavel_58_grafico_2_6': grafico_variavel_58_2_6,\n",
        "    # 'variavel_59_grafico_1_6': grafico_variavel_59_1_6,\n",
        "    # 'variavel_59_grafico_2_6': grafico_variavel_59_2_6,\n",
        "    # 'variavel_61_grafico_1_6': grafico_variavel_61_1_6,\n",
        "    # 'variavel_61_grafico_2_6': grafico_variavel_61_2_6,\n",
        "    # 'variavel_68_grafico_1_6': grafico_variavel_68_1_6,\n",
        "    # 'variavel_68_grafico_2_6': grafico_variavel_68_2_6\n",
        "\n",
        "}"
      ],
      "metadata": {
        "id": "T0NPAELQL_Q-"
      },
      "execution_count": null,
      "outputs": []
    },
    {
      "cell_type": "code",
      "source": [
        "# # Geramos o documento, substituindo as variaveis do template pelos valores do contexto\n",
        "# documento.render(contexto)\n",
        "\n",
        "# # Salvamos o documento que era o template com os gráficos inseridos\n",
        "# documento.save(\"/content/drive/My Drive/codigos_colab/relatorio_final.docx\")"
      ],
      "metadata": {
        "id": "hDD3iu-HMAjh",
        "colab": {
          "base_uri": "https://localhost:8080/",
          "height": 244
        },
        "outputId": "504a8ede-fe15-4cbd-dac4-e2ebd36f659b"
      },
      "execution_count": 16,
      "outputs": [
        {
          "output_type": "error",
          "ename": "NameError",
          "evalue": "ignored",
          "traceback": [
            "\u001b[0;31m---------------------------------------------------------------------------\u001b[0m",
            "\u001b[0;31mNameError\u001b[0m                                 Traceback (most recent call last)",
            "\u001b[0;32m<ipython-input-16-1aa2eeaa7923>\u001b[0m in \u001b[0;36m<module>\u001b[0;34m\u001b[0m\n\u001b[1;32m      1\u001b[0m \u001b[0;31m# Geramos o documento, substituindo as variaveis do template pelos valores do contexto\u001b[0m\u001b[0;34m\u001b[0m\u001b[0;34m\u001b[0m\u001b[0;34m\u001b[0m\u001b[0m\n\u001b[0;32m----> 2\u001b[0;31m \u001b[0mdocumento\u001b[0m\u001b[0;34m.\u001b[0m\u001b[0mrender\u001b[0m\u001b[0;34m(\u001b[0m\u001b[0mcontexto\u001b[0m\u001b[0;34m)\u001b[0m\u001b[0;34m\u001b[0m\u001b[0;34m\u001b[0m\u001b[0m\n\u001b[0m\u001b[1;32m      3\u001b[0m \u001b[0;34m\u001b[0m\u001b[0m\n\u001b[1;32m      4\u001b[0m \u001b[0;31m# Salvamos o documento que era o template com os gráficos inseridos\u001b[0m\u001b[0;34m\u001b[0m\u001b[0;34m\u001b[0m\u001b[0;34m\u001b[0m\u001b[0m\n\u001b[1;32m      5\u001b[0m \u001b[0mdocumento\u001b[0m\u001b[0;34m.\u001b[0m\u001b[0msave\u001b[0m\u001b[0;34m(\u001b[0m\u001b[0;34m\"/content/drive/My Drive/codigos_colab/relatorio_final.docx\"\u001b[0m\u001b[0;34m)\u001b[0m\u001b[0;34m\u001b[0m\u001b[0;34m\u001b[0m\u001b[0m\n",
            "\u001b[0;31mNameError\u001b[0m: name 'documento' is not defined"
          ]
        }
      ]
    }
  ]
}