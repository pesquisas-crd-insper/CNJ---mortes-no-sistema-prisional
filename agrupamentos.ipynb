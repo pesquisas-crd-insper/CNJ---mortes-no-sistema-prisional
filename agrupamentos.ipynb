{
  "nbformat": 4,
  "nbformat_minor": 0,
  "metadata": {
    "colab": {
      "provenance": [],
      "collapsed_sections": []
    },
    "kernelspec": {
      "name": "python3",
      "display_name": "Python 3"
    },
    "language_info": {
      "name": "python"
    }
  },
  "cells": [
    {
      "cell_type": "markdown",
      "source": [
        "São elas:\n",
        "\n",
        "\n",
        "\n"
      ],
      "metadata": {
        "id": "WEHpRTUAk7qX"
      }
    },
    {
      "cell_type": "code",
      "source": [
        "# Preparar o Insumo para o Gephi\n",
        "import pandas as pd\n",
        "import re, os\n",
        "import numpy as np\n",
        "from google.colab import drive\n",
        "from google.colab import files\n",
        "drive.mount('/content/drive')\n",
        "\n",
        "#ler a planilha e separar as variáveis de interesse:"
      ],
      "metadata": {
        "colab": {
          "base_uri": "https://localhost:8080/"
        },
        "id": "EUq8n16_lQRs",
        "outputId": "5b66adc6-fd61-4ad5-8213-50d218525903"
      },
      "execution_count": 1,
      "outputs": [
        {
          "output_type": "stream",
          "name": "stdout",
          "text": [
            "Mounted at /content/drive\n"
          ]
        }
      ]
    },
    {
      "cell_type": "code",
      "execution_count": 2,
      "metadata": {
        "id": "9eLrsnTuk6u1"
      },
      "outputs": [],
      "source": [
        "planilha = pd.read_excel(\"/content/drive/My Drive/analise_textual/banco_final_limpo.xlsx\")\n",
        "# print(planilha)"
      ]
    },
    {
      "cell_type": "markdown",
      "source": [
        "\n",
        "a) \"11 - Vara onde o processo foi distribuído\": agrupar os valores para ver quantas varas diferentes temos."
      ],
      "metadata": {
        "id": "sDwdHgm0nhlv"
      }
    },
    {
      "cell_type": "code",
      "source": [
        "var_11 = planilha[\"11 - Vara onde o processo foi distribuído\"].value_counts()\n",
        "\n",
        "print(var_11)\n",
        "\n"
      ],
      "metadata": {
        "id": "QgHIlGPKnj73",
        "colab": {
          "base_uri": "https://localhost:8080/"
        },
        "outputId": "e0767296-8998-4cf4-cecb-fa807ba27a71"
      },
      "execution_count": 4,
      "outputs": [
        {
          "output_type": "stream",
          "name": "stdout",
          "text": [
            "Vara Criminal                                                            57\n",
            "1ª Vara Criminal                                                         47\n",
            "2ª Vara Criminal                                                         43\n",
            "2 vara criminal                                                          29\n",
            "Vara única                                                               25\n",
            "                                                                         ..\n",
            " 3 Vara Execução Penal de Dourados-MS                                     1\n",
            "3ª Vara de Pontes e Lacerda                                               1\n",
            "Vara Única de Cláudia - Execuções Penais em Meio Fechado e Semiaberto     1\n",
            "2ª Vara Criminal de Samambaia                                             1\n",
            "7 vara                                                                    1\n",
            "Name: 11 - Vara onde o processo foi distribuído, Length: 678, dtype: int64\n"
          ]
        }
      ]
    },
    {
      "cell_type": "markdown",
      "source": [
        "m) 10.1 - Comarca onde o processo foi distribuído"
      ],
      "metadata": {
        "id": "B0djJ5kPxy6j"
      }
    },
    {
      "cell_type": "code",
      "source": [
        "var_10 = planilha[\"10.1 - Comarca onde o processo foi distribuído\"].value_counts()\n",
        "\n",
        "print(var_10)"
      ],
      "metadata": {
        "colab": {
          "base_uri": "https://localhost:8080/"
        },
        "id": "yd6zip3Xxz_L",
        "outputId": "3444cd27-ed60-4957-ab46-964d63a09594"
      },
      "execution_count": 5,
      "outputs": [
        {
          "output_type": "stream",
          "name": "stdout",
          "text": [
            "Boa Vista          50\n",
            "MACAPÁ             41\n",
            "Manaus             37\n",
            "Recife             37\n",
            "Brasília           26\n",
            "                   ..\n",
            "BARCARENA           1\n",
            "Peixoto Azeveto     1\n",
            "Paragominas         1\n",
            "Capitão Poço        1\n",
            "Picos               1\n",
            "Name: 10.1 - Comarca onde o processo foi distribuído, Length: 661, dtype: int64\n"
          ]
        }
      ]
    },
    {
      "cell_type": "markdown",
      "source": [
        "13 - Nome do magistrado responsável pela sentença de extinção de punibilidade"
      ],
      "metadata": {
        "id": "lodK8FBZx8Cg"
      }
    },
    {
      "cell_type": "code",
      "source": [
        "var_13 = planilha[\"13 - Nome do magistrado responsável pela sentença de extinção de punibilidade\"].value_counts()\n",
        "\n",
        "print(var_13)"
      ],
      "metadata": {
        "id": "xN_5ZErcoFbn",
        "colab": {
          "base_uri": "https://localhost:8080/"
        },
        "outputId": "6f3030f2-4005-4aba-e3ac-4f0a476640c5"
      },
      "execution_count": 6,
      "outputs": [
        {
          "output_type": "stream",
          "name": "stdout",
          "text": [
            "Roberto Costa Bivar                   22\n",
            "JOANA SARMENTO DE MATOS               15\n",
            "ALEXANDRE MAGNO MAGALHÃES VIEIRA      14\n",
            "Enio Felipe da Rocha                  11\n",
            "Henrique Baltazar Vilar dos Santos    10\n",
            "                                      ..\n",
            "Alexandre Paulichi Chiovitti           1\n",
            "Jamilson Haddad Campos                 1\n",
            "Cesar Maranhao de Loyola Furtado       1\n",
            "Enismar Kelley de Freitas              1\n",
            "FABRÍCIO PAULO CYSNE DE NOVAES         1\n",
            "Name: 13 - Nome do magistrado responsável pela sentença de extinção de punibilidade, Length: 955, dtype: int64\n"
          ]
        }
      ]
    },
    {
      "cell_type": "markdown",
      "source": [
        "c) \"29 - Renda (coloque apenas o valor em números. Ex: 1.275,50 ou \"SI\" para casos sem informação\""
      ],
      "metadata": {
        "id": "j6vE6SxeoUBz"
      }
    },
    {
      "cell_type": "code",
      "source": [
        "var_29 = planilha[\"29 - Renda\"].value_counts()\n",
        "print(var_29)"
      ],
      "metadata": {
        "id": "u1j-fBkIoa2T",
        "colab": {
          "base_uri": "https://localhost:8080/"
        },
        "outputId": "9c8b5a13-df45-42d1-d1a7-360e9ed3e578"
      },
      "execution_count": 11,
      "outputs": [
        {
          "output_type": "stream",
          "name": "stdout",
          "text": [
            "SI                         1103\n",
            "NSA                          37\n",
            "0.0                          15\n",
            "1000.0                       13\n",
            "1200.0                       12\n",
            "                           ... \n",
            "2.500,00; 998,00 (INSS)       1\n",
            "1116.0                        1\n",
            "2833.0                        1\n",
            "salário mínimo                1\n",
            "1039.0                        1\n",
            "Name: 29 - Renda, Length: 63, dtype: int64\n"
          ]
        }
      ]
    },
    {
      "cell_type": "markdown",
      "source": [
        "d) \"33 - Crime(s) imputado(s):\""
      ],
      "metadata": {
        "id": "WbGGGh4ZoZcN"
      }
    },
    {
      "cell_type": "code",
      "source": [
        "var_33 = planilha[\"33 - Crime(s) imputado(s):\"].value_counts()\n",
        "print(var_33)"
      ],
      "metadata": {
        "colab": {
          "base_uri": "https://localhost:8080/"
        },
        "id": "kp7YQvqfpXKB",
        "outputId": "22ceb6b0-835f-40b9-dd21-46e48e0acf70"
      },
      "execution_count": 12,
      "outputs": [
        {
          "output_type": "stream",
          "name": "stdout",
          "text": [
            "Crimes contra o patrimônio                                                                                                                                       475\n",
            "Drogas (Lei 11.343/06)                                                                                                                                           184\n",
            "Crimes contra a pessoa                                                                                                                                           118\n",
            "Estatuto do Desarmamento (Lei 10.826/03)                                                                                                                          93\n",
            "Crimes de Trânsito (Lei 9.503/97)                                                                                                                                 75\n",
            "                                                                                                                                                                ... \n",
            "Crimes contra o patrimônio, Drogas (Lei 11.343/06), Crime no contexto de violência doméstica e familiar contra a mulher (Lei 11.340/05)                            1\n",
            "Crimes contra o patrimônio, Crime no contexto de violência doméstica e familiar contra a mulher (Lei 11.340/05)                                                    1\n",
            "Crimes contra o patrimônio, Drogas (Lei 11.343/06), Crimes de Trânsito (Lei 9.503/97)                                                                              1\n",
            "Crimes contra o patrimônio, Crimes praticados por particular contra a Administração Pública, Drogas (Lei 11.343/06), Estatuto do Desarmamento (Lei 10.826/03)      1\n",
            "Crimes contra o patrimônio, Crimes contra a dignidade sexual                                                                                                       1\n",
            "Name: 33 - Crime(s) imputado(s):, Length: 65, dtype: int64\n"
          ]
        }
      ]
    },
    {
      "cell_type": "markdown",
      "source": [
        "e) 38 - Em que regime ou sob que mecanismos de vigilância estava a pessoa na data da morte?"
      ],
      "metadata": {
        "id": "2nWiLYNSphkA"
      }
    },
    {
      "cell_type": "code",
      "source": [
        "var_38 = planilha[\"38 - Em que regime ou sob que mecanismos de vigilância estava a pessoa na data da morte?\"].value_counts().to_frame()\n",
        "var_38.rename(columns = {\"38 - Em que regime ou sob que mecanismos de vigilância estava a pessoa na data da morte?\": \"quantidade\"},inplace = True)\n",
        "\n",
        "var_38.to_excel(\"var_38.xlsx\")\n",
        "files.download('var_38.xlsx')\n",
        "print(var_38)"
      ],
      "metadata": {
        "colab": {
          "base_uri": "https://localhost:8080/",
          "height": 272
        },
        "id": "aRCbngbopx4f",
        "outputId": "6f0c2181-6510-4e38-d489-6d013dc38492"
      },
      "execution_count": 13,
      "outputs": [
        {
          "output_type": "display_data",
          "data": {
            "text/plain": [
              "<IPython.core.display.Javascript object>"
            ],
            "application/javascript": [
              "\n",
              "    async function download(id, filename, size) {\n",
              "      if (!google.colab.kernel.accessAllowed) {\n",
              "        return;\n",
              "      }\n",
              "      const div = document.createElement('div');\n",
              "      const label = document.createElement('label');\n",
              "      label.textContent = `Downloading \"${filename}\": `;\n",
              "      div.appendChild(label);\n",
              "      const progress = document.createElement('progress');\n",
              "      progress.max = size;\n",
              "      div.appendChild(progress);\n",
              "      document.body.appendChild(div);\n",
              "\n",
              "      const buffers = [];\n",
              "      let downloaded = 0;\n",
              "\n",
              "      const channel = await google.colab.kernel.comms.open(id);\n",
              "      // Send a message to notify the kernel that we're ready.\n",
              "      channel.send({})\n",
              "\n",
              "      for await (const message of channel.messages) {\n",
              "        // Send a message to notify the kernel that we're ready.\n",
              "        channel.send({})\n",
              "        if (message.buffers) {\n",
              "          for (const buffer of message.buffers) {\n",
              "            buffers.push(buffer);\n",
              "            downloaded += buffer.byteLength;\n",
              "            progress.value = downloaded;\n",
              "          }\n",
              "        }\n",
              "      }\n",
              "      const blob = new Blob(buffers, {type: 'application/binary'});\n",
              "      const a = document.createElement('a');\n",
              "      a.href = window.URL.createObjectURL(blob);\n",
              "      a.download = filename;\n",
              "      div.appendChild(a);\n",
              "      a.click();\n",
              "      div.remove();\n",
              "    }\n",
              "  "
            ]
          },
          "metadata": {}
        },
        {
          "output_type": "display_data",
          "data": {
            "text/plain": [
              "<IPython.core.display.Javascript object>"
            ],
            "application/javascript": [
              "download(\"download_c5b43f81-bb52-4dde-b0bc-b4873003f3cf\", \"var_38.xlsx\", 9998)"
            ]
          },
          "metadata": {}
        },
        {
          "output_type": "stream",
          "name": "stdout",
          "text": [
            "                                                    quantidade\n",
            "liberdade provisória                                       459\n",
            "regime aberto sem tornozeleira eletrônica                  182\n",
            "reclusa (em prisão provisória, regime fechado o...         123\n",
            "em prisão domiciliar (de qualquer tipo)                     84\n",
            "sem informações                                             66\n",
            "...                                                        ...\n",
            "Aguardando início da execução da PSC                         1\n",
            "extinta a punibilidade                                       1\n",
            "indiciada                                                    1\n",
            "foragido (com mandado de prisão preventiva em o...           1\n",
            "Existe o cumprimento de um mandado de prisão pr...           1\n",
            "\n",
            "[177 rows x 1 columns]\n"
          ]
        }
      ]
    },
    {
      "cell_type": "markdown",
      "source": [
        "f) 42 - Quem informou a morte no processo judicial ou no inquérito policial ?"
      ],
      "metadata": {
        "id": "h1DcBjv9tltb"
      }
    },
    {
      "cell_type": "code",
      "source": [
        "var_42 = planilha[\"42 - Quem informou a morte no processo judicial ou no inquérito policial ?\"].value_counts().to_frame()\n",
        "var_42.rename(columns = {\"42 - Quem informou a morte no processo judicial ou no inquérito policial ?\": \"quantidade\"},inplace = True)\n",
        "\n",
        "var_42.to_excel(\"var_42.xlsx\")\n",
        "files.download('var_42.xlsx')\n",
        "print(var_42)"
      ],
      "metadata": {
        "id": "iRc5kXwStnLe",
        "colab": {
          "base_uri": "https://localhost:8080/",
          "height": 272
        },
        "outputId": "369b85ca-60e6-4c2e-bde2-2ed52a0d1a4a"
      },
      "execution_count": 14,
      "outputs": [
        {
          "output_type": "display_data",
          "data": {
            "text/plain": [
              "<IPython.core.display.Javascript object>"
            ],
            "application/javascript": [
              "\n",
              "    async function download(id, filename, size) {\n",
              "      if (!google.colab.kernel.accessAllowed) {\n",
              "        return;\n",
              "      }\n",
              "      const div = document.createElement('div');\n",
              "      const label = document.createElement('label');\n",
              "      label.textContent = `Downloading \"${filename}\": `;\n",
              "      div.appendChild(label);\n",
              "      const progress = document.createElement('progress');\n",
              "      progress.max = size;\n",
              "      div.appendChild(progress);\n",
              "      document.body.appendChild(div);\n",
              "\n",
              "      const buffers = [];\n",
              "      let downloaded = 0;\n",
              "\n",
              "      const channel = await google.colab.kernel.comms.open(id);\n",
              "      // Send a message to notify the kernel that we're ready.\n",
              "      channel.send({})\n",
              "\n",
              "      for await (const message of channel.messages) {\n",
              "        // Send a message to notify the kernel that we're ready.\n",
              "        channel.send({})\n",
              "        if (message.buffers) {\n",
              "          for (const buffer of message.buffers) {\n",
              "            buffers.push(buffer);\n",
              "            downloaded += buffer.byteLength;\n",
              "            progress.value = downloaded;\n",
              "          }\n",
              "        }\n",
              "      }\n",
              "      const blob = new Blob(buffers, {type: 'application/binary'});\n",
              "      const a = document.createElement('a');\n",
              "      a.href = window.URL.createObjectURL(blob);\n",
              "      a.download = filename;\n",
              "      div.appendChild(a);\n",
              "      a.click();\n",
              "      div.remove();\n",
              "    }\n",
              "  "
            ]
          },
          "metadata": {}
        },
        {
          "output_type": "display_data",
          "data": {
            "text/plain": [
              "<IPython.core.display.Javascript object>"
            ],
            "application/javascript": [
              "download(\"download_a74789da-8433-4632-bb0e-d62e86bc51a0\", \"var_42.xlsx\", 13217)"
            ]
          },
          "metadata": {}
        },
        {
          "output_type": "stream",
          "name": "stdout",
          "text": [
            "                                                    quantidade\n",
            "oficial de justiça                                         292\n",
            "sem informações                                            156\n",
            "ministério público                                         121\n",
            "defesa particular                                          106\n",
            "delegacia                                                   67\n",
            "...                                                        ...\n",
            "Diretor da Penitenciária Estadual de Dourados                1\n",
            "Assessora do Gabinete da 2ª Vara Criminal de Ce...           1\n",
            "diretor do CRAMA (Centro de Recuperação Agrícol...           1\n",
            "direitor do presídio estadual metropolitano I                1\n",
            "Gerente da Unidade prisional - Colônia Agrícola...           1\n",
            "\n",
            "[307 rows x 1 columns]\n"
          ]
        }
      ]
    },
    {
      "cell_type": "markdown",
      "source": [
        "g) 47 - Responsável pela emissão da Declaração de Óbito (D.O.) ou Atestado de Óbito"
      ],
      "metadata": {
        "id": "dV9YXp-ut64i"
      }
    },
    {
      "cell_type": "code",
      "source": [
        "var_47 = planilha[\"47 - Responsável pela emissão da Declaração de Óbito (D.O.) ou Atestado de Óbito\"].value_counts().to_frame()\n",
        "var_47.rename(columns = {\"47 - Responsável pela emissão da Declaração de Óbito (D.O.) ou Atestado de Óbito\": \"quantidade\"},inplace = True)\n",
        "\n",
        "var_47.to_excel(\"var_47.xlsx\")\n",
        "files.download('var_47.xlsx')\n",
        "print(var_47)"
      ],
      "metadata": {
        "colab": {
          "base_uri": "https://localhost:8080/",
          "height": 291
        },
        "id": "V2A89s14uAGZ",
        "outputId": "b8eee3f6-5c82-487e-8617-87951ffa57a3"
      },
      "execution_count": 15,
      "outputs": [
        {
          "output_type": "display_data",
          "data": {
            "text/plain": [
              "<IPython.core.display.Javascript object>"
            ],
            "application/javascript": [
              "\n",
              "    async function download(id, filename, size) {\n",
              "      if (!google.colab.kernel.accessAllowed) {\n",
              "        return;\n",
              "      }\n",
              "      const div = document.createElement('div');\n",
              "      const label = document.createElement('label');\n",
              "      label.textContent = `Downloading \"${filename}\": `;\n",
              "      div.appendChild(label);\n",
              "      const progress = document.createElement('progress');\n",
              "      progress.max = size;\n",
              "      div.appendChild(progress);\n",
              "      document.body.appendChild(div);\n",
              "\n",
              "      const buffers = [];\n",
              "      let downloaded = 0;\n",
              "\n",
              "      const channel = await google.colab.kernel.comms.open(id);\n",
              "      // Send a message to notify the kernel that we're ready.\n",
              "      channel.send({})\n",
              "\n",
              "      for await (const message of channel.messages) {\n",
              "        // Send a message to notify the kernel that we're ready.\n",
              "        channel.send({})\n",
              "        if (message.buffers) {\n",
              "          for (const buffer of message.buffers) {\n",
              "            buffers.push(buffer);\n",
              "            downloaded += buffer.byteLength;\n",
              "            progress.value = downloaded;\n",
              "          }\n",
              "        }\n",
              "      }\n",
              "      const blob = new Blob(buffers, {type: 'application/binary'});\n",
              "      const a = document.createElement('a');\n",
              "      a.href = window.URL.createObjectURL(blob);\n",
              "      a.download = filename;\n",
              "      div.appendChild(a);\n",
              "      a.click();\n",
              "      div.remove();\n",
              "    }\n",
              "  "
            ]
          },
          "metadata": {}
        },
        {
          "output_type": "display_data",
          "data": {
            "text/plain": [
              "<IPython.core.display.Javascript object>"
            ],
            "application/javascript": [
              "download(\"download_a92e7c58-4651-4296-8487-3beed108a813\", \"var_47.xlsx\", 5259)"
            ]
          },
          "metadata": {}
        },
        {
          "output_type": "stream",
          "name": "stdout",
          "text": [
            "                                                    quantidade\n",
            "não se aplica                                             1221\n",
            "médico legista                                              68\n",
            "médico assistente                                            9\n",
            "SI                                                           5\n",
            "ilegível                                                     2\n",
            "Médico substituto                                            1\n",
            "Médico sem especificação do cargo                            1\n",
            "ilegível na digitalização do documento. Parece ...           1\n",
            "Não há especificação, apenas o nome do médico e...           1\n",
            "SVO (Serviço de Verificação de Óbito)                        1\n",
            "médico                                                       1\n",
            "substituto                                                   1\n",
            "Ilegível                                                     1\n",
            "si                                                           1\n"
          ]
        }
      ]
    },
    {
      "cell_type": "markdown",
      "source": [
        "h) 41 - Caso a pessoa estivesse presa no momento da morte: a pessoa presa estava cumprindo pena decorrente de sentença transitada em julgado ou se preso processualmente?"
      ],
      "metadata": {
        "id": "U3rZn3jGt_Vq"
      }
    },
    {
      "cell_type": "code",
      "source": [
        "var_41 = planilha[\"41 - Caso a pessoa estivesse presa no momento da morte: a pessoa presa estava cumprindo pena decorrente de sentença transitada em julgado ou se preso processualmente?\"].value_counts().to_frame()\n",
        "var_41.rename(columns = {\"41 - Caso a pessoa estivesse presa no momento da morte: a pessoa presa estava cumprindo pena decorrente de sentença transitada em julgado ou se preso processualmente?\": \"quantidade\"},inplace = True)\n",
        "\n",
        "var_41.to_excel(\"var_41.xlsx\")\n",
        "files.download('var_41.xlsx')\n",
        "print(var_41)"
      ],
      "metadata": {
        "id": "8B-Y6fKguVhg",
        "colab": {
          "base_uri": "https://localhost:8080/",
          "height": 491
        },
        "outputId": "7b9a5985-a5db-4aac-a0dd-508ce667803e"
      },
      "execution_count": 16,
      "outputs": [
        {
          "output_type": "display_data",
          "data": {
            "text/plain": [
              "<IPython.core.display.Javascript object>"
            ],
            "application/javascript": [
              "\n",
              "    async function download(id, filename, size) {\n",
              "      if (!google.colab.kernel.accessAllowed) {\n",
              "        return;\n",
              "      }\n",
              "      const div = document.createElement('div');\n",
              "      const label = document.createElement('label');\n",
              "      label.textContent = `Downloading \"${filename}\": `;\n",
              "      div.appendChild(label);\n",
              "      const progress = document.createElement('progress');\n",
              "      progress.max = size;\n",
              "      div.appendChild(progress);\n",
              "      document.body.appendChild(div);\n",
              "\n",
              "      const buffers = [];\n",
              "      let downloaded = 0;\n",
              "\n",
              "      const channel = await google.colab.kernel.comms.open(id);\n",
              "      // Send a message to notify the kernel that we're ready.\n",
              "      channel.send({})\n",
              "\n",
              "      for await (const message of channel.messages) {\n",
              "        // Send a message to notify the kernel that we're ready.\n",
              "        channel.send({})\n",
              "        if (message.buffers) {\n",
              "          for (const buffer of message.buffers) {\n",
              "            buffers.push(buffer);\n",
              "            downloaded += buffer.byteLength;\n",
              "            progress.value = downloaded;\n",
              "          }\n",
              "        }\n",
              "      }\n",
              "      const blob = new Blob(buffers, {type: 'application/binary'});\n",
              "      const a = document.createElement('a');\n",
              "      a.href = window.URL.createObjectURL(blob);\n",
              "      a.download = filename;\n",
              "      div.appendChild(a);\n",
              "      a.click();\n",
              "      div.remove();\n",
              "    }\n",
              "  "
            ]
          },
          "metadata": {}
        },
        {
          "output_type": "display_data",
          "data": {
            "text/plain": [
              "<IPython.core.display.Javascript object>"
            ],
            "application/javascript": [
              "download(\"download_d566ad36-63df-4bd9-ac02-ea2a69400906\", \"var_41.xlsx\", 5696)"
            ]
          },
          "metadata": {}
        },
        {
          "output_type": "stream",
          "name": "stdout",
          "text": [
            "                                                    quantidade\n",
            "não se aplica                                             1082\n",
            "prisão definitiva (sentença com trânsito em jul...          84\n",
            "prisão pós-condenação                                       70\n",
            "prisão pré-condenação                                       44\n",
            "Prisão domiciliar pós-condenação                             6\n",
            "SI                                                           4\n",
            "Aguardando alta médica para ir para dar entrada...           2\n",
            "Prisão domiciliar pós-condenação com ME                      1\n",
            "prisão domicilar definitiva                                  1\n",
            "prisão pré-condenação; prisão pós-condenação; p...           1\n",
            "Foragido do semiaberto/mandado para o fechado                1\n",
            "prisão definitiva (sentença com trânsito em jul...           1\n",
            "Não é possível saber se estava presa ou não. Nã...           1\n",
            "Regime aberto em Albergue                                    1\n",
            "Prisão domiciliar pré-condenação                             1\n",
            "não há informação precisa, apenas de que ele es...           1\n",
            "Prisão domiciliar pós-condenação com tornozelei...           1\n",
            "Prisão domiciliar pós-condenação com tornozelei...           1\n",
            "Pena restritiva de direitos após condenação                  1\n",
            "ambos (prisão definitiva e prisão pré-condenação)            1\n",
            "prisão em flagrante                                          1\n",
            "Não tem informação                                           1\n",
            "Pessoa morta com ordem prisão preventiva em and...           1\n",
            "Prisão domiciliar com tornozeleira eletrônica                1\n",
            "pena restritiva de direitos pós-condenação                   1\n"
          ]
        }
      ]
    },
    {
      "cell_type": "markdown",
      "source": [
        "i) 51 - Onde ocorreu o óbito? (Unidade prisional, unidade de saúde ou na rua)"
      ],
      "metadata": {
        "id": "g7Xr0ggsuyO5"
      }
    },
    {
      "cell_type": "code",
      "source": [
        "var_51 = planilha[\"51 - Onde ocorreu o óbito? (Unidade prisional, unidade de saúde ou na rua)\"].value_counts().to_frame()\n",
        "var_51.rename(columns = {\"51 - Onde ocorreu o óbito? (Unidade prisional, unidade de saúde ou na rua)\": \"quantidade\"},inplace = True)\n",
        "\n",
        "var_51.to_excel(\"var_51.xlsx\")\n",
        "files.download('var_51.xlsx')\n",
        "print(var_51)"
      ],
      "metadata": {
        "id": "LMtLrLoSuzxf",
        "colab": {
          "base_uri": "https://localhost:8080/",
          "height": 1000
        },
        "outputId": "4933bb37-79a6-44ee-a835-5bf68296fe3d"
      },
      "execution_count": 17,
      "outputs": [
        {
          "output_type": "display_data",
          "data": {
            "text/plain": [
              "<IPython.core.display.Javascript object>"
            ],
            "application/javascript": [
              "\n",
              "    async function download(id, filename, size) {\n",
              "      if (!google.colab.kernel.accessAllowed) {\n",
              "        return;\n",
              "      }\n",
              "      const div = document.createElement('div');\n",
              "      const label = document.createElement('label');\n",
              "      label.textContent = `Downloading \"${filename}\": `;\n",
              "      div.appendChild(label);\n",
              "      const progress = document.createElement('progress');\n",
              "      progress.max = size;\n",
              "      div.appendChild(progress);\n",
              "      document.body.appendChild(div);\n",
              "\n",
              "      const buffers = [];\n",
              "      let downloaded = 0;\n",
              "\n",
              "      const channel = await google.colab.kernel.comms.open(id);\n",
              "      // Send a message to notify the kernel that we're ready.\n",
              "      channel.send({})\n",
              "\n",
              "      for await (const message of channel.messages) {\n",
              "        // Send a message to notify the kernel that we're ready.\n",
              "        channel.send({})\n",
              "        if (message.buffers) {\n",
              "          for (const buffer of message.buffers) {\n",
              "            buffers.push(buffer);\n",
              "            downloaded += buffer.byteLength;\n",
              "            progress.value = downloaded;\n",
              "          }\n",
              "        }\n",
              "      }\n",
              "      const blob = new Blob(buffers, {type: 'application/binary'});\n",
              "      const a = document.createElement('a');\n",
              "      a.href = window.URL.createObjectURL(blob);\n",
              "      a.download = filename;\n",
              "      div.appendChild(a);\n",
              "      a.click();\n",
              "      div.remove();\n",
              "    }\n",
              "  "
            ]
          },
          "metadata": {}
        },
        {
          "output_type": "display_data",
          "data": {
            "text/plain": [
              "<IPython.core.display.Javascript object>"
            ],
            "application/javascript": [
              "download(\"download_243eb107-1ee7-4356-816e-bf6cbfceb43e\", \"var_51.xlsx\", 6345)"
            ]
          },
          "metadata": {}
        },
        {
          "output_type": "stream",
          "name": "stdout",
          "text": [
            "                                                    quantidade\n",
            "rua                                                        520\n",
            "unidade de saúde                                           440\n",
            "domicílio                                                  124\n",
            "SI                                                          74\n",
            "unidade de regime fechado                                   35\n",
            "unidade de semiaberto                                       14\n",
            "unidade de detenção provisória                              12\n",
            "Sem informação                                              10\n",
            "trânsito/transporte                                         10\n",
            "sítio                                                        8\n",
            "NSA                                                          7\n",
            "zona rural                                                   6\n",
            "Sítio                                                        2\n",
            "chácara                                                      2\n",
            "carceragem                                                   2\n",
            "não há CO                                                    2\n",
            "complexo médico penal                                        2\n",
            "fazenda                                                      2\n",
            "\"Outros\"                                                     2\n",
            "local ignorado                                               1\n",
            "Fazenda                                                      1\n",
            "ilegível                                                     1\n",
            "\"em outros\"                                                  1\n",
            "HOSPITAL DE CUSTODIA E TRATAMENTO PSIQUIÁTRICO               1\n",
            "Hospital de custódia e tratamento psiquiátrico               1\n",
            "pousada                                                      1\n",
            "Rio da Lança                                                 1\n",
            "estacionamento                                               1\n",
            "No Parque Vitória, em São João do Ribamar (MA)               1\n",
            "certidão em segredo, mas muito provavelmente no...           1\n",
            "prédio                                                       1\n",
            "não há cópia da CO, número está em nota do ofic...           1\n",
            "Estabelecimento comercial                                    1\n",
            "informa apenas um endereço                                   1\n",
            "comércio                                                     1\n",
            "Não especificado                                             1\n",
            "Sem informações                                              1\n",
            "\"Outros Timon/MA\"                                            1\n",
            "Reserva Chico Mendes                                         1\n",
            "Local não informado em nenhum documento                      1\n",
            "Sem qualquer informação                                      1\n",
            "Não informa o local, apenas a rua onde ocorreu ...           1\n",
            "Unidade de Internação (socioeducativa)                       1\n",
            "Não dá para saber onde ocorreu.                              1\n",
            "D.O. ilegível                                                1\n",
            "condomínio                                                   1\n",
            "hospital                                                     1\n",
            "Na certidão de óbito consta \"em outros, cito: l...           1\n",
            "informação ilegível                                          1\n",
            "no laudo cadavérico está descrito como \"no meio...           1\n",
            "Conjunto habitacional                                        1\n",
            "estabelecimento comercial                                    1\n",
            "Estabelecimento comercial (bar)                              1\n",
            "informação incompatível com as informações                   1\n",
            "igreja                                                       1\n",
            "Percurso unidade prisional-hospital                          1\n"
          ]
        }
      ]
    },
    {
      "cell_type": "markdown",
      "source": [
        "j) 64 - Responsável por iniciar o procedimento investigativo"
      ],
      "metadata": {
        "id": "gXSGYs0YvQ-5"
      }
    },
    {
      "cell_type": "code",
      "source": [
        "var_64 = planilha[\"64 - Responsável por iniciar o procedimento investigativo\"].value_counts().to_frame()\n",
        "var_64.rename(columns = {\"64 - Responsável por iniciar o procedimento investigativo\": \"quantidade\"},inplace = True)\n",
        "\n",
        "var_64.to_excel(\"var_64.xlsx\")\n",
        "files.download('var_64.xlsx')\n",
        "print(var_64)"
      ],
      "metadata": {
        "id": "XQD10qbGvSJ5",
        "colab": {
          "base_uri": "https://localhost:8080/",
          "height": 619
        },
        "outputId": "da0f274d-6d9c-4539-a517-00091137433b"
      },
      "execution_count": 18,
      "outputs": [
        {
          "output_type": "display_data",
          "data": {
            "text/plain": [
              "<IPython.core.display.Javascript object>"
            ],
            "application/javascript": [
              "\n",
              "    async function download(id, filename, size) {\n",
              "      if (!google.colab.kernel.accessAllowed) {\n",
              "        return;\n",
              "      }\n",
              "      const div = document.createElement('div');\n",
              "      const label = document.createElement('label');\n",
              "      label.textContent = `Downloading \"${filename}\": `;\n",
              "      div.appendChild(label);\n",
              "      const progress = document.createElement('progress');\n",
              "      progress.max = size;\n",
              "      div.appendChild(progress);\n",
              "      document.body.appendChild(div);\n",
              "\n",
              "      const buffers = [];\n",
              "      let downloaded = 0;\n",
              "\n",
              "      const channel = await google.colab.kernel.comms.open(id);\n",
              "      // Send a message to notify the kernel that we're ready.\n",
              "      channel.send({})\n",
              "\n",
              "      for await (const message of channel.messages) {\n",
              "        // Send a message to notify the kernel that we're ready.\n",
              "        channel.send({})\n",
              "        if (message.buffers) {\n",
              "          for (const buffer of message.buffers) {\n",
              "            buffers.push(buffer);\n",
              "            downloaded += buffer.byteLength;\n",
              "            progress.value = downloaded;\n",
              "          }\n",
              "        }\n",
              "      }\n",
              "      const blob = new Blob(buffers, {type: 'application/binary'});\n",
              "      const a = document.createElement('a');\n",
              "      a.href = window.URL.createObjectURL(blob);\n",
              "      a.download = filename;\n",
              "      div.appendChild(a);\n",
              "      a.click();\n",
              "      div.remove();\n",
              "    }\n",
              "  "
            ]
          },
          "metadata": {}
        },
        {
          "output_type": "display_data",
          "data": {
            "text/plain": [
              "<IPython.core.display.Javascript object>"
            ],
            "application/javascript": [
              "download(\"download_03aaa97c-66f8-48f9-aa60-e16d650efaee\", \"var_64.xlsx\", 5952)"
            ]
          },
          "metadata": {}
        },
        {
          "output_type": "stream",
          "name": "stdout",
          "text": [
            "                                                    quantidade\n",
            "não se aplica                                             1128\n",
            "Polícia, por abertura de inquérito ou flagrante...         120\n",
            "Polícia, por registro de ocorrência                         26\n",
            "SI                                                           9\n",
            "Polícia, por registro de ocorrência (BO)                     6\n",
            "Defensoria                                                   2\n",
            "só há menção a BO                                            1\n",
            "Há BO, autoridade que lavrou pediu o cadavérico              1\n",
            "Policia, por auto de prisão em flagrante                     1\n",
            "A juíza da vara de execução determinou a instau...           1\n",
            "A própria administração penitenciária                        1\n",
            "Polícia, por registro da ocorrência                          1\n",
            "DPPA de Santa Cruz do Sul/ Santa Cruz do Sul, p...           1\n",
            "Unidade prisional                                            1\n",
            "PM, por registro de ocorrência e Unidade Prisional           1\n",
            "Unidade Prisional, por Boletim de Ocorrêcia pri...           1\n",
            "Secretaria de Administração Penitenciária e Res...           1\n",
            "Unidade prisional, por registro de ocorrência                1\n",
            "Juíz                                                         1\n",
            "sem informações                                              1\n",
            "Direção da unidade prisional                                 1\n",
            "Polícia, por registro de BO e requisição de lau...           1\n",
            "Polícia                                                      1\n",
            "Polícia Civil, por requisição de laudo cadavérico            1\n",
            "Unidade prisional                                            1\n",
            "A própria unidade prisional abriu procedimento ...           1\n",
            "Requisição de Laudo cadavérico por Delegado                  1\n",
            "Não é possível saber quem iniciou, embora seja ...           1\n",
            "O diretor da unidade onde Enivaldo faleceu                   1\n",
            "Polícia, registro de ocorrência (BO)                         1\n",
            "Polícia, por registro de Ocorrência                          1\n",
            "informação sobre o BO vem na documentação do pr...           1\n"
          ]
        }
      ]
    },
    {
      "cell_type": "markdown",
      "source": [
        "l) 73 - Explicação sobre mudança de causa da morte"
      ],
      "metadata": {
        "id": "UMCShav1vtlp"
      }
    },
    {
      "cell_type": "code",
      "source": [
        "var_73 = planilha[\"73 - Explicação sobre mudança de causa da morte\"].value_counts().to_frame()\n",
        "var_73.rename(columns = {\"73 - Explicação sobre mudança de causa da morte\": \"quantidade\"},inplace = True)\n",
        "\n",
        "var_73.to_excel(\"var_73.xlsx\")\n",
        "files.download('var_73.xlsx')\n",
        "print(var_73)"
      ],
      "metadata": {
        "colab": {
          "base_uri": "https://localhost:8080/",
          "height": 181
        },
        "id": "8Wm5EGqCvuuv",
        "outputId": "66589124-0224-45ad-d2a7-b0c149426f8c"
      },
      "execution_count": 19,
      "outputs": [
        {
          "output_type": "display_data",
          "data": {
            "text/plain": [
              "<IPython.core.display.Javascript object>"
            ],
            "application/javascript": [
              "\n",
              "    async function download(id, filename, size) {\n",
              "      if (!google.colab.kernel.accessAllowed) {\n",
              "        return;\n",
              "      }\n",
              "      const div = document.createElement('div');\n",
              "      const label = document.createElement('label');\n",
              "      label.textContent = `Downloading \"${filename}\": `;\n",
              "      div.appendChild(label);\n",
              "      const progress = document.createElement('progress');\n",
              "      progress.max = size;\n",
              "      div.appendChild(progress);\n",
              "      document.body.appendChild(div);\n",
              "\n",
              "      const buffers = [];\n",
              "      let downloaded = 0;\n",
              "\n",
              "      const channel = await google.colab.kernel.comms.open(id);\n",
              "      // Send a message to notify the kernel that we're ready.\n",
              "      channel.send({})\n",
              "\n",
              "      for await (const message of channel.messages) {\n",
              "        // Send a message to notify the kernel that we're ready.\n",
              "        channel.send({})\n",
              "        if (message.buffers) {\n",
              "          for (const buffer of message.buffers) {\n",
              "            buffers.push(buffer);\n",
              "            downloaded += buffer.byteLength;\n",
              "            progress.value = downloaded;\n",
              "          }\n",
              "        }\n",
              "      }\n",
              "      const blob = new Blob(buffers, {type: 'application/binary'});\n",
              "      const a = document.createElement('a');\n",
              "      a.href = window.URL.createObjectURL(blob);\n",
              "      a.download = filename;\n",
              "      div.appendChild(a);\n",
              "      a.click();\n",
              "      div.remove();\n",
              "    }\n",
              "  "
            ]
          },
          "metadata": {}
        },
        {
          "output_type": "display_data",
          "data": {
            "text/plain": [
              "<IPython.core.display.Javascript object>"
            ],
            "application/javascript": [
              "download(\"download_cc4d7bfb-a178-44a2-887c-f88b1aac2854\", \"var_73.xlsx\", 5711)"
            ]
          },
          "metadata": {}
        },
        {
          "output_type": "stream",
          "name": "stdout",
          "text": [
            "                                                    quantidade\n",
            "NSA                                                       1177\n",
            "nsa                                                          7\n",
            "SI                                                           4\n",
            "Óbito a esclarecer por exames                                1\n",
            "Ele morreu na delegacia durante a lavratura do ...           1\n",
            "NSA                                                          1\n",
            "NDA                                                          1\n",
            "Sem informação                                               1\n"
          ]
        }
      ]
    },
    {
      "cell_type": "markdown",
      "source": [
        "n) 70 - Qual foi o motivo de requisição da perícia?"
      ],
      "metadata": {
        "id": "HMvIqpX6wRMt"
      }
    },
    {
      "cell_type": "code",
      "source": [
        "var_70 = planilha[\"70 - Qual foi o motivo de requisição da perícia?\"].value_counts().to_frame()\n",
        "var_70.rename(columns = {\"70 - Qual foi o motivo de requisição da perícia?\": \"quantidade\"},inplace = True)\n",
        "\n",
        "var_70.to_excel(\"var_70.xlsx\")\n",
        "files.download('var_70.xlsx')\n",
        "print(var_70)"
      ],
      "metadata": {
        "colab": {
          "base_uri": "https://localhost:8080/",
          "height": 272
        },
        "id": "RBkIX1KOwSHn",
        "outputId": "99fabf22-66ac-4de7-fdea-36f592e36357"
      },
      "execution_count": 20,
      "outputs": [
        {
          "output_type": "display_data",
          "data": {
            "text/plain": [
              "<IPython.core.display.Javascript object>"
            ],
            "application/javascript": [
              "\n",
              "    async function download(id, filename, size) {\n",
              "      if (!google.colab.kernel.accessAllowed) {\n",
              "        return;\n",
              "      }\n",
              "      const div = document.createElement('div');\n",
              "      const label = document.createElement('label');\n",
              "      label.textContent = `Downloading \"${filename}\": `;\n",
              "      div.appendChild(label);\n",
              "      const progress = document.createElement('progress');\n",
              "      progress.max = size;\n",
              "      div.appendChild(progress);\n",
              "      document.body.appendChild(div);\n",
              "\n",
              "      const buffers = [];\n",
              "      let downloaded = 0;\n",
              "\n",
              "      const channel = await google.colab.kernel.comms.open(id);\n",
              "      // Send a message to notify the kernel that we're ready.\n",
              "      channel.send({})\n",
              "\n",
              "      for await (const message of channel.messages) {\n",
              "        // Send a message to notify the kernel that we're ready.\n",
              "        channel.send({})\n",
              "        if (message.buffers) {\n",
              "          for (const buffer of message.buffers) {\n",
              "            buffers.push(buffer);\n",
              "            downloaded += buffer.byteLength;\n",
              "            progress.value = downloaded;\n",
              "          }\n",
              "        }\n",
              "      }\n",
              "      const blob = new Blob(buffers, {type: 'application/binary'});\n",
              "      const a = document.createElement('a');\n",
              "      a.href = window.URL.createObjectURL(blob);\n",
              "      a.download = filename;\n",
              "      div.appendChild(a);\n",
              "      a.click();\n",
              "      div.remove();\n",
              "    }\n",
              "  "
            ]
          },
          "metadata": {}
        },
        {
          "output_type": "display_data",
          "data": {
            "text/plain": [
              "<IPython.core.display.Javascript object>"
            ],
            "application/javascript": [
              "download(\"download_1167dfb3-3f52-4bef-a7ef-4104cecee709\", \"var_70.xlsx\", 8547)"
            ]
          },
          "metadata": {}
        },
        {
          "output_type": "stream",
          "name": "stdout",
          "text": [
            "                                                    quantidade\n",
            "NSA                                                        994\n",
            "SI                                                          39\n",
            "Investigar as causas da morte                               21\n",
            "Esclarecer as causas da morte                               20\n",
            "Investigação policial: homicídio                             8\n",
            "...                                                        ...\n",
            "Corpo encontrado carbonizado e que foi necessár...           1\n",
            "\"morte por intervenção policial/baleamento, ond...           1\n",
            "Quesitos da Requisição de Exame Pericial-Necros...           1\n",
            "Identificação da causa da morte                              1\n",
            "Investigação policial: homicidio                             1\n",
            "\n",
            "[110 rows x 1 columns]\n"
          ]
        }
      ]
    },
    {
      "cell_type": "markdown",
      "source": [
        "o) 24 - Profissão"
      ],
      "metadata": {
        "id": "bC6NDVXcwtQV"
      }
    },
    {
      "cell_type": "code",
      "source": [
        "var_24 = planilha[\"24 - Profissão\"].value_counts().to_frame()\n",
        "var_24.rename(columns = {\"24 - Profissão\": \"quantidade\"},inplace = True)\n",
        "var_24.to_excel(\"var_24.xlsx\")\n",
        "files.download('var_24.xlsx')\n",
        "print(var_24)"
      ],
      "metadata": {
        "colab": {
          "base_uri": "https://localhost:8080/",
          "height": 327
        },
        "id": "SUnLn8jFwtxv",
        "outputId": "19203608-3fdc-43b5-a2ca-53d7df29bfcc"
      },
      "execution_count": 21,
      "outputs": [
        {
          "output_type": "display_data",
          "data": {
            "text/plain": [
              "<IPython.core.display.Javascript object>"
            ],
            "application/javascript": [
              "\n",
              "    async function download(id, filename, size) {\n",
              "      if (!google.colab.kernel.accessAllowed) {\n",
              "        return;\n",
              "      }\n",
              "      const div = document.createElement('div');\n",
              "      const label = document.createElement('label');\n",
              "      label.textContent = `Downloading \"${filename}\": `;\n",
              "      div.appendChild(label);\n",
              "      const progress = document.createElement('progress');\n",
              "      progress.max = size;\n",
              "      div.appendChild(progress);\n",
              "      document.body.appendChild(div);\n",
              "\n",
              "      const buffers = [];\n",
              "      let downloaded = 0;\n",
              "\n",
              "      const channel = await google.colab.kernel.comms.open(id);\n",
              "      // Send a message to notify the kernel that we're ready.\n",
              "      channel.send({})\n",
              "\n",
              "      for await (const message of channel.messages) {\n",
              "        // Send a message to notify the kernel that we're ready.\n",
              "        channel.send({})\n",
              "        if (message.buffers) {\n",
              "          for (const buffer of message.buffers) {\n",
              "            buffers.push(buffer);\n",
              "            downloaded += buffer.byteLength;\n",
              "            progress.value = downloaded;\n",
              "          }\n",
              "        }\n",
              "      }\n",
              "      const blob = new Blob(buffers, {type: 'application/binary'});\n",
              "      const a = document.createElement('a');\n",
              "      a.href = window.URL.createObjectURL(blob);\n",
              "      a.download = filename;\n",
              "      div.appendChild(a);\n",
              "      a.click();\n",
              "      div.remove();\n",
              "    }\n",
              "  "
            ]
          },
          "metadata": {}
        },
        {
          "output_type": "display_data",
          "data": {
            "text/plain": [
              "<IPython.core.display.Javascript object>"
            ],
            "application/javascript": [
              "download(\"download_95d5b130-c3bf-45a7-9a49-a78b76243b01\", \"var_24.xlsx\", 5347)"
            ]
          },
          "metadata": {}
        },
        {
          "output_type": "stream",
          "name": "stdout",
          "text": [
            "                                                    quantidade\n",
            "não desempregado/a                                         627\n",
            "sem informações                                            381\n",
            "desempregado/a                                             194\n",
            "estudante                                                   69\n",
            "aposentado/a                                                32\n",
            "Dona de casa                                                 2\n",
            "Sem profissão definida                                       1\n",
            "Policial Militar reformado                                   1\n",
            "Liderança do tráfico do AM                                   1\n",
            "autônomo (C.O.)                                              1\n",
            "manutenção e limpeza na prisão.                              1\n",
            "Atividade laborativa no âmbito prisional: auto ...           1\n",
            "\"sem profissão\"                                              1\n",
            "ilegível na C.O.                                             1\n",
            "do lar                                                       1\n",
            "pensionista (militar)                                        1\n"
          ]
        }
      ]
    },
    {
      "cell_type": "markdown",
      "source": [
        "\n",
        "p) 25 - Ocupação laborativa fora do cárcere (se não houver colocar \"NSA\")"
      ],
      "metadata": {
        "id": "54JOCSodxJw7"
      }
    },
    {
      "cell_type": "code",
      "source": [
        "var_25 = planilha[\"25 - Ocupação laborativa fora do cárcere\"].value_counts().to_frame()\n",
        "var_25.rename(columns = {\"25 - Ocupação laborativa fora do cárcere\": \"quantidade\"},inplace = True)\n",
        "var_25.to_excel(\"var_25.xlsx\")\n",
        "files.download('var_25.xlsx')\n",
        "print(var_25)"
      ],
      "metadata": {
        "colab": {
          "base_uri": "https://localhost:8080/",
          "height": 272
        },
        "id": "PHmNNjMSxMG3",
        "outputId": "da7b45ce-97d1-4949-ea25-24013ddeee85"
      },
      "execution_count": 27,
      "outputs": [
        {
          "output_type": "display_data",
          "data": {
            "text/plain": [
              "<IPython.core.display.Javascript object>"
            ],
            "application/javascript": [
              "\n",
              "    async function download(id, filename, size) {\n",
              "      if (!google.colab.kernel.accessAllowed) {\n",
              "        return;\n",
              "      }\n",
              "      const div = document.createElement('div');\n",
              "      const label = document.createElement('label');\n",
              "      label.textContent = `Downloading \"${filename}\": `;\n",
              "      div.appendChild(label);\n",
              "      const progress = document.createElement('progress');\n",
              "      progress.max = size;\n",
              "      div.appendChild(progress);\n",
              "      document.body.appendChild(div);\n",
              "\n",
              "      const buffers = [];\n",
              "      let downloaded = 0;\n",
              "\n",
              "      const channel = await google.colab.kernel.comms.open(id);\n",
              "      // Send a message to notify the kernel that we're ready.\n",
              "      channel.send({})\n",
              "\n",
              "      for await (const message of channel.messages) {\n",
              "        // Send a message to notify the kernel that we're ready.\n",
              "        channel.send({})\n",
              "        if (message.buffers) {\n",
              "          for (const buffer of message.buffers) {\n",
              "            buffers.push(buffer);\n",
              "            downloaded += buffer.byteLength;\n",
              "            progress.value = downloaded;\n",
              "          }\n",
              "        }\n",
              "      }\n",
              "      const blob = new Blob(buffers, {type: 'application/binary'});\n",
              "      const a = document.createElement('a');\n",
              "      a.href = window.URL.createObjectURL(blob);\n",
              "      a.download = filename;\n",
              "      div.appendChild(a);\n",
              "      a.click();\n",
              "      div.remove();\n",
              "    }\n",
              "  "
            ]
          },
          "metadata": {}
        },
        {
          "output_type": "display_data",
          "data": {
            "text/plain": [
              "<IPython.core.display.Javascript object>"
            ],
            "application/javascript": [
              "download(\"download_0fb33a23-434b-4279-b8ad-d462761f04cb\", \"var_25.xlsx\", 15935)"
            ]
          },
          "metadata": {}
        },
        {
          "output_type": "stream",
          "name": "stdout",
          "text": [
            "                                                    quantidade\n",
            "NSA                                                        352\n",
            "SI                                                         131\n",
            "Autônomo                                                    32\n",
            "Comerciante                                                 26\n",
            "Pedreiro                                                    24\n",
            "...                                                        ...\n",
            "Serviços gerais; trabalhor em Fazenda                        1\n",
            "Interrogatório: agricultor; Vida pregressa em f...           1\n",
            "Ficha do réu: agente de serviços gerais                      1\n",
            "Lavrador (mas desempregado no momento do flagra...           1\n",
            "Corretora                                                    1\n",
            "\n",
            "[512 rows x 1 columns]\n"
          ]
        }
      ]
    },
    {
      "cell_type": "markdown",
      "source": [
        "q) 52 - Especificação do lugar da morte"
      ],
      "metadata": {
        "id": "WaY1H81ZfTPu"
      }
    },
    {
      "cell_type": "code",
      "source": [
        "var_52 = planilha[\"52 - Especificação do lugar da morte\"].value_counts().to_frame()\n",
        "var_52.rename(columns = {\"52 - Especificação do lugar da morte\": \"quantidade\"},inplace = True)\n",
        "var_52.to_excel(\"var_52.xlsx\")\n",
        "files.download('var_52.xlsx')\n",
        "print(var_52)"
      ],
      "metadata": {
        "colab": {
          "base_uri": "https://localhost:8080/",
          "height": 272
        },
        "id": "KJaMFB_ufZKL",
        "outputId": "82f3aeb1-2120-4966-d108-95970b8e73b1"
      },
      "execution_count": 9,
      "outputs": [
        {
          "output_type": "display_data",
          "data": {
            "text/plain": [
              "<IPython.core.display.Javascript object>"
            ],
            "application/javascript": [
              "\n",
              "    async function download(id, filename, size) {\n",
              "      if (!google.colab.kernel.accessAllowed) {\n",
              "        return;\n",
              "      }\n",
              "      const div = document.createElement('div');\n",
              "      const label = document.createElement('label');\n",
              "      label.textContent = `Downloading \"${filename}\": `;\n",
              "      div.appendChild(label);\n",
              "      const progress = document.createElement('progress');\n",
              "      progress.max = size;\n",
              "      div.appendChild(progress);\n",
              "      document.body.appendChild(div);\n",
              "\n",
              "      const buffers = [];\n",
              "      let downloaded = 0;\n",
              "\n",
              "      const channel = await google.colab.kernel.comms.open(id);\n",
              "      // Send a message to notify the kernel that we're ready.\n",
              "      channel.send({})\n",
              "\n",
              "      for await (const message of channel.messages) {\n",
              "        // Send a message to notify the kernel that we're ready.\n",
              "        channel.send({})\n",
              "        if (message.buffers) {\n",
              "          for (const buffer of message.buffers) {\n",
              "            buffers.push(buffer);\n",
              "            downloaded += buffer.byteLength;\n",
              "            progress.value = downloaded;\n",
              "          }\n",
              "        }\n",
              "      }\n",
              "      const blob = new Blob(buffers, {type: 'application/binary'});\n",
              "      const a = document.createElement('a');\n",
              "      a.href = window.URL.createObjectURL(blob);\n",
              "      a.download = filename;\n",
              "      div.appendChild(a);\n",
              "      a.click();\n",
              "      div.remove();\n",
              "    }\n",
              "  "
            ]
          },
          "metadata": {}
        },
        {
          "output_type": "display_data",
          "data": {
            "text/plain": [
              "<IPython.core.display.Javascript object>"
            ],
            "application/javascript": [
              "download(\"download_dd1b8cea-7124-45cf-a6a6-40f5f6e8989e\", \"var_52.xlsx\", 40557)"
            ]
          },
          "metadata": {}
        },
        {
          "output_type": "stream",
          "name": "stdout",
          "text": [
            "                                                    quantidade\n",
            "SI                                                          86\n",
            "NSA                                                         29\n",
            "Via pública                                                 11\n",
            "Hospital Geral de Roraima - HGR, Boa Vista                  10\n",
            "Domicílio                                                    6\n",
            "...                                                        ...\n",
            "Domicílio Povoado de Vacas, Bairro Zona Rural d...           1\n",
            "RUA BERU-LAGO, S/N - CENTRO , SÃO MATEUS DO MAR...           1\n",
            "Hospital Municipal Djalma Marques                            1\n",
            "Hospital Geral Municipal de Codó - MA                        1\n",
            "Via pública em Araguaíana (Rua Porto Nacional n...           1\n",
            "\n",
            "[1089 rows x 1 columns]\n"
          ]
        }
      ]
    },
    {
      "cell_type": "markdown",
      "source": [
        "r) 56 - Circunstâncias da morte indicadas por outros documentos"
      ],
      "metadata": {
        "id": "sIg1e088iM5G"
      }
    },
    {
      "cell_type": "code",
      "source": [
        "var_56 = planilha[\"56 - Circunstâncias da morte indicadas por outros documentos\"].value_counts().to_frame()\n",
        "var_56.rename(columns = {\"56 - Circunstâncias da morte indicadas por outros documentos\": \"quantidade\"},inplace = True)\n",
        "var_56.to_excel(\"var_56.xlsx\")\n",
        "files.download('var_56.xlsx')\n",
        "print(var_56)"
      ],
      "metadata": {
        "colab": {
          "base_uri": "https://localhost:8080/",
          "height": 272
        },
        "id": "03xoSKtHN9s6",
        "outputId": "7073e479-646e-4276-8893-75938d21e6c1"
      },
      "execution_count": 3,
      "outputs": [
        {
          "output_type": "display_data",
          "data": {
            "text/plain": [
              "<IPython.core.display.Javascript object>"
            ],
            "application/javascript": [
              "\n",
              "    async function download(id, filename, size) {\n",
              "      if (!google.colab.kernel.accessAllowed) {\n",
              "        return;\n",
              "      }\n",
              "      const div = document.createElement('div');\n",
              "      const label = document.createElement('label');\n",
              "      label.textContent = `Downloading \"${filename}\": `;\n",
              "      div.appendChild(label);\n",
              "      const progress = document.createElement('progress');\n",
              "      progress.max = size;\n",
              "      div.appendChild(progress);\n",
              "      document.body.appendChild(div);\n",
              "\n",
              "      const buffers = [];\n",
              "      let downloaded = 0;\n",
              "\n",
              "      const channel = await google.colab.kernel.comms.open(id);\n",
              "      // Send a message to notify the kernel that we're ready.\n",
              "      channel.send({})\n",
              "\n",
              "      for await (const message of channel.messages) {\n",
              "        // Send a message to notify the kernel that we're ready.\n",
              "        channel.send({})\n",
              "        if (message.buffers) {\n",
              "          for (const buffer of message.buffers) {\n",
              "            buffers.push(buffer);\n",
              "            downloaded += buffer.byteLength;\n",
              "            progress.value = downloaded;\n",
              "          }\n",
              "        }\n",
              "      }\n",
              "      const blob = new Blob(buffers, {type: 'application/binary'});\n",
              "      const a = document.createElement('a');\n",
              "      a.href = window.URL.createObjectURL(blob);\n",
              "      a.download = filename;\n",
              "      div.appendChild(a);\n",
              "      a.click();\n",
              "      div.remove();\n",
              "    }\n",
              "  "
            ]
          },
          "metadata": {}
        },
        {
          "output_type": "display_data",
          "data": {
            "text/plain": [
              "<IPython.core.display.Javascript object>"
            ],
            "application/javascript": [
              "download(\"download_464a241a-69a2-405f-80b3-8212d4c0f771\", \"var_56.xlsx\", 61970)"
            ]
          },
          "metadata": {}
        },
        {
          "output_type": "stream",
          "name": "stdout",
          "text": [
            "                                                    quantidade\n",
            "NSA                                                        731\n",
            "SI                                                         153\n",
            "Relatório de Ocorrência Policial: \"quando em pa...           2\n",
            "CO: acidente automobilístico                                 2\n",
            "CO: Acidente de trânsito                                     2\n",
            "...                                                        ...\n",
            "Óbito levou a desativação do equipamento de mon...           1\n",
            "Josevaldo foi encontrado morto após ser alvejad...           1\n",
            "Acidente de trânsito                                         1\n",
            "Ofício da unidade penal de regime aberto inform...           1\n",
            "Laudo necroscópico: \"Vítima de homicídio por di...           1\n",
            "\n",
            "[357 rows x 1 columns]\n"
          ]
        }
      ]
    },
    {
      "cell_type": "markdown",
      "source": [
        "s) 67 - Resultado da investigação"
      ],
      "metadata": {
        "id": "2GtoPohQhE5Y"
      }
    },
    {
      "cell_type": "code",
      "source": [
        "var_67 = planilha[\"67 - Resultado da investigação\"].value_counts().to_frame()\n",
        "var_67.rename(columns = {\"67 - Resultado da investigação\": \"quantidade\"},inplace = True)\n",
        "var_67.to_excel(\"var_67.xlsx\")\n",
        "files.download('var_67.xlsx')\n",
        "print(var_67)"
      ],
      "metadata": {
        "colab": {
          "base_uri": "https://localhost:8080/",
          "height": 601
        },
        "id": "-GyIn9QKhGRR",
        "outputId": "8ad65e0f-7f50-4708-d555-cd68d1fe80e2"
      },
      "execution_count": 4,
      "outputs": [
        {
          "output_type": "display_data",
          "data": {
            "text/plain": [
              "<IPython.core.display.Javascript object>"
            ],
            "application/javascript": [
              "\n",
              "    async function download(id, filename, size) {\n",
              "      if (!google.colab.kernel.accessAllowed) {\n",
              "        return;\n",
              "      }\n",
              "      const div = document.createElement('div');\n",
              "      const label = document.createElement('label');\n",
              "      label.textContent = `Downloading \"${filename}\": `;\n",
              "      div.appendChild(label);\n",
              "      const progress = document.createElement('progress');\n",
              "      progress.max = size;\n",
              "      div.appendChild(progress);\n",
              "      document.body.appendChild(div);\n",
              "\n",
              "      const buffers = [];\n",
              "      let downloaded = 0;\n",
              "\n",
              "      const channel = await google.colab.kernel.comms.open(id);\n",
              "      // Send a message to notify the kernel that we're ready.\n",
              "      channel.send({})\n",
              "\n",
              "      for await (const message of channel.messages) {\n",
              "        // Send a message to notify the kernel that we're ready.\n",
              "        channel.send({})\n",
              "        if (message.buffers) {\n",
              "          for (const buffer of message.buffers) {\n",
              "            buffers.push(buffer);\n",
              "            downloaded += buffer.byteLength;\n",
              "            progress.value = downloaded;\n",
              "          }\n",
              "        }\n",
              "      }\n",
              "      const blob = new Blob(buffers, {type: 'application/binary'});\n",
              "      const a = document.createElement('a');\n",
              "      a.href = window.URL.createObjectURL(blob);\n",
              "      a.download = filename;\n",
              "      div.appendChild(a);\n",
              "      a.click();\n",
              "      div.remove();\n",
              "    }\n",
              "  "
            ]
          },
          "metadata": {}
        },
        {
          "output_type": "display_data",
          "data": {
            "text/plain": [
              "<IPython.core.display.Javascript object>"
            ],
            "application/javascript": [
              "download(\"download_ab481692-26d5-44d7-bcb6-a161c3410168\", \"var_67.xlsx\", 7575)"
            ]
          },
          "metadata": {}
        },
        {
          "output_type": "stream",
          "name": "stdout",
          "text": [
            "                                                    quantidade\n",
            "NSA                                                        995\n",
            "SI                                                         123\n",
            "nsa                                                          4\n",
            "Relatório final: \"Considerando o laudo pericial...           2\n",
            "Consta do relatório: \"a ação dos Policiais está...           2\n",
            "Não há informações precisas sobre o resultado d...           2\n",
            "Conclusão do procedimento policial sem indiciam...           1\n",
            "Só é possível saber que \"rapaz atingido era de ...           1\n",
            "A única informação sobre a investigação no proc...           1\n",
            "\"Os servidores policiais agiram amparados nas c...           1\n",
            "\"Entendo que os servidores policiais agiram amp...           1\n",
            "\"Neste procedimento, além do relato da apreensã...           1\n",
            "Arquivamento (\"não há suporte probatório mínimo...           1\n",
            "NSA'                                                         1\n",
            "NSA0                                                         1\n",
            "Sem informações. Pesquisei o processo, mas está...           1\n",
            "Arquivamento por ausência de dados suficientes ...           1\n",
            "Arão foi vítima de homicídio e a polícia indici...           1\n",
            "Provavelmente se concluiu pela autoria de algué...           1\n",
            "Afirmam que Augusto foi vítima de homicídio pel...           1\n",
            "Alguém foi indiciado, já que foi instaurado um ...           1\n",
            "Concluiu-se que a morte se deu \"por traumatismo...           1\n",
            "NDS                                                          1\n",
            "Delegado de polícia opinou pelo arquivamento do...           1\n",
            "Sem informações                                              1\n",
            "Requerimento de arquivamento dos autos por cont...           1\n",
            "Autuação e prisão preventiva de duas pessoas po...           1\n",
            " NSA                                                         1\n",
            "Os policiais responsáveis pela morte da vítima ...           1\n",
            "MSA                                                          1\n",
            "Foi morto por legítima defesa das pessoas que t...           1\n"
          ]
        }
      ]
    }
  ]
}