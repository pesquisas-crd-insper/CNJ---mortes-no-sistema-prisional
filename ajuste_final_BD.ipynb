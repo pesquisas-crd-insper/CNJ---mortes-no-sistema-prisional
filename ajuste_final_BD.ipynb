{
  "nbformat": 4,
  "nbformat_minor": 0,
  "metadata": {
    "colab": {
      "provenance": []
    },
    "kernelspec": {
      "name": "python3",
      "display_name": "Python 3"
    },
    "language_info": {
      "name": "python"
    }
  },
  "cells": [
    {
      "cell_type": "code",
      "execution_count": 527,
      "metadata": {
        "colab": {
          "base_uri": "https://localhost:8080/"
        },
        "id": "j-d3b98BnGrf",
        "outputId": "9a4a422f-7fd4-4afe-8a71-d27894cd3b8b"
      },
      "outputs": [
        {
          "output_type": "stream",
          "name": "stdout",
          "text": [
            "Drive already mounted at /content/drive; to attempt to forcibly remount, call drive.mount(\"/content/drive\", force_remount=True).\n",
            "Looking in indexes: https://pypi.org/simple, https://us-python.pkg.dev/colab-wheels/public/simple/\n",
            "Requirement already satisfied: docxtpl in /usr/local/lib/python3.7/dist-packages (0.16.4)\n",
            "Requirement already satisfied: python-docx in /usr/local/lib/python3.7/dist-packages (from docxtpl) (0.8.11)\n",
            "Requirement already satisfied: docxcompose in /usr/local/lib/python3.7/dist-packages (from docxtpl) (1.3.7)\n",
            "Requirement already satisfied: six in /usr/local/lib/python3.7/dist-packages (from docxtpl) (1.15.0)\n",
            "Requirement already satisfied: jinja2 in /usr/local/lib/python3.7/dist-packages (from docxtpl) (2.11.3)\n",
            "Requirement already satisfied: lxml in /usr/local/lib/python3.7/dist-packages (from docxtpl) (4.9.1)\n",
            "Requirement already satisfied: setuptools in /usr/local/lib/python3.7/dist-packages (from docxcompose->docxtpl) (57.4.0)\n",
            "Requirement already satisfied: babel in /usr/local/lib/python3.7/dist-packages (from docxcompose->docxtpl) (2.11.0)\n",
            "Requirement already satisfied: pytz>=2015.7 in /usr/local/lib/python3.7/dist-packages (from babel->docxcompose->docxtpl) (2022.6)\n",
            "Requirement already satisfied: MarkupSafe>=0.23 in /usr/local/lib/python3.7/dist-packages (from jinja2->docxtpl) (2.0.1)\n"
          ]
        }
      ],
      "source": [
        "import pandas as pd\n",
        "import re, os\n",
        "import numpy as np\n",
        "from google.colab import drive\n",
        "from google.colab import files\n",
        "drive.mount('/content/drive')\n",
        "from PIL import Image\n",
        "from wordcloud import WordCloud, ImageColorGenerator\n",
        "\n",
        "! pip install docxtpl\n",
        "from docxtpl import DocxTemplate, InlineImage\n",
        "from docx.shared import Cm\n",
        "import matplotlib.pyplot as plt\n",
        "import datetime"
      ]
    },
    {
      "cell_type": "code",
      "source": [
        "df = pd.read_excel(\"/content/drive/My Drive/codigos_colab/planilha_coleta_30_11.xlsx\")\n"
      ],
      "metadata": {
        "id": "5D1xCImKnNPF"
      },
      "execution_count": 528,
      "outputs": []
    },
    {
      "cell_type": "markdown",
      "source": [
        "1. Inserindo os casos da Ana Clara"
      ],
      "metadata": {
        "id": "DrBvvRVUqaNw"
      }
    },
    {
      "cell_type": "code",
      "source": [
        "df_1 = pd.read_excel('/content/drive/My Drive/codigos_colab/sorteio_0_v3_amostra_1_anaklink.xlsx')\n",
        "df_2 =  pd.read_excel('/content/drive/My Drive/codigos_colab/sorteio_1_v3_amostra_1_Anaklink.xlsx')\n",
        "\n",
        "df_1 = df_1.iloc[7:,:]\n",
        "df_2 = df_2.iloc[:24,:]\n",
        "\n",
        "df_es = pd.concat([df_1,df_2],ignore_index=True)\n",
        "\n",
        "# df_es.drop_duplicates(inplace = True)\n",
        "\n",
        "print(len(df_es))\n",
        "\n",
        "df_filter = df['9 - Nome do tribunal que abrange o foro/comarca/subseção onde o processo foi distribuído'] == \"TJES\"\n",
        "df_filtro_es = df[df_filter]\n",
        "\n",
        "# print(df_filtro_es.iloc[:,1])\n",
        "\n",
        "idx = [3150]\n",
        "\n",
        "# todos os números do ES\n",
        "df_filtro_es.drop(idx, inplace= True)\n",
        "\n",
        "# print(len(df_filtro_es))\n",
        "\n",
        "# print(df_es)"
      ],
      "metadata": {
        "colab": {
          "base_uri": "https://localhost:8080/"
        },
        "id": "R7RpFyQ9qZxB",
        "outputId": "916494f4-64f2-45cf-edfc-7f96a8d91a9f"
      },
      "execution_count": 529,
      "outputs": [
        {
          "output_type": "stream",
          "name": "stdout",
          "text": [
            "217\n"
          ]
        },
        {
          "output_type": "stream",
          "name": "stderr",
          "text": [
            "/usr/local/lib/python3.7/dist-packages/pandas/core/frame.py:4913: SettingWithCopyWarning: \n",
            "A value is trying to be set on a copy of a slice from a DataFrame\n",
            "\n",
            "See the caveats in the documentation: https://pandas.pydata.org/pandas-docs/stable/user_guide/indexing.html#returning-a-view-versus-a-copy\n",
            "  errors=errors,\n"
          ]
        }
      ]
    },
    {
      "cell_type": "code",
      "source": [
        "lista_num = df_es[\"Número do Processo\"].to_list()\n",
        "\n",
        "df_es_ajust = pd.DataFrame()\n",
        "\n",
        "df_es_ajust[\"3 - Número do processo (se possível, colocar no padrão CNJ com pontos e traço. EX: 1000347-33.2021.8.26.0114):\"] = lista_num\n",
        "\n",
        "datetime_obj = datetime.datetime.strptime('11/2/2022 08:26:42', '%m/%d/%Y %H:%M:%S')\n",
        "datetime_obj_2 = datetime.datetime.strptime('1/1/0001','%d/%m/%Y')\n",
        "datetime_obj_3 = datetime.datetime.strptime('11/2/2022 08:27:42', '%m/%d/%Y %H:%M:%S')\n",
        "\n",
        "\n",
        "df_es_ajust[\"Carimbo de data/hora\"] = datetime_obj \n",
        "df_es_ajust[\"1 - Nome do pesquisadora\"] = \"Ana Clara\"\n",
        "df_es_ajust['3.1 - Caso descartado antecipadamente? (por motivos como \"não encontrado no sistema\", \"número inválido\", etc)'] = \"Sim\"\n",
        "df_es_ajust['3.1.1. Em caso de resposta \"sim\" na pergunta anterior, informe o motivo:'] = \"Não encontrado no sistema\"\n",
        "df_es_ajust['4 - Data da distribuição (colocar 010101 - para casos \"sem informações\")'] = datetime_obj_2\n",
        "df_es_ajust[\"5 - É caso de interesse?\"] = \"não\"\n",
        "df_es_ajust[\"5.1 - Se a resposta anterior foi não, qual a razão da eliminação ?\"] = \"Processo não encontrado\"\n",
        "df_es_ajust[\"80 - fim do preenchimento\"] = datetime_obj_3\n",
        "df_es_ajust['Endereço de e-mail'] = \"anaclaraklink@gmail.com\"\n",
        "\n",
        "print(len(df))\n",
        "df = df.iloc[5:,:]\n",
        "# print(df.iloc[0,1])\n",
        "print(len(df))\n",
        "df_final = pd.concat([df,df_es_ajust], ignore_index=True)\n",
        "\n",
        "print(len(df_final))\n",
        "# print(df_final)"
      ],
      "metadata": {
        "colab": {
          "base_uri": "https://localhost:8080/"
        },
        "id": "aWAZBqXdPMYD",
        "outputId": "a242bc13-f41a-4e7b-e625-a9b82d4d3063"
      },
      "execution_count": 530,
      "outputs": [
        {
          "output_type": "stream",
          "name": "stdout",
          "text": [
            "4002\n",
            "3997\n",
            "4214\n"
          ]
        }
      ]
    },
    {
      "cell_type": "code",
      "source": [
        "# limpando os números\n",
        "numeros = df_final.iloc[:,3].to_list()\n",
        "\n",
        "rgx_lp = re.compile(\"[^0-9]\")\n",
        "\n",
        "nm_limpos = []\n",
        "for n in range(len(numeros)):\n",
        "    # print(numeros[n])\n",
        "    nm = re.sub(rgx_lp,\"\",numeros[n])\n",
        "    # print(nm.strip())\n",
        "    nm_limpos.append(nm.strip())\n",
        "\n",
        "print(len(nm_limpos))"
      ],
      "metadata": {
        "colab": {
          "base_uri": "https://localhost:8080/"
        },
        "id": "45Lq4tL3tYsF",
        "outputId": "790d0371-ba2e-431f-88a9-b69ba3f9dfb0"
      },
      "execution_count": 531,
      "outputs": [
        {
          "output_type": "stream",
          "name": "stdout",
          "text": [
            "4214\n"
          ]
        }
      ]
    },
    {
      "cell_type": "code",
      "source": [
        "# inserindo os Estados\n",
        "\n",
        "dic_estados = {\"801\": \"AC\",\n",
        "               \"802\": \"AL\",\n",
        "               \"803\": \"AP\",\n",
        "               \"804\": \"AM\",\n",
        "               \"805\": \"BA\",\n",
        "               \"806\": \"CE\",\n",
        "               \"807\": \"DF\",\n",
        "               \"808\": \"ES\",\n",
        "               \"809\": \"GO\",\n",
        "               \"810\": \"MA\",\n",
        "               \"811\": \"MT\",\n",
        "               \"812\": \"MS\",\n",
        "               \"813\": \"MG\",\n",
        "               \"814\": \"PA\",\n",
        "               \"815\": \"PB\",\n",
        "               \"816\": \"PR\",\n",
        "               \"817\": \"PE\",\n",
        "               \"818\": \"PI\",\n",
        "               \"819\": \"RJ\",\n",
        "               \"820\": \"RN\",\n",
        "               \"821\": \"RS\",\n",
        "               \"822\": \"RO\",\n",
        "               \"823\": \"RR\",\n",
        "               \"824\": \"SC\",\n",
        "               \"825\": \"SE\",\n",
        "               \"826\": \"SP\",\n",
        "               \"827\": \"TO\",\n",
        "               \"501\": \"TRF1\"\n",
        "              }\n",
        "\n",
        "\n",
        "# teste = \"00021646120198060055\"\n",
        "#print(teste[13:16])\n",
        "\n",
        "estados = []\n",
        "a =0\n",
        "for num in nm_limpos:\n",
        "  trecho = num[13:16]\n",
        "  try:\n",
        "    estados.append(dic_estados[trecho])\n",
        "  except:\n",
        "    estados.append(None)\n",
        "    a = a+1\n",
        "\n",
        "# print(a)\n",
        "\n",
        "\n",
        "df_final[\"Estado\"] = estados\n",
        "\n",
        "\n",
        "df_final[\"Estado\"] = np.where(df_final[\"Estado\"].isnull() == True, df_final[\"9 - Nome do tribunal que abrange o foro/comarca/subseção onde o processo foi distribuído\"].str[2:],df_final[\"Estado\"])\n",
        "\n",
        "print(df_final[\"Estado\"])"
      ],
      "metadata": {
        "colab": {
          "base_uri": "https://localhost:8080/"
        },
        "id": "daFHOgFBtp-C",
        "outputId": "e76978bb-a13d-45a6-f5ff-274df2ffe7af"
      },
      "execution_count": 532,
      "outputs": [
        {
          "output_type": "stream",
          "name": "stdout",
          "text": [
            "0       AC\n",
            "1       AC\n",
            "2       AC\n",
            "3       AC\n",
            "4       AC\n",
            "        ..\n",
            "4209    ES\n",
            "4210    ES\n",
            "4211    ES\n",
            "4212    ES\n",
            "4213    ES\n",
            "Name: Estado, Length: 4214, dtype: object\n"
          ]
        }
      ]
    },
    {
      "cell_type": "code",
      "source": [
        "print(len(df_final))\n",
        "o = 0"
      ],
      "metadata": {
        "colab": {
          "base_uri": "https://localhost:8080/"
        },
        "id": "bcHnC6YL7fiO",
        "outputId": "ef1d9d7a-07d4-45a6-d19e-d0c17beff882"
      },
      "execution_count": 533,
      "outputs": [
        {
          "output_type": "stream",
          "name": "stdout",
          "text": [
            "4214\n"
          ]
        }
      ]
    },
    {
      "cell_type": "code",
      "source": [
        "# 1 - AC\n",
        "\n",
        "filter_ac = df_final[\"Estado\"] == \"AC\"\n",
        "df_filt_ac = df_final[filter_ac]\n",
        "\n",
        "print(df_filt_ac.value_counts(subset = ['Endereço de e-mail']))\n",
        "\n",
        "filter_2_ac = df_filt_ac['Endereço de e-mail'] == \"manuela.valenca@ufpe.br\"\n",
        "df_filt_ac_1 = df_filt_ac[filter_2_ac]\n",
        "\n",
        "filter_3_ac = df_filt_ac['Endereço de e-mail'] == \"manuela.valenca@gmail.com\"\n",
        "df_filt_ac_2 = df_filt_ac[filter_3_ac]\n",
        "\n",
        "df_filt_ac = pd.concat([df_filt_ac_1,df_filt_ac_2],ignore_index = True)\n",
        "print(len(df_filt_ac))\n",
        "# print(df_filt_ac)\n",
        "o = o+len(df_filt_ac)\n",
        "print(o)"
      ],
      "metadata": {
        "colab": {
          "base_uri": "https://localhost:8080/"
        },
        "id": "mMt_D0Fhh7hf",
        "outputId": "ef92dc04-ca75-4fb4-b2d5-4e1ca4d6ca48"
      },
      "execution_count": 534,
      "outputs": [
        {
          "output_type": "stream",
          "name": "stdout",
          "text": [
            "Endereço de e-mail       \n",
            "manuela.valenca@ufpe.br      132\n",
            "anandaendo@usp.br              6\n",
            "anandaendo@gmail.com           1\n",
            "manuela.valenca@gmail.com      1\n",
            "dtype: int64\n",
            "133\n",
            "133\n"
          ]
        }
      ]
    },
    {
      "cell_type": "code",
      "source": [
        "# 2- AL\n",
        "\n",
        "filter_al = df_final[\"Estado\"] == \"AL\"\n",
        "df_filt_al = df_final[filter_al]\n",
        "\n",
        "print(df_filt_al.value_counts(subset = ['Endereço de e-mail']))\n",
        "\n",
        "\n",
        "filter_2_al = df_filt_al['Endereço de e-mail'] == \"marimzambom@gmail.com\"\n",
        "df_filt_al = df_filt_al[filter_2_al]\n",
        "\n",
        "# filter_3 = df_filt['Endereço de e-mail'] == \"anaclaraklink@gmail.com\" # eliminar os 6 últimos da ANA Klink, possível bug\n",
        "# df_filt_al_f = df_filt[filter_3]\n",
        "\n",
        "\n",
        "# print(df_filt_al_f)\n",
        "print(len(df_filt_al))\n",
        "o = o+len(df_filt_al)\n",
        "print(o)"
      ],
      "metadata": {
        "colab": {
          "base_uri": "https://localhost:8080/"
        },
        "id": "ImBNZqsmjDVY",
        "outputId": "d0aeb4b1-7a31-4f67-ed3b-278f3ccfb22e"
      },
      "execution_count": 535,
      "outputs": [
        {
          "output_type": "stream",
          "name": "stdout",
          "text": [
            "Endereço de e-mail     \n",
            "marimzambom@gmail.com      74\n",
            "anaclaraklink@gmail.com     6\n",
            "dtype: int64\n",
            "74\n",
            "207\n"
          ]
        }
      ]
    },
    {
      "cell_type": "code",
      "source": [
        "# 3- AP\n",
        "\n",
        "filter_ap = df_final[\"Estado\"] == \"AP\"\n",
        "df_filt_ap = df_final[filter_ap]\n",
        "\n",
        "print(df_filt_ap.value_counts(subset = ['Endereço de e-mail']))\n",
        "\n",
        "\n",
        "filter_2_ap = df_filt_ap['Endereço de e-mail'] == \"marimzambom@gmail.com\"\n",
        "df_filt_ap_1 = df_filt_ap[filter_2_ap]\n",
        "\n",
        "filter_3_ap = df_filt_ap['Endereço de e-mail'] == \"marimzambom@hotmail.com\"\n",
        "df_filt_ap_2 = df_filt_ap[filter_3_ap]\n",
        "\n",
        "df_filt_ap = pd.concat([df_filt_ap_1,df_filt_ap_2],ignore_index = True)\n",
        "\n",
        "print(len(df_filt_ap))\n",
        "o = o+len(df_filt_ap)\n",
        "print(o)"
      ],
      "metadata": {
        "colab": {
          "base_uri": "https://localhost:8080/"
        },
        "id": "2XGIe6jgkGj_",
        "outputId": "4e451933-5f6e-4cdd-c82e-15adaafc192d"
      },
      "execution_count": 536,
      "outputs": [
        {
          "output_type": "stream",
          "name": "stdout",
          "text": [
            "Endereço de e-mail     \n",
            "marimzambom@gmail.com      100\n",
            "anaclaraklink@gmail.com      6\n",
            "marimzambom@hotmail.com      1\n",
            "dtype: int64\n",
            "101\n",
            "308\n"
          ]
        }
      ]
    },
    {
      "cell_type": "code",
      "source": [
        "# 4- AM\n",
        "\n",
        "filter_am = df_final[\"Estado\"] == \"AM\"\n",
        "df_filt_am = df_final[filter_am]\n",
        "\n",
        "print(df_filt_am.value_counts(subset = ['Endereço de e-mail']))\n",
        "\n",
        "\n",
        "filter_2_am = df_filt_am['Endereço de e-mail'] == \"manuela.valenca@ufpe.br\"\n",
        "df_filt_am = df_filt_am[filter_2_am]\n",
        "\n",
        "print(len(df_filt_am))\n",
        "# print(df_filt_am)\n",
        "o = o+len(df_filt_am)\n",
        "print(o)"
      ],
      "metadata": {
        "colab": {
          "base_uri": "https://localhost:8080/"
        },
        "id": "s6iaL9DqknZ6",
        "outputId": "7b32c8f1-a6b2-4d41-d56c-efcd96eb10ab"
      },
      "execution_count": 537,
      "outputs": [
        {
          "output_type": "stream",
          "name": "stdout",
          "text": [
            "Endereço de e-mail     \n",
            "manuela.valenca@ufpe.br    143\n",
            "anaclaraklink@gmail.com      6\n",
            "dtype: int64\n",
            "143\n",
            "451\n"
          ]
        }
      ]
    },
    {
      "cell_type": "code",
      "source": [
        "# 5 - BA\n",
        "\n",
        "filter_ba = df_final[\"Estado\"] == \"BA\"\n",
        "df_filt_ba = df_final[filter_ba]\n",
        "\n",
        "print(df_filt_ba.value_counts(subset = ['Endereço de e-mail']))\n",
        "\n",
        "\n",
        "filter_2_ba = df_filt_ba['Endereço de e-mail'] == \"analiagalvaoalmeida12@gmail.com\"\n",
        "df_filt_ba = df_filt_ba[filter_2_ba]\n",
        "\n",
        "print(len(df_filt_ba))\n",
        "o = o+len(df_filt_ba)\n",
        "print(o)"
      ],
      "metadata": {
        "colab": {
          "base_uri": "https://localhost:8080/"
        },
        "id": "ciqPciDWlHmx",
        "outputId": "cb5e5bc4-51b4-414f-879c-8123a5298256"
      },
      "execution_count": 538,
      "outputs": [
        {
          "output_type": "stream",
          "name": "stdout",
          "text": [
            "Endereço de e-mail             \n",
            "analiagalvaoalmeida12@gmail.com    251\n",
            "anaclaraklink@gmail.com              6\n",
            "dtype: int64\n",
            "251\n",
            "702\n"
          ]
        }
      ]
    },
    {
      "cell_type": "code",
      "source": [
        "# 6 - CE\n",
        "\n",
        "filter_ce = df_final[\"Estado\"] == \"CE\"\n",
        "df_filt_ce = df_final[filter_ce]\n",
        "\n",
        "print(df_filt_ce.value_counts(subset = ['Endereço de e-mail']))\n",
        "\n",
        "\n",
        "filter_2_ce = df_filt_ce['Endereço de e-mail'] == \"manuela.valenca@ufpe.br\"\n",
        "df_filt_ce = df_filt_ce[filter_2_ce]\n",
        "\n",
        "print(len(df_filt_ce))\n",
        "o = o+len(df_filt_ce)\n",
        "print(o)"
      ],
      "metadata": {
        "colab": {
          "base_uri": "https://localhost:8080/"
        },
        "id": "xT4rOhWWlbOt",
        "outputId": "407e053c-86cd-4a04-8432-b1d3679806de"
      },
      "execution_count": 539,
      "outputs": [
        {
          "output_type": "stream",
          "name": "stdout",
          "text": [
            "Endereço de e-mail     \n",
            "manuela.valenca@ufpe.br    55\n",
            "marimzambom@gmail.com       6\n",
            "dtype: int64\n",
            "55\n",
            "757\n"
          ]
        }
      ]
    },
    {
      "cell_type": "code",
      "source": [
        "# 7 - DF\n",
        "\n",
        "filter = df_final[\"Estado\"] == \"DF\"\n",
        "df_filt = df_final[filter]\n",
        "\n",
        "print(df_filt.value_counts(subset = ['Endereço de e-mail']))\n",
        "\n",
        "\n",
        "filter_2 = df_filt['Endereço de e-mail'] == \"anandaendo@usp.br\"\n",
        "df_filt_df = df_filt[filter_2]\n",
        "\n",
        "\n",
        "# filter_3 = df_filt['Endereço de e-mail'] == \"anandanendo@usp.br\" ### e-mail errado enviou de novo!\n",
        "# df_filt_df_2 = df_filt[filter_3]\n",
        "\n",
        "print(len(df_filt_df))\n",
        "o = o+len(df_filt_df)\n",
        "print(o)"
      ],
      "metadata": {
        "colab": {
          "base_uri": "https://localhost:8080/"
        },
        "id": "a8WA-_sEls2b",
        "outputId": "5363d9ea-7157-4d6a-8146-c8857bdf4e3c"
      },
      "execution_count": 540,
      "outputs": [
        {
          "output_type": "stream",
          "name": "stdout",
          "text": [
            "Endereço de e-mail         \n",
            "anandaendo@usp.br              93\n",
            "anabeatrizgpassos@gmail.com     7\n",
            "gabriellenascimento@usp.br      7\n",
            "anandanendo@usp.br              1\n",
            "dtype: int64\n",
            "93\n",
            "850\n"
          ]
        }
      ]
    },
    {
      "cell_type": "code",
      "source": [
        "# 8 -ES\n",
        "\n",
        "filter = df_final[\"Estado\"] == \"ES\"\n",
        "df_filt = df_final[filter]\n",
        "\n",
        "print(df_filt.value_counts(subset = ['Endereço de e-mail']))\n",
        "\n",
        "filter_2 = df_filt['Endereço de e-mail'] == \"anaclaraklink@gmail.com\"\n",
        "df_filt_es = df_filt[filter_2]\n",
        "\n",
        "print(len(df_filt_es))\n",
        "o = o+len(df_filt_es)\n",
        "print(o)"
      ],
      "metadata": {
        "colab": {
          "base_uri": "https://localhost:8080/"
        },
        "id": "m8sNnd46X_Rs",
        "outputId": "be3e043c-76fe-4afd-d8e5-c9a0dc636c0c"
      },
      "execution_count": 541,
      "outputs": [
        {
          "output_type": "stream",
          "name": "stdout",
          "text": [
            "Endereço de e-mail     \n",
            "anaclaraklink@gmail.com    271\n",
            "manuela.valenca@ufpe.br      6\n",
            "dtype: int64\n",
            "271\n",
            "1121\n"
          ]
        }
      ]
    },
    {
      "cell_type": "code",
      "source": [
        "# 9 - GO\n",
        "\n",
        "# não tem os de conferência\n",
        "\n",
        "filter = df_final[\"Estado\"] == \"GO\"\n",
        "df_filt= df_final[filter]\n",
        "\n",
        "print(df_filt.value_counts(subset = ['Endereço de e-mail']))\n",
        "\n",
        "filter_2 = df_filt['Endereço de e-mail'] == \"viviane.balbuglio@gmail.com\"\n",
        "df_filt_go = df_filt[filter_2]\n",
        "\n",
        "print(len(df_filt_go))\n",
        "o = o+len(df_filt_go)\n",
        "print(o)"
      ],
      "metadata": {
        "colab": {
          "base_uri": "https://localhost:8080/"
        },
        "id": "ldEYR4Ujm18P",
        "outputId": "79c78c44-d7c3-485f-85e8-6f921d3c8b2e"
      },
      "execution_count": 542,
      "outputs": [
        {
          "output_type": "stream",
          "name": "stdout",
          "text": [
            "Endereço de e-mail         \n",
            "viviane.balbuglio@gmail.com    93\n",
            "manuela.valenca@ufpe.br         2\n",
            "dtype: int64\n",
            "93\n",
            "1214\n"
          ]
        }
      ]
    },
    {
      "cell_type": "code",
      "source": [
        "# 10 - MA    \n",
        "\n",
        "# não tem os de conferência\n",
        "\n",
        "filter = df_final[\"Estado\"] == \"MA\"\n",
        "df_filt = df_final[filter]\n",
        "\n",
        "print(df_filt.value_counts(subset = ['Endereço de e-mail']))\n",
        "\n",
        "filter_2 = df_filt['Endereço de e-mail'] == \"gabriellenascimento@usp.br \"\n",
        "df_filt_ma_1 = df_filt[filter_2]\n",
        "\n",
        "\n",
        "filter_3 = df_filt['Endereço de e-mail'] == \"gabriellenascimento@usp.br\"\n",
        "df_filt_ma_2 = df_filt[filter_3]\n",
        "\n",
        "\n",
        "df_filt_ma = pd.concat([df_filt_ma_1,df_filt_ma_2],ignore_index = True)\n",
        "\n",
        "print(len(df_filt_ma))\n",
        "o = o+len(df_filt_ma)\n",
        "print(o)"
      ],
      "metadata": {
        "colab": {
          "base_uri": "https://localhost:8080/"
        },
        "id": "x5eeveManEAu",
        "outputId": "b0e0a41a-bdbf-45ba-bef1-0da8dc51ffe5"
      },
      "execution_count": 543,
      "outputs": [
        {
          "output_type": "stream",
          "name": "stdout",
          "text": [
            "Endereço de e-mail            \n",
            "gabriellenascimento@usp.br        293\n",
            "manuela.valenca@ufpe.br             6\n",
            "gabriellenascimento@usp.br          3\n",
            "gabrellenascimento@usp.br           1\n",
            "gabriellenasccimento@usp.br         1\n",
            "gabriellenascimento@usp.org.br      1\n",
            "gavbriellenascimento@usp.br         1\n",
            "dtype: int64\n",
            "296\n",
            "1510\n"
          ]
        }
      ]
    },
    {
      "cell_type": "code",
      "source": [
        "# 11 - MS\n",
        "\n",
        "filter = df_final[\"Estado\"] == \"MS\"\n",
        "df_filt = df_final[filter]\n",
        "\n",
        "print(df_filt.value_counts(subset = ['Endereço de e-mail']))\n",
        "\n",
        "filter_2 = df_filt['Endereço de e-mail'] == \"viviane.balbuglio@gmail.com\"\n",
        "df_filt_ms_1 = df_filt[filter_2]\n",
        "\n",
        "\n",
        "filter_3 = df_filt['Endereço de e-mail'] == \"anaclaraklink@gmail.com\"\n",
        "df_filt_ms_2 = df_filt[filter_3]\n",
        "\n",
        "\n",
        "df_filt_ms = pd.concat([df_filt_ms_1,df_filt_ms_2],ignore_index = True)\n",
        "\n",
        "print(len(df_filt_ms))\n",
        "o = o+len(df_filt_ms)\n",
        "print(o)"
      ],
      "metadata": {
        "colab": {
          "base_uri": "https://localhost:8080/"
        },
        "id": "e6s6UDK6ojZx",
        "outputId": "d50ff938-0afd-43a3-c364-e53bffdea159"
      },
      "execution_count": 544,
      "outputs": [
        {
          "output_type": "stream",
          "name": "stdout",
          "text": [
            "Endereço de e-mail         \n",
            "viviane.balbuglio@gmail.com    73\n",
            "anaclaraklink@gmail.com        10\n",
            "marimzambom@gmail.com           6\n",
            "dtype: int64\n",
            "83\n",
            "1593\n"
          ]
        }
      ]
    },
    {
      "cell_type": "code",
      "source": [
        "# 12 - MG\n",
        "\n",
        "filter = df_final[\"Estado\"] == \"MG\"\n",
        "df_filt = df_final[filter]\n",
        "\n",
        "print(df_filt.value_counts(subset = ['Endereço de e-mail']))\n",
        "\n",
        "filter_2 = df_filt['Endereço de e-mail'] == \"manuela.valenca@ufpe.br\"\n",
        "df_filt_mg = df_filt[filter_2]\n",
        "\n",
        "print(len(df_filt_mg))\n",
        "o = o+len(df_filt_mg)\n",
        "print(o)"
      ],
      "metadata": {
        "colab": {
          "base_uri": "https://localhost:8080/"
        },
        "id": "4ey2fE7ho7DT",
        "outputId": "f719d02a-cf3e-4f8e-9772-dd448647f89e"
      },
      "execution_count": 545,
      "outputs": [
        {
          "output_type": "stream",
          "name": "stdout",
          "text": [
            "Endereço de e-mail         \n",
            "manuela.valenca@ufpe.br        60\n",
            "anabeatrizgpassos@gmail.com     6\n",
            "dtype: int64\n",
            "60\n",
            "1653\n"
          ]
        }
      ]
    },
    {
      "cell_type": "code",
      "source": [
        "# 13 - MT\n",
        "\n",
        "filter = df_final[\"Estado\"] == \"MT\"\n",
        "df_filt = df_final[filter]\n",
        "\n",
        "print(df_filt.value_counts(subset = ['Endereço de e-mail']))\n",
        "\n",
        "filter_2 = df_filt['Endereço de e-mail'] == \"anaclaraklink@gmail.com\"\n",
        "df_filt_mt = df_filt[filter_2]\n",
        "\n",
        "## endereços da ana clara errados\n",
        "\n",
        "print(len(df_filt_mt))\n",
        "o = o+len(df_filt_mt)\n",
        "print(o)"
      ],
      "metadata": {
        "colab": {
          "base_uri": "https://localhost:8080/"
        },
        "id": "wG05svblpL5Q",
        "outputId": "88eae980-c160-41fb-e5f4-4a6ec53624b5"
      },
      "execution_count": 546,
      "outputs": [
        {
          "output_type": "stream",
          "name": "stdout",
          "text": [
            "Endereço de e-mail         \n",
            "anaclaraklink@gmail.com        263\n",
            "viviane.balbuglio@gmail.com      6\n",
            "anaclaraklinK@gmail.com          1\n",
            "anaclarklink@gmail.com           1\n",
            "dtype: int64\n",
            "263\n",
            "1916\n"
          ]
        }
      ]
    },
    {
      "cell_type": "code",
      "source": [
        "# 14 - PA\n",
        "\n",
        "\n",
        "filter = df_final[\"Estado\"] == \"PA\"\n",
        "df_filt = df_final[filter]\n",
        "\n",
        "print(df_filt.value_counts(subset = ['Endereço de e-mail']))\n",
        "\n",
        "filter_2 = df_filt['Endereço de e-mail'] == \"marimzambom@gmail.com\"\n",
        "df_filt_pa = df_filt[filter_2]\n",
        "\n",
        "\n",
        "\n",
        "## endereços da Mari errados\n",
        "\n",
        "# filter_3 = df_filt['Endereço de e-mail'] == \"anaclaraklink@gmail.com\"\n",
        "# df_filt_pa_b = df_filt[filter_3]\n",
        "\n",
        "\n",
        "# print(df_filt_pa_b)\n",
        "\n",
        "print(len(df_filt_pa))\n",
        "o = o+len(df_filt_pa)\n",
        "print(o)"
      ],
      "metadata": {
        "colab": {
          "base_uri": "https://localhost:8080/"
        },
        "id": "V4UI4y4EqA2E",
        "outputId": "9ccc2d65-1925-4079-c269-ebf869d9aece"
      },
      "execution_count": 547,
      "outputs": [
        {
          "output_type": "stream",
          "name": "stdout",
          "text": [
            "Endereço de e-mail     \n",
            "marimzambom@gmail.com      234\n",
            "anaclaraklink@gmail.com      6\n",
            "marimzambom@gmai.com         1\n",
            "dtype: int64\n",
            "234\n",
            "2150\n"
          ]
        }
      ]
    },
    {
      "cell_type": "code",
      "source": [
        "# 15 - PB\n",
        "\n",
        "filter = df_final[\"Estado\"] == \"PB\"\n",
        "df_filt = df_final[filter]\n",
        "\n",
        "print(df_filt.value_counts(subset = ['Endereço de e-mail']))\n",
        "\n",
        "filter_2 = df_filt['Endereço de e-mail'] == \"marimzambom@gmail.com\"\n",
        "df_filt_pb = df_filt[filter_2]\n",
        "\n",
        "\n",
        "print(len(df_filt_pb))\n",
        "o = o+len(df_filt_pb)\n",
        "print(o)"
      ],
      "metadata": {
        "colab": {
          "base_uri": "https://localhost:8080/"
        },
        "id": "vzW7yOwMqcwT",
        "outputId": "637c2b74-e05c-41ab-eac1-7c2b360ace63"
      },
      "execution_count": 548,
      "outputs": [
        {
          "output_type": "stream",
          "name": "stdout",
          "text": [
            "Endereço de e-mail   \n",
            "marimzambom@gmail.com    104\n",
            "anandaendo@usp.br          6\n",
            "dtype: int64\n",
            "104\n",
            "2254\n"
          ]
        }
      ]
    },
    {
      "cell_type": "code",
      "source": [
        "# 16 - PE\n",
        "\n",
        "\n",
        "filter = df_final[\"Estado\"] == \"PE\"\n",
        "df_filt = df_final[filter]\n",
        "\n",
        "print(df_filt.value_counts(subset = ['Endereço de e-mail']))\n",
        "\n",
        "filter_2 = df_filt['Endereço de e-mail'] == \"anandaendo@usp.br\"\n",
        "df_filt_pe = df_filt[filter_2]\n",
        "\n",
        "\n",
        "print(len(df_filt_pe))\n",
        "o = o+len(df_filt_pe)\n",
        "print(o)"
      ],
      "metadata": {
        "colab": {
          "base_uri": "https://localhost:8080/"
        },
        "id": "eaOKB6tIqx2t",
        "outputId": "a862112b-2740-4e5c-ae4e-0c04055fc067"
      },
      "execution_count": 549,
      "outputs": [
        {
          "output_type": "stream",
          "name": "stdout",
          "text": [
            "Endereço de e-mail     \n",
            "anandaendo@usp.br          312\n",
            "manuela.valenca@ufpe.br      5\n",
            "dtype: int64\n",
            "312\n",
            "2566\n"
          ]
        }
      ]
    },
    {
      "cell_type": "code",
      "source": [
        "# 17 - PI\n",
        "\n",
        "filter = df_final[\"Estado\"] == \"PI\"\n",
        "df_filt = df_final[filter]\n",
        "\n",
        "print(df_filt.value_counts(subset = ['Endereço de e-mail']))\n",
        "\n",
        "filter_2 = df_filt['Endereço de e-mail'] == \"manuela.valenca@ufpe.br\"\n",
        "df_filt_pi = df_filt[filter_2]\n",
        "\n",
        "\n",
        "print(len(df_filt_pi))\n",
        "o = o+len(df_filt_pi)\n",
        "print(o)"
      ],
      "metadata": {
        "colab": {
          "base_uri": "https://localhost:8080/"
        },
        "id": "mCYTRcf_rAIZ",
        "outputId": "5226c73d-e33d-4333-9cf5-1aece9dbc590"
      },
      "execution_count": 550,
      "outputs": [
        {
          "output_type": "stream",
          "name": "stdout",
          "text": [
            "Endereço de e-mail         \n",
            "manuela.valenca@ufpe.br        64\n",
            "viviane.balbuglio@gmail.com     6\n",
            "dtype: int64\n",
            "64\n",
            "2630\n"
          ]
        }
      ]
    },
    {
      "cell_type": "code",
      "source": [
        "# 18 - PR\n",
        "\n",
        "\n",
        "filter = df_final[\"Estado\"] == \"PR\"\n",
        "df_filt = df_final[filter]\n",
        "\n",
        "print(df_filt.value_counts(subset = ['Endereço de e-mail']))\n",
        "\n",
        "filter_2 = df_filt['Endereço de e-mail'] == \"viviane.balbuglio@gmail.com\"\n",
        "df_filt_pr = df_filt[filter_2]\n",
        "\n",
        "\n",
        "print(len(df_filt_pr))\n",
        "o = o+len(df_filt_pr)\n",
        "print(o)"
      ],
      "metadata": {
        "colab": {
          "base_uri": "https://localhost:8080/"
        },
        "id": "zIO8OcW3rRT5",
        "outputId": "819a0687-07de-435f-a633-8ec22c9af36f"
      },
      "execution_count": 551,
      "outputs": [
        {
          "output_type": "stream",
          "name": "stdout",
          "text": [
            "Endereço de e-mail         \n",
            "viviane.balbuglio@gmail.com    135\n",
            "marimzambom@gmail.com            6\n",
            "dtype: int64\n",
            "135\n",
            "2765\n"
          ]
        }
      ]
    },
    {
      "cell_type": "code",
      "source": [
        "# 19 - RJ\n",
        "\n",
        "\n",
        "filter = df_final[\"Estado\"] == \"RJ\"\n",
        "df_filt = df_final[filter]\n",
        "\n",
        "print(df_filt.value_counts(subset = ['Endereço de e-mail']))\n",
        "\n",
        "filter_2 = df_filt['Endereço de e-mail'] == \"manuela.valenca@ufpe.br\"\n",
        "df_filt_rj = df_filt[filter_2]\n",
        "\n",
        "\n",
        "print(len(df_filt_rj))\n",
        "o = o+len(df_filt_rj)\n",
        "print(o)"
      ],
      "metadata": {
        "colab": {
          "base_uri": "https://localhost:8080/"
        },
        "id": "bt2suhRerfLR",
        "outputId": "e4aaf310-0612-4d98-bceb-37c59bfd7338"
      },
      "execution_count": 552,
      "outputs": [
        {
          "output_type": "stream",
          "name": "stdout",
          "text": [
            "Endereço de e-mail     \n",
            "manuela.valenca@ufpe.br    87\n",
            "marimzambom@gmail.com       6\n",
            "dtype: int64\n",
            "87\n",
            "2852\n"
          ]
        }
      ]
    },
    {
      "cell_type": "code",
      "source": [
        "# 20 - RN\n",
        "\n",
        "\n",
        "filter = df_final[\"Estado\"] == \"RN\"\n",
        "df_filt = df_final[filter]\n",
        "\n",
        "print(df_filt.value_counts(subset = ['Endereço de e-mail']))\n",
        "\n",
        "filter_2 = df_filt['Endereço de e-mail'] == \"marimzambom@gmail.com\"\n",
        "df_filt_rn = df_filt[filter_2]\n",
        "\n",
        "\n",
        "print(len(df_filt_rn))\n",
        "o = o+len(df_filt_rn)\n",
        "print(o)"
      ],
      "metadata": {
        "colab": {
          "base_uri": "https://localhost:8080/"
        },
        "id": "7J2nO706rwZN",
        "outputId": "d047eeda-2506-418a-89d8-97ff0c553d09"
      },
      "execution_count": 553,
      "outputs": [
        {
          "output_type": "stream",
          "name": "stdout",
          "text": [
            "Endereço de e-mail       \n",
            "marimzambom@gmail.com        144\n",
            "mairarmachado@hotmail.com      6\n",
            "anaclaraklink@gmail.com        1\n",
            "dtype: int64\n",
            "144\n",
            "2996\n"
          ]
        }
      ]
    },
    {
      "cell_type": "code",
      "source": [
        "# 21 - RO\n",
        "\n",
        "\n",
        "filter = df_final[\"Estado\"] == \"RO\"\n",
        "df_filt = df_final[filter]\n",
        "\n",
        "print(df_filt.value_counts(subset = ['Endereço de e-mail']))\n",
        "\n",
        "filter_2 = df_filt['Endereço de e-mail'] == \"anaclaraklink@gmail.com\"\n",
        "df_filt_ro = df_filt[filter_2]\n",
        "\n",
        "\n",
        "print(len(df_filt_ro))\n",
        "o = o+len(df_filt_ro)\n",
        "print(o)"
      ],
      "metadata": {
        "colab": {
          "base_uri": "https://localhost:8080/"
        },
        "id": "OZpWeT44sHPu",
        "outputId": "82258dbc-a41f-4d66-f7fd-840fac0eaac8"
      },
      "execution_count": 554,
      "outputs": [
        {
          "output_type": "stream",
          "name": "stdout",
          "text": [
            "Endereço de e-mail             \n",
            "anaclaraklink@gmail.com            130\n",
            "analiagalvaoalmeida12@gmail.com      6\n",
            "anaclaraklink@gmail.ccom             1\n",
            "anaclaraklink@gmail.vom              1\n",
            "dtype: int64\n",
            "130\n",
            "3126\n"
          ]
        }
      ]
    },
    {
      "cell_type": "code",
      "source": [
        "# 22 - RR\n",
        "\n",
        "\n",
        "filter = df_final[\"Estado\"] == \"RR\"\n",
        "df_filt = df_final[filter]\n",
        "\n",
        "print(df_filt.value_counts(subset = ['Endereço de e-mail']))\n",
        "\n",
        "filter_2 = df_filt['Endereço de e-mail'] == \"anandaendo@usp.br\"\n",
        "df_filt_rr = df_filt[filter_2]\n",
        "\n",
        "\n",
        "print(len(df_filt_rr))\n",
        "o = o+len(df_filt_rr)\n",
        "print(o)"
      ],
      "metadata": {
        "colab": {
          "base_uri": "https://localhost:8080/"
        },
        "id": "q1S0pkqvsY-7",
        "outputId": "87acb020-4323-4e17-f87d-e45d18da552f"
      },
      "execution_count": 555,
      "outputs": [
        {
          "output_type": "stream",
          "name": "stdout",
          "text": [
            "Endereço de e-mail         \n",
            "anandaendo@usp.br              199\n",
            "viviane.balbuglio@gmail.com      6\n",
            "ananda@usp.br                    1\n",
            "anandaendi@usp.br                1\n",
            "dtype: int64\n",
            "199\n",
            "3325\n"
          ]
        }
      ]
    },
    {
      "cell_type": "code",
      "source": [
        "# 23 - RS\n",
        "\n",
        "\n",
        "filter = df_final[\"Estado\"] == \"RS\"\n",
        "df_filt = df_final[filter]\n",
        "\n",
        "print(df_filt.value_counts(subset = ['Endereço de e-mail']))\n",
        "\n",
        "filter_2 = df_filt['Endereço de e-mail'] == \"anandaendo@usp.br\"\n",
        "df_filt_rs = df_filt[filter_2]\n",
        "\n",
        "\n",
        "print(len(df_filt_rs))\n",
        "o = o+len(df_filt_rs)\n",
        "print(o)"
      ],
      "metadata": {
        "colab": {
          "base_uri": "https://localhost:8080/"
        },
        "id": "22QDxFxdsxZT",
        "outputId": "69e3ea30-1632-4d58-c488-862d166e9a95"
      },
      "execution_count": 556,
      "outputs": [
        {
          "output_type": "stream",
          "name": "stdout",
          "text": [
            "Endereço de e-mail     \n",
            "anandaendo@usp.br          221\n",
            "manuela.valenca@ufpe.br      6\n",
            "anandaendo@usp.com           1\n",
            "dtype: int64\n",
            "221\n",
            "3546\n"
          ]
        }
      ]
    },
    {
      "cell_type": "code",
      "source": [
        "# 24 - SC\n",
        "\n",
        "filter = df_final[\"Estado\"] == \"SC\"\n",
        "df_filt = df_final[filter]\n",
        "\n",
        "print(df_filt.value_counts(subset = ['Endereço de e-mail']))\n",
        "\n",
        "filter_2 = df_filt['Endereço de e-mail'] == \"mairarmachado@hotmail.com\"\n",
        "df_filt_sc = df_filt[filter_2]\n",
        "\n",
        "\n",
        "print(len(df_filt_sc))\n",
        "o = o+len(df_filt_sc)\n",
        "print(o)"
      ],
      "metadata": {
        "colab": {
          "base_uri": "https://localhost:8080/"
        },
        "id": "VQ2M6HWvtCwK",
        "outputId": "7c13cec4-fc65-467c-b7ec-6ae44c3b6ac4"
      },
      "execution_count": 557,
      "outputs": [
        {
          "output_type": "stream",
          "name": "stdout",
          "text": [
            "Endereço de e-mail       \n",
            "mairarmachado@hotmail.com    164\n",
            "marimzambom@gmail.com          6\n",
            "dtype: int64\n",
            "164\n",
            "3710\n"
          ]
        }
      ]
    },
    {
      "cell_type": "code",
      "source": [
        "# 25 - SE\n",
        "\n",
        "filter = df_final[\"Estado\"] == \"SE\"\n",
        "df_filt = df_final[filter]\n",
        "\n",
        "print(df_filt.value_counts(subset = ['Endereço de e-mail']))\n",
        "\n",
        "filter_2 = df_filt['Endereço de e-mail'] == \"anaclaraklink@gmail.com\"\n",
        "df_filt_se = df_filt[filter_2]\n",
        "\n",
        "\n",
        "print(len(df_filt_se))\n",
        "o = o+len(df_filt_se)\n",
        "print(o)"
      ],
      "metadata": {
        "colab": {
          "base_uri": "https://localhost:8080/"
        },
        "id": "BfwCbk_VtQ3E",
        "outputId": "4c819d80-0e89-418f-ba83-1e07e6f556d1"
      },
      "execution_count": 558,
      "outputs": [
        {
          "output_type": "stream",
          "name": "stdout",
          "text": [
            "Endereço de e-mail             \n",
            "anaclaraklink@gmail.com            83\n",
            "anandaendo@usp.br                   6\n",
            "analiagalvaoalmeida12@gmail.com     1\n",
            "dtype: int64\n",
            "83\n",
            "3793\n"
          ]
        }
      ]
    },
    {
      "cell_type": "code",
      "source": [
        "# 26 - SP\n",
        "\n",
        "filter = df_final[\"Estado\"] == \"SP\"\n",
        "df_filt = df_final[filter]\n",
        "\n",
        "print(df_filt.value_counts(subset = ['Endereço de e-mail']))\n",
        "\n",
        "filter_2 = df_filt['Endereço de e-mail'] == \"viviane.balbuglio@gmail.com\"\n",
        "df_filt_sp_1 = df_filt[filter_2]\n",
        "\n",
        "filter_3 = df_filt['Endereço de e-mail'] == \"anaclaraklink@gmail.com\"\n",
        "df_filt_sp_2 = df_filt[filter_3]\n",
        "\n",
        "\n",
        "df_filt_sp = pd.concat([df_filt_sp_1,df_filt_sp_2],ignore_index = True)\n",
        "\n",
        "print(len(df_filt_sp))\n",
        "o = o+len(df_filt_sp)\n",
        "print(o)"
      ],
      "metadata": {
        "colab": {
          "base_uri": "https://localhost:8080/"
        },
        "id": "Q4u_cB4ntmGl",
        "outputId": "66d9c920-b6e3-4837-cabf-945cf0bf6159"
      },
      "execution_count": 559,
      "outputs": [
        {
          "output_type": "stream",
          "name": "stdout",
          "text": [
            "Endereço de e-mail         \n",
            "viviane.balbuglio@gmail.com    59\n",
            "anaclaraklink@gmail.com        29\n",
            "manuela.valenca@ufpe.br         6\n",
            "anandaendo@usp.br               1\n",
            "dtype: int64\n",
            "88\n",
            "3881\n"
          ]
        }
      ]
    },
    {
      "cell_type": "code",
      "source": [
        "# 27 - TO\n",
        "\n",
        "filter = df_final[\"Estado\"] == \"TO\"\n",
        "df_filt = df_final[filter]\n",
        "\n",
        "print(df_filt.value_counts(subset = ['Endereço de e-mail']))\n",
        "\n",
        "filter_2 = df_filt['Endereço de e-mail'] == \"anaclaraklink@gmail.com\"\n",
        "df_filt_to = df_filt[filter_2]\n",
        "\n",
        "\n",
        "print(len(df_filt_to))\n",
        "o = o+len(df_filt_to)\n",
        "print(o)"
      ],
      "metadata": {
        "colab": {
          "base_uri": "https://localhost:8080/"
        },
        "id": "docP9hKtuI_m",
        "outputId": "09d36a62-48d2-44a8-dfc0-0fa1f61aedb3"
      },
      "execution_count": 560,
      "outputs": [
        {
          "output_type": "stream",
          "name": "stdout",
          "text": [
            "Endereço de e-mail         \n",
            "anaclaraklink@gmail.com        130\n",
            "viviane.balbuglio@gmail.com      6\n",
            "anaclaraklink@gmail.con          2\n",
            "dtype: int64\n",
            "130\n",
            "4011\n"
          ]
        }
      ]
    },
    {
      "cell_type": "code",
      "source": [
        "print(o)"
      ],
      "metadata": {
        "colab": {
          "base_uri": "https://localhost:8080/"
        },
        "id": "TZBpXBDc9fRU",
        "outputId": "feb78832-0fa2-4daf-d758-5ffafcfd32fa"
      },
      "execution_count": 561,
      "outputs": [
        {
          "output_type": "stream",
          "name": "stdout",
          "text": [
            "4011\n"
          ]
        }
      ]
    },
    {
      "cell_type": "code",
      "source": [
        "df_final_aj = pd.concat([df_filt_ac,df_filt_al,df_filt_ap,df_filt_am,df_filt_ba,df_filt_ce,df_filt_df,df_filt_es,df_filt_go,df_filt_ma,df_filt_ms,df_filt_mg,df_filt_mt,df_filt_pa,df_filt_pb,df_filt_pe,df_filt_pi,df_filt_pr,df_filt_rj,df_filt_rn,df_filt_ro,df_filt_rr,df_filt_rs,df_filt_sc,df_filt_se,df_filt_sp,df_filt_to],ignore_index = True)\n",
        "print(len(df_final_aj))"
      ],
      "metadata": {
        "colab": {
          "base_uri": "https://localhost:8080/"
        },
        "id": "5zpMyc-8vSV8",
        "outputId": "94f7d6b5-67e4-46a4-9465-4f857a0e747a"
      },
      "execution_count": 562,
      "outputs": [
        {
          "output_type": "stream",
          "name": "stdout",
          "text": [
            "4011\n"
          ]
        }
      ]
    },
    {
      "cell_type": "markdown",
      "source": [
        "2 - Fazendo a inserção das respostas dos estagiários"
      ],
      "metadata": {
        "id": "vGSni89loFal"
      }
    },
    {
      "cell_type": "code",
      "source": [
        "tabela_2 = pd.read_excel(\"/content/drive/My Drive/codigos_colab/fomularios_estag.xlsx\")\n",
        "print(len(tabela_2))\n",
        "# print(tabela_2)\n",
        "tabela_2 = tabela_2.iloc[1:,:]\n",
        "print(len(tabela_2))"
      ],
      "metadata": {
        "colab": {
          "base_uri": "https://localhost:8080/"
        },
        "id": "x3p7DH2oCli-",
        "outputId": "b60887f1-a730-4179-f267-91e09ae3e0f4"
      },
      "execution_count": 563,
      "outputs": [
        {
          "output_type": "stream",
          "name": "stdout",
          "text": [
            "158\n",
            "157\n"
          ]
        }
      ]
    },
    {
      "cell_type": "code",
      "source": [
        "tabela_2[\"numero_limpo\"] = tabela_2.iloc[:,3].replace('[^0-9]',value=\"\", regex = True)\n",
        "df_final_aj[\"numero_limpo\"] = df_final_aj.iloc[:,3].replace('[^0-9]',value=\"\", regex = True)\n",
        "\n",
        "\n",
        "tabela_2.drop(columns =[\"Carimbo de data/hora\",\"Endereço de e-mail\",\"1 - Nome d(a) pesquisador(a)\",\"2 - Número do processo (colocar no padrão CNJ com pontos e traço como está na planilha. EX: 1000347-33.2021.8.26.0114):\"], inplace= True)\n",
        "\n",
        "tabela_2.rename(columns={'3. O evento \"prisão do agente\" ocorreu:':'5.2. O evento \"prisão do agente\" ocorreu:',\n",
        "                         '4. Caso haja informação sobre a prisão em outro processo, indique o(s) número(s) - se houver mais de um, separe por ponto e vírgula \";\".':'5.3. Caso haja informação sobre a prisão em outro processo, indique o(s) número(s) - se houver mais de um, separe por ponto e vírgula \";\".'},\n",
        "                inplace = True)\n",
        "\n",
        "df_final_aj.drop(columns = ['5.2. O evento \"prisão do agente\" ocorreu:','5.3. Caso haja informação sobre a prisão em outro processo, indique o(s) número(s) - se houver mais de um, separe por ponto e vírgula \";\".'], inplace = True)\n",
        "\n",
        "df_final_est.drop_duplicates(subset=[\"Carimbo de data/hora\",\"1 - Nome do pesquisadora\",\"2 - início do preenchimento\",\"3 - Número do processo (se possível, colocar no padrão CNJ com pontos e traço. EX: 1000347-33.2021.8.26.0114):\"], inplace= True, ignore_index=True)\n",
        "df_final_aj_cm = pd.merge(df_final_aj, tabela_2, how = 'inner', on ='numero_limpo')\n",
        "\n",
        "# print(df_final_aj_cm)"
      ],
      "metadata": {
        "id": "moZLhUOcoMZm"
      },
      "execution_count": 564,
      "outputs": []
    },
    {
      "cell_type": "code",
      "source": [
        "print(len(df_final_aj_cm))"
      ],
      "metadata": {
        "colab": {
          "base_uri": "https://localhost:8080/"
        },
        "id": "gTVNcD3JNqin",
        "outputId": "11a7d315-bc0e-4d78-fd29-260f577d1e25"
      },
      "execution_count": 565,
      "outputs": [
        {
          "output_type": "stream",
          "name": "stdout",
          "text": [
            "159\n"
          ]
        }
      ]
    },
    {
      "cell_type": "code",
      "source": [
        "print(len(df_final_aj))"
      ],
      "metadata": {
        "colab": {
          "base_uri": "https://localhost:8080/"
        },
        "id": "n7jesRm1VtW8",
        "outputId": "08312ee6-abb3-4268-956e-27f7c1640721"
      },
      "execution_count": 566,
      "outputs": [
        {
          "output_type": "stream",
          "name": "stdout",
          "text": [
            "4011\n"
          ]
        }
      ]
    },
    {
      "cell_type": "code",
      "source": [
        "df_final_est = pd.concat([df_final_aj_cm,df_final_aj], ignore_index = True)\n",
        "print(len(df_final_est))"
      ],
      "metadata": {
        "colab": {
          "base_uri": "https://localhost:8080/"
        },
        "id": "cwOjM-T-Vxv2",
        "outputId": "5c3f02cf-d0ab-4c10-d009-589cfa4122ba"
      },
      "execution_count": 567,
      "outputs": [
        {
          "output_type": "stream",
          "name": "stdout",
          "text": [
            "4170\n"
          ]
        }
      ]
    },
    {
      "cell_type": "code",
      "source": [
        "df_final_est.drop_duplicates(subset=[\"Carimbo de data/hora\",\"1 - Nome do pesquisadora\",\"2 - início do preenchimento\",\"3 - Número do processo (se possível, colocar no padrão CNJ com pontos e traço. EX: 1000347-33.2021.8.26.0114):\"], inplace= True, ignore_index=True)\n",
        "print(len(df_final_est))"
      ],
      "metadata": {
        "colab": {
          "base_uri": "https://localhost:8080/"
        },
        "id": "lGK55QNfWCMD",
        "outputId": "a0fd1cd7-26ea-4e11-e741-32feac91971e"
      },
      "execution_count": 568,
      "outputs": [
        {
          "output_type": "stream",
          "name": "stdout",
          "text": [
            "4011\n"
          ]
        }
      ]
    },
    {
      "cell_type": "code",
      "source": [
        "list_num = ['50009375620188210058','0140359-45.2017.8.21.0001',\"0401059-48.2017.8.07.0015\",\"0000958-09.2019.8.15.0751\",\n",
        "            '0002262-74.2017.8.17.4011','0000324-70.2019.8.17.4012','000096617.2017.8.17.4011','1003334-41.2019.8.17.4001',\n",
        "            '0700016-55.2017.8.18.0028','0100483-93.2020.8.20.0102','1000389-24.2020.8.23.0010','1000321-11.2019.8.23.0010',\n",
        "            '1000426-85.2019.8.23.0010','1000252-13.2018.8.23.0010','1000207-09.2018.8.23.0010','1000165-57.2018.8.23.0010',\n",
        "            '1000650-23.2019.8.23.0010','0004423-73.2017.8.25.0086']\n",
        "list_vl = [\"sim: morte externa\",\"sim: morte externa\",\"sim: morte interna\",\"sim: morte interna\",\n",
        "           \"sim: morte interna\",\"sim: morte interna\",\"sim: morte interna\",\"sim: morte interna\",\n",
        "           \"sim: morte interna\",\"sim: morte interna\",\"sim: morte interna\",\"sim: morte interna\",\n",
        "           \"sim: morte interna\",\"sim: morte interna\"]\n",
        "\n",
        "\n",
        "for num,vl in zip(list_num,list_vl):\n",
        "  idx = df_final_est[df_final_est [\"3 - Número do processo (se possível, colocar no padrão CNJ com pontos e traço. EX: 1000347-33.2021.8.26.0114):\"] == num].index.to_list()\n",
        "  # print(idx)\n",
        "  # print(df_final_est.loc[idx[0], \"5 - É caso de interesse?\"])\n",
        "  df_final_est.loc[idx[0], \"5 - É caso de interesse?\"] = vl\n",
        "  # print(df_final_est.loc[idx[0], \"5 - É caso de interesse?\"])\n",
        "\n",
        "\n",
        "\n",
        "df_final_est.loc[3475, '35 - Tempo de pena - em caso de condenação (no processo analisado) - por favor coloque no padrão (X anos, y meses e z dias + Multa) e se houver mais de uma, separar por ponto e vírgula \";\"'] = \"NSA\"\n",
        "\n",
        "\n",
        "datetime_obj_f = datetime.datetime.strptime('28/03/2019', '%d/%m/%Y')\n",
        "df_final_est.loc[3475,'40 -  Data da expedição do alvará de soltura da pessoa (colocar 010101 - para casos \"sem informações\" ** OU ** 020202 - para casos de \"não se aplica\")'] = datetime_obj_f\n",
        "\n",
        "df_final_est.loc[3475,'74 - Documentos referentes à morte juntados aos autos (listar e separar por ponto e vírgula ( \";\")'] = 'Certidão de óbito; Consulta de Preso da Secretaria de Segurança Pública do Rio Grande do Sul'"
      ],
      "metadata": {
        "id": "5CZB2jcvXBf6"
      },
      "execution_count": 569,
      "outputs": []
    },
    {
      "cell_type": "markdown",
      "source": [
        "Exportando a planilha final"
      ],
      "metadata": {
        "id": "oRNfPzTQjt8b"
      }
    },
    {
      "cell_type": "code",
      "source": [
        "df_final_est.to_excel(\"df_final_est.xlsx\", index = False)\n",
        "files.download('df_final_est.xlsx')"
      ],
      "metadata": {
        "colab": {
          "base_uri": "https://localhost:8080/",
          "height": 17
        },
        "id": "YkQeGqT8X9B2",
        "outputId": "d9b1fb86-20bc-430e-918c-c5c80c0b3190"
      },
      "execution_count": 570,
      "outputs": [
        {
          "output_type": "display_data",
          "data": {
            "text/plain": [
              "<IPython.core.display.Javascript object>"
            ],
            "application/javascript": [
              "\n",
              "    async function download(id, filename, size) {\n",
              "      if (!google.colab.kernel.accessAllowed) {\n",
              "        return;\n",
              "      }\n",
              "      const div = document.createElement('div');\n",
              "      const label = document.createElement('label');\n",
              "      label.textContent = `Downloading \"${filename}\": `;\n",
              "      div.appendChild(label);\n",
              "      const progress = document.createElement('progress');\n",
              "      progress.max = size;\n",
              "      div.appendChild(progress);\n",
              "      document.body.appendChild(div);\n",
              "\n",
              "      const buffers = [];\n",
              "      let downloaded = 0;\n",
              "\n",
              "      const channel = await google.colab.kernel.comms.open(id);\n",
              "      // Send a message to notify the kernel that we're ready.\n",
              "      channel.send({})\n",
              "\n",
              "      for await (const message of channel.messages) {\n",
              "        // Send a message to notify the kernel that we're ready.\n",
              "        channel.send({})\n",
              "        if (message.buffers) {\n",
              "          for (const buffer of message.buffers) {\n",
              "            buffers.push(buffer);\n",
              "            downloaded += buffer.byteLength;\n",
              "            progress.value = downloaded;\n",
              "          }\n",
              "        }\n",
              "      }\n",
              "      const blob = new Blob(buffers, {type: 'application/binary'});\n",
              "      const a = document.createElement('a');\n",
              "      a.href = window.URL.createObjectURL(blob);\n",
              "      a.download = filename;\n",
              "      div.appendChild(a);\n",
              "      a.click();\n",
              "      div.remove();\n",
              "    }\n",
              "  "
            ]
          },
          "metadata": {}
        },
        {
          "output_type": "display_data",
          "data": {
            "text/plain": [
              "<IPython.core.display.Javascript object>"
            ],
            "application/javascript": [
              "download(\"download_60e25b54-5893-4da4-b5f1-4db6b6baf75c\", \"df_final_est.xlsx\", 2045023)"
            ]
          },
          "metadata": {}
        }
      ]
    }
  ]
}