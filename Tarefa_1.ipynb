{
  "nbformat": 4,
  "nbformat_minor": 0,
  "metadata": {
    "colab": {
      "provenance": []
    },
    "kernelspec": {
      "name": "python3",
      "display_name": "Python 3"
    },
    "language_info": {
      "name": "python"
    }
  },
  "cells": [
    {
      "cell_type": "markdown",
      "source": [
        "# Aqui é só reproduzir os dados da parte 1 da tarefa anterior.\n",
        "\n",
        "## só que você terá que inserir no template os números dos gráficos e colocar os valores da moda, média e mediana no contexto pra ele ir para as tabelas. \n",
        "\n",
        "## Dê uma olhada no template (\"template_parte_1\") primeiro pra vc ver os nomes das variáveis pra vc colocar no contexto. \n",
        "\n",
        "## no seu código vc deu os mesmos nomes pra moda, media e mediana pro banco geral e depois pro banco filtrado. No template eu coloquei o  \"_1\" para os dados com o banco filtrado. Vc vai ter que mudar o nome pra dar certo no template. \n",
        "\n",
        "## Fiz a mesma coisa com o dos minutos. Atenção com a ordem dos gráficos na hora de você dar os nomes pra eles no contexto.\n",
        "\n",
        "Exemplo:\n",
        "\n",
        "{{num_total_linhas}} - dado da parte geral\n",
        "\n",
        "{{num_total_linhas_1}} - dado da planilha filtrada"
      ],
      "metadata": {
        "id": "PRTNBlku4KTQ"
      }
    },
    {
      "cell_type": "code",
      "source": [
        "#@title\n",
        "## coloque os outros códigos antes...\n",
        "\n",
        "# https://neptune.ai/blog/google-colab-dealing-with-files\n",
        "from google.colab import drive\n",
        "drive.mount('/content/drive')"
      ],
      "metadata": {
        "id": "A_LnGN3i54a1",
        "colab": {
          "base_uri": "https://localhost:8080/"
        },
        "outputId": "8b59f4d7-993c-4d64-b933-957f093e5a58"
      },
      "execution_count": null,
      "outputs": [
        {
          "output_type": "stream",
          "name": "stdout",
          "text": [
            "Mounted at /content/drive\n"
          ]
        }
      ]
    },
    {
      "cell_type": "code",
      "source": [
        "#@title\n",
        "# !pip install pandas\n",
        "# !pip install numpy\n",
        "# !pip install matplotlib==3.5.3\n",
        "# ! pip install docxtpl\n",
        "from docxtpl import DocxTemplate, InlineImage\n",
        "from docx.shared import Cm\n",
        "\n",
        "import pandas as pd\n",
        "import numpy as np\n",
        "import matplotlib.pyplot as plt\n",
        "import datetime as dt"
      ],
      "metadata": {
        "id": "effkUxS9e6J_"
      },
      "execution_count": null,
      "outputs": []
    },
    {
      "cell_type": "markdown",
      "source": [
        "### Planilha Completa\n"
      ],
      "metadata": {
        "id": "r26sjYVYu76Z"
      }
    },
    {
      "cell_type": "code",
      "source": [
        "#@title\n",
        "# df = pd.read_excel('/content/drive/My Drive/codigos_colab/planilha_coleta_21_11.xlsx')\n",
        "df = pd.read_excel('/content/drive/My Drive/codigos_colab/df_final_ajust.xlsx')"
      ],
      "metadata": {
        "id": "kazM3FGHe8Vt"
      },
      "execution_count": null,
      "outputs": []
    },
    {
      "cell_type": "code",
      "source": [
        "#@title\n",
        "data_mais_antiga = \"\"\n",
        "data_mais_recente = \"\"\n",
        "for line in df[\"Carimbo de data/hora\"]:\n",
        "  if data_mais_antiga == \"\" and data_mais_recente == \"\":\n",
        "    data_mais_antiga = data_mais_recente = line\n",
        "  elif data_mais_antiga > line:\n",
        "    data_mais_antiga = line\n",
        "  elif data_mais_recente < line:\n",
        "    data_mais_recente = line\n",
        "\n",
        "dif_data = data_mais_recente - data_mais_antiga\n",
        "print(f'Se passaram {dif_data.days} dias')"
      ],
      "metadata": {
        "colab": {
          "base_uri": "https://localhost:8080/"
        },
        "id": "NJ-VkoLze_UM",
        "outputId": "64a58ae2-8e4f-44c2-bbdf-701968fdc8d0"
      },
      "execution_count": null,
      "outputs": [
        {
          "output_type": "stream",
          "name": "stdout",
          "text": [
            "Se passaram 189 dias\n"
          ]
        }
      ]
    },
    {
      "cell_type": "code",
      "source": [
        "#@title\n",
        "from numpy.lib.function_base import average\n",
        "\n",
        "num_total_linhas = df[\"Carimbo de data/hora\"].count()\n",
        "print(f'Número de linhas: {num_total_linhas}')\n",
        "\n",
        "media_questoes_por_dia = num_total_linhas/dif_data.days\n",
        "print(f'Média de questionários por dia: {media_questoes_por_dia}')\n",
        "\n",
        "data_dos_questionarios = []\n",
        "for line in df[\"Carimbo de data/hora\"]:\n",
        "  if line not in data_dos_questionarios:\n",
        "    data_dos_questionarios.append(line)\n",
        "# print(data_dos_questionarios[0].normalize())\n",
        "\n",
        "num_questoes_por_dia = []\n",
        "df_datas_normalizado = df[\"Carimbo de data/hora\"].dt.normalize()\n",
        "for date in data_dos_questionarios:\n",
        "  num_questoes_por_dia.append(df_datas_normalizado.where(df_datas_normalizado == date.normalize()).count())\n",
        "# print(num_questoes_por_dia)\n",
        "\n",
        "num_questoes_por_dia_sorted = np.sort(num_questoes_por_dia)\n",
        "mediana_questoes_por_dia = np.median(num_questoes_por_dia_sorted)\n",
        "print(f'Mediana de questionários por dia: {mediana_questoes_por_dia}')\n",
        "\n",
        "vals, counts = np.unique(num_questoes_por_dia_sorted, return_counts=True)\n",
        "# print(vals, counts)\n",
        "\n",
        "arr_moda = np.argwhere(counts == np.max(counts))\n",
        "if len(arr_moda) == 1:\n",
        "  print(f'Moda de questionários por dia: {int(arr_moda)}')\n",
        "else:\n",
        "  print(f'Moda de questionários por dia: {arr_moda.tolist()}')"
      ],
      "metadata": {
        "colab": {
          "base_uri": "https://localhost:8080/"
        },
        "id": "-UdojMpSfEKD",
        "outputId": "71606182-e5a6-4206-8d44-e15074206a1e"
      },
      "execution_count": null,
      "outputs": [
        {
          "output_type": "stream",
          "name": "stdout",
          "text": [
            "Número de linhas: 4011\n",
            "Média de questionários por dia: 21.22222222222222\n",
            "Mediana de questionários por dia: 40.0\n",
            "Moda de questionários por dia: 37\n"
          ]
        }
      ]
    },
    {
      "cell_type": "code",
      "source": [
        "#@title\n",
        "df.at[984, \"80 - fim do preenchimento\"] = \"08:27:42\"\n",
        "df.at[985, \"80 - fim do preenchimento\"] = \"08:27:42\"\n",
        "df.at[986, \"80 - fim do preenchimento\"] = \"08:27:42\"\n",
        "df.at[987, \"80 - fim do preenchimento\"] = \"08:27:42\"\n",
        "df.at[988, \"80 - fim do preenchimento\"] = \"08:27:42\"\n",
        "df.at[989, \"80 - fim do preenchimento\"] = \"08:27:42\"\n",
        "df.at[990, \"80 - fim do preenchimento\"] = \"08:27:42\"\n",
        "df.at[991, \"80 - fim do preenchimento\"] = \"08:27:42\"\n",
        "df.at[992, \"80 - fim do preenchimento\"] = \"08:27:42\"\n",
        "df.at[993, \"80 - fim do preenchimento\"] = \"08:27:42\"\n",
        "df.at[994, \"80 - fim do preenchimento\"] = \"08:27:42\"\n",
        "df.at[995, \"80 - fim do preenchimento\"] = \"08:27:42\"\n",
        "df.at[996, \"80 - fim do preenchimento\"] = \"08:27:42\"\n",
        "df.at[997, \"80 - fim do preenchimento\"] = \"08:27:42\"\n",
        "df.at[998, \"80 - fim do preenchimento\"] = \"08:27:42\"\n",
        "df.at[999, \"80 - fim do preenchimento\"] = \"08:27:42\"\n",
        "df.at[1000, \"80 - fim do preenchimento\"] = \"08:27:42\"\n",
        "df.at[1001, \"80 - fim do preenchimento\"] = \"08:27:42\"\n",
        "df.at[1002, \"80 - fim do preenchimento\"] = \"08:27:42\"\n",
        "df.at[1003, \"80 - fim do preenchimento\"] = \"08:27:42\"\n",
        "df.at[1004, \"80 - fim do preenchimento\"] = \"08:27:42\"\n",
        "df.at[1005, \"80 - fim do preenchimento\"] = \"08:27:42\"\n",
        "df.at[1006, \"80 - fim do preenchimento\"] = \"08:27:42\"\n",
        "df.at[1007, \"80 - fim do preenchimento\"] = \"08:27:42\"\n",
        "df.at[1008, \"80 - fim do preenchimento\"] = \"08:27:42\"\n",
        "df.at[1009, \"80 - fim do preenchimento\"] = \"08:27:42\"\n",
        "df.at[1010, \"80 - fim do preenchimento\"] = \"08:27:42\"\n",
        "df.at[1011, \"80 - fim do preenchimento\"] = \"08:27:42\"\n",
        "df.at[1012, \"80 - fim do preenchimento\"] = \"08:27:42\"\n",
        "df.at[1013, \"80 - fim do preenchimento\"] = \"08:27:42\"\n",
        "df.at[1014, \"80 - fim do preenchimento\"] = \"08:27:42\"\n",
        "df.at[1015, \"80 - fim do preenchimento\"] = \"08:27:42\"\n",
        "df.at[1016, \"80 - fim do preenchimento\"] = \"08:27:42\"\n",
        "df.at[1017, \"80 - fim do preenchimento\"] = \"08:27:42\"\n",
        "df.at[1018, \"80 - fim do preenchimento\"] = \"08:27:42\"\n",
        "df.at[1019, \"80 - fim do preenchimento\"] = \"08:27:42\"\n",
        "df.at[1020, \"80 - fim do preenchimento\"] = \"08:27:42\"\n",
        "df.at[1021, \"80 - fim do preenchimento\"] = \"08:27:42\"\n",
        "df.at[1022, \"80 - fim do preenchimento\"] = \"08:27:42\"\n",
        "df.at[1023, \"80 - fim do preenchimento\"] = \"08:27:42\"\n",
        "df.at[1024, \"80 - fim do preenchimento\"] = \"08:27:42\"\n",
        "df.at[1025, \"80 - fim do preenchimento\"] = \"08:27:42\"\n",
        "df.at[1026, \"80 - fim do preenchimento\"] = \"08:27:42\"\n",
        "df.at[1027, \"80 - fim do preenchimento\"] = \"08:27:42\"\n",
        "df.at[1028, \"80 - fim do preenchimento\"] = \"08:27:42\"\n",
        "df.at[1029, \"80 - fim do preenchimento\"] = \"08:27:42\"\n",
        "df.at[1030, \"80 - fim do preenchimento\"] = \"08:27:42\"\n",
        "df.at[1031, \"80 - fim do preenchimento\"] = \"08:27:42\"\n",
        "df.at[1032, \"80 - fim do preenchimento\"] = \"08:27:42\"\n",
        "df.at[1033, \"80 - fim do preenchimento\"] = \"08:27:42\"\n",
        "df.at[1034, \"80 - fim do preenchimento\"] = \"08:27:42\"\n",
        "df.at[1035, \"80 - fim do preenchimento\"] = \"08:27:42\"\n",
        "df.at[1036, \"80 - fim do preenchimento\"] = \"08:27:42\"\n",
        "df.at[1037, \"80 - fim do preenchimento\"] = \"08:27:42\"\n",
        "df.at[1038, \"80 - fim do preenchimento\"] = \"08:27:42\"\n",
        "df.at[1039, \"80 - fim do preenchimento\"] = \"08:27:42\"\n",
        "df.at[1040, \"80 - fim do preenchimento\"] = \"08:27:42\"\n",
        "df.at[1041, \"80 - fim do preenchimento\"] = \"08:27:42\"\n",
        "df.at[1042, \"80 - fim do preenchimento\"] = \"08:27:42\"\n",
        "df.at[1043, \"80 - fim do preenchimento\"] = \"08:27:42\"\n",
        "df.at[1044, \"80 - fim do preenchimento\"] = \"08:27:42\"\n",
        "df.at[1045, \"80 - fim do preenchimento\"] = \"08:27:42\"\n",
        "df.at[1046, \"80 - fim do preenchimento\"] = \"08:27:42\"\n",
        "df.at[1047, \"80 - fim do preenchimento\"] = \"08:27:42\"\n",
        "df.at[1048, \"80 - fim do preenchimento\"] = \"08:27:42\"\n",
        "df.at[1049, \"80 - fim do preenchimento\"] = \"08:27:42\"\n",
        "df.at[1050, \"80 - fim do preenchimento\"] = \"08:27:42\"\n",
        "df.at[1051, \"80 - fim do preenchimento\"] = \"08:27:42\"\n",
        "df.at[1052, \"80 - fim do preenchimento\"] = \"08:27:42\"\n",
        "df.at[1053, \"80 - fim do preenchimento\"] = \"08:27:42\"\n",
        "df.at[1054, \"80 - fim do preenchimento\"] = \"08:27:42\"\n",
        "df.at[1055, \"80 - fim do preenchimento\"] = \"08:27:42\"\n",
        "df.at[1056, \"80 - fim do preenchimento\"] = \"08:27:42\"\n",
        "df.at[1057, \"80 - fim do preenchimento\"] = \"08:27:42\"\n",
        "df.at[1058, \"80 - fim do preenchimento\"] = \"08:27:42\"\n",
        "df.at[1059, \"80 - fim do preenchimento\"] = \"08:27:42\"\n",
        "df.at[1060, \"80 - fim do preenchimento\"] = \"08:27:42\"\n",
        "df.at[1061, \"80 - fim do preenchimento\"] = \"08:27:42\"\n",
        "df.at[1062, \"80 - fim do preenchimento\"] = \"08:27:42\"\n",
        "df.at[1063, \"80 - fim do preenchimento\"] = \"08:27:42\"\n",
        "df.at[1064, \"80 - fim do preenchimento\"] = \"08:27:42\"\n",
        "df.at[1065, \"80 - fim do preenchimento\"] = \"08:27:42\"\n",
        "df.at[1066, \"80 - fim do preenchimento\"] = \"08:27:42\"\n",
        "df.at[1067, \"80 - fim do preenchimento\"] = \"08:27:42\"\n",
        "df.at[1068, \"80 - fim do preenchimento\"] = \"08:27:42\"\n",
        "df.at[1069, \"80 - fim do preenchimento\"] = \"08:27:42\"\n",
        "df.at[1070, \"80 - fim do preenchimento\"] = \"08:27:42\"\n",
        "df.at[1071, \"80 - fim do preenchimento\"] = \"08:27:42\"\n",
        "df.at[1072, \"80 - fim do preenchimento\"] = \"08:27:42\"\n",
        "df.at[1073, \"80 - fim do preenchimento\"] = \"08:27:42\"\n",
        "df.at[1074, \"80 - fim do preenchimento\"] = \"08:27:42\"\n",
        "df.at[1075, \"80 - fim do preenchimento\"] = \"08:27:42\"\n",
        "df.at[1076, \"80 - fim do preenchimento\"] = \"08:27:42\"\n",
        "df.at[1077, \"80 - fim do preenchimento\"] = \"08:27:42\"\n",
        "df.at[1078, \"80 - fim do preenchimento\"] = \"08:27:42\"\n",
        "df.at[1079, \"80 - fim do preenchimento\"] = \"08:27:42\"\n",
        "df.at[1080, \"80 - fim do preenchimento\"] = \"08:27:42\"\n",
        "df.at[1081, \"80 - fim do preenchimento\"] = \"08:27:42\"\n",
        "df.at[1082, \"80 - fim do preenchimento\"] = \"08:27:42\"\n",
        "df.at[1083, \"80 - fim do preenchimento\"] = \"08:27:42\"\n",
        "df.at[1084, \"80 - fim do preenchimento\"] = \"08:27:42\"\n",
        "df.at[1085, \"80 - fim do preenchimento\"] = \"08:27:42\"\n",
        "df.at[1086, \"80 - fim do preenchimento\"] = \"08:27:42\"\n",
        "df.at[1087, \"80 - fim do preenchimento\"] = \"08:27:42\"\n",
        "df.at[1088, \"80 - fim do preenchimento\"] = \"08:27:42\"\n",
        "df.at[1089, \"80 - fim do preenchimento\"] = \"08:27:42\"\n",
        "df.at[1090, \"80 - fim do preenchimento\"] = \"08:27:42\"\n",
        "df.at[1091, \"80 - fim do preenchimento\"] = \"08:27:42\"\n",
        "df.at[1092, \"80 - fim do preenchimento\"] = \"08:27:42\"\n",
        "df.at[1093, \"80 - fim do preenchimento\"] = \"08:27:42\"\n",
        "df.at[1094, \"80 - fim do preenchimento\"] = \"08:27:42\"\n",
        "df.at[1095, \"80 - fim do preenchimento\"] = \"08:27:42\"\n",
        "df.at[1096, \"80 - fim do preenchimento\"] = \"08:27:42\"\n",
        "df.at[1097, \"80 - fim do preenchimento\"] = \"08:27:42\"\n",
        "df.at[1098, \"80 - fim do preenchimento\"] = \"08:27:42\"\n",
        "df.at[1099, \"80 - fim do preenchimento\"] = \"08:27:42\"\n",
        "df.at[1100, \"80 - fim do preenchimento\"] = \"08:27:42\"\n",
        "df.at[1101, \"80 - fim do preenchimento\"] = \"08:27:42\"\n",
        "df.at[1102, \"80 - fim do preenchimento\"] = \"08:27:42\"\n",
        "df.at[1103, \"80 - fim do preenchimento\"] = \"08:27:42\"\n",
        "df.at[1104, \"80 - fim do preenchimento\"] = \"08:27:42\"\n",
        "df.at[1105, \"80 - fim do preenchimento\"] = \"08:27:42\"\n",
        "df.at[1106, \"80 - fim do preenchimento\"] = \"08:27:42\"\n",
        "df.at[1107, \"80 - fim do preenchimento\"] = \"08:27:42\"\n",
        "df.at[1108, \"80 - fim do preenchimento\"] = \"08:27:42\"\n",
        "df.at[1109, \"80 - fim do preenchimento\"] = \"08:27:42\"\n",
        "df.at[1110, \"80 - fim do preenchimento\"] = \"08:27:42\"\n",
        "df.at[1111, \"80 - fim do preenchimento\"] = \"08:27:42\"\n",
        "df.at[1112, \"80 - fim do preenchimento\"] = \"08:27:42\"\n",
        "df.at[1113, \"80 - fim do preenchimento\"] = \"08:27:42\"\n",
        "df.at[1114, \"80 - fim do preenchimento\"] = \"08:27:42\"\n",
        "df.at[1115, \"80 - fim do preenchimento\"] = \"08:27:42\"\n",
        "df.at[1116, \"80 - fim do preenchimento\"] = \"08:27:42\"\n",
        "df.at[1117, \"80 - fim do preenchimento\"] = \"08:27:42\"\n",
        "df.at[1118, \"80 - fim do preenchimento\"] = \"08:27:42\"\n",
        "df.at[1119, \"80 - fim do preenchimento\"] = \"08:27:42\"\n",
        "df.at[1120, \"80 - fim do preenchimento\"] = \"08:27:42\"\n",
        "df.at[1121, \"80 - fim do preenchimento\"] = \"08:27:42\"\n",
        "df.at[1122, \"80 - fim do preenchimento\"] = \"08:27:42\"\n",
        "df.at[1123, \"80 - fim do preenchimento\"] = \"08:27:42\"\n",
        "df.at[1124, \"80 - fim do preenchimento\"] = \"08:27:42\"\n",
        "df.at[1125, \"80 - fim do preenchimento\"] = \"08:27:42\"\n",
        "df.at[1126, \"80 - fim do preenchimento\"] = \"08:27:42\"\n",
        "df.at[1127, \"80 - fim do preenchimento\"] = \"08:27:42\"\n",
        "df.at[1128, \"80 - fim do preenchimento\"] = \"08:27:42\"\n",
        "df.at[1129, \"80 - fim do preenchimento\"] = \"08:27:42\"\n",
        "df.at[1130, \"80 - fim do preenchimento\"] = \"08:27:42\"\n",
        "df.at[1131, \"80 - fim do preenchimento\"] = \"08:27:42\"\n",
        "df.at[1132, \"80 - fim do preenchimento\"] = \"08:27:42\"\n",
        "df.at[1133, \"80 - fim do preenchimento\"] = \"08:27:42\"\n",
        "df.at[1134, \"80 - fim do preenchimento\"] = \"08:27:42\"\n",
        "df.at[1135, \"80 - fim do preenchimento\"] = \"08:27:42\"\n",
        "df.at[1136, \"80 - fim do preenchimento\"] = \"08:27:42\"\n",
        "df.at[1137, \"80 - fim do preenchimento\"] = \"08:27:42\"\n",
        "df.at[1138, \"80 - fim do preenchimento\"] = \"08:27:42\"\n",
        "df.at[1139, \"80 - fim do preenchimento\"] = \"08:27:42\"\n",
        "df.at[1140, \"80 - fim do preenchimento\"] = \"08:27:42\"\n",
        "df.at[1141, \"80 - fim do preenchimento\"] = \"08:27:42\"\n",
        "df.at[1142, \"80 - fim do preenchimento\"] = \"08:27:42\"\n",
        "df.at[1143, \"80 - fim do preenchimento\"] = \"08:27:42\"\n",
        "df.at[1144, \"80 - fim do preenchimento\"] = \"08:27:42\"\n",
        "df.at[1145, \"80 - fim do preenchimento\"] = \"08:27:42\"\n",
        "df.at[1146, \"80 - fim do preenchimento\"] = \"08:27:42\"\n",
        "df.at[1147, \"80 - fim do preenchimento\"] = \"08:27:42\"\n",
        "df.at[1148, \"80 - fim do preenchimento\"] = \"08:27:42\"\n",
        "df.at[1149, \"80 - fim do preenchimento\"] = \"08:27:42\"\n",
        "df.at[1150, \"80 - fim do preenchimento\"] = \"08:27:42\"\n",
        "df.at[1151, \"80 - fim do preenchimento\"] = \"08:27:42\"\n",
        "df.at[1152, \"80 - fim do preenchimento\"] = \"08:27:42\"\n",
        "df.at[1153, \"80 - fim do preenchimento\"] = \"08:27:42\"\n",
        "df.at[1154, \"80 - fim do preenchimento\"] = \"08:27:42\"\n",
        "df.at[1155, \"80 - fim do preenchimento\"] = \"08:27:42\"\n",
        "df.at[1156, \"80 - fim do preenchimento\"] = \"08:27:42\"\n",
        "df.at[1157, \"80 - fim do preenchimento\"] = \"08:27:42\"\n",
        "df.at[1158, \"80 - fim do preenchimento\"] = \"08:27:42\"\n",
        "df.at[1159, \"80 - fim do preenchimento\"] = \"08:27:42\"\n",
        "df.at[1160, \"80 - fim do preenchimento\"] = \"08:27:42\"\n",
        "df.at[1161, \"80 - fim do preenchimento\"] = \"08:27:42\"\n",
        "df.at[1162, \"80 - fim do preenchimento\"] = \"08:27:42\"\n",
        "df.at[1163, \"80 - fim do preenchimento\"] = \"08:27:42\"\n",
        "df.at[1164, \"80 - fim do preenchimento\"] = \"08:27:42\"\n",
        "df.at[1165, \"80 - fim do preenchimento\"] = \"08:27:42\"\n",
        "df.at[1166, \"80 - fim do preenchimento\"] = \"08:27:42\"\n",
        "df.at[1167, \"80 - fim do preenchimento\"] = \"08:27:42\"\n",
        "df.at[1168, \"80 - fim do preenchimento\"] = \"08:27:42\"\n",
        "df.at[1169, \"80 - fim do preenchimento\"] = \"08:27:42\"\n",
        "df.at[1170, \"80 - fim do preenchimento\"] = \"08:27:42\"\n",
        "df.at[1171, \"80 - fim do preenchimento\"] = \"08:27:42\"\n",
        "df.at[1172, \"80 - fim do preenchimento\"] = \"08:27:42\"\n",
        "df.at[1173, \"80 - fim do preenchimento\"] = \"08:27:42\"\n",
        "df.at[1174, \"80 - fim do preenchimento\"] = \"08:27:42\"\n",
        "df.at[1175, \"80 - fim do preenchimento\"] = \"08:27:42\"\n",
        "df.at[1176, \"80 - fim do preenchimento\"] = \"08:27:42\"\n",
        "df.at[1177, \"80 - fim do preenchimento\"] = \"08:27:42\"\n",
        "df.at[1178, \"80 - fim do preenchimento\"] = \"08:27:42\"\n",
        "df.at[1179, \"80 - fim do preenchimento\"] = \"08:27:42\"\n",
        "df.at[1180, \"80 - fim do preenchimento\"] = \"08:27:42\"\n",
        "df.at[1181, \"80 - fim do preenchimento\"] = \"08:27:42\"\n",
        "df.at[1182, \"80 - fim do preenchimento\"] = \"08:27:42\"\n",
        "df.at[1183, \"80 - fim do preenchimento\"] = \"08:27:42\"\n",
        "df.at[1184, \"80 - fim do preenchimento\"] = \"08:27:42\"\n",
        "df.at[1185, \"80 - fim do preenchimento\"] = \"08:27:42\"\n",
        "df.at[1186, \"80 - fim do preenchimento\"] = \"08:27:42\"\n",
        "df.at[1187, \"80 - fim do preenchimento\"] = \"08:27:42\"\n",
        "df.at[1188, \"80 - fim do preenchimento\"] = \"08:27:42\"\n",
        "df.at[1189, \"80 - fim do preenchimento\"] = \"08:27:42\"\n",
        "df.at[1190, \"80 - fim do preenchimento\"] = \"08:27:42\"\n",
        "df.at[1191, \"80 - fim do preenchimento\"] = \"08:27:42\"\n",
        "df.at[1192, \"80 - fim do preenchimento\"] = \"08:27:42\"\n",
        "df.at[1193, \"80 - fim do preenchimento\"] = \"08:27:42\"\n",
        "df.at[1194, \"80 - fim do preenchimento\"] = \"08:27:42\"\n",
        "df.at[1195, \"80 - fim do preenchimento\"] = \"08:27:42\"\n",
        "df.at[1196, \"80 - fim do preenchimento\"] = \"08:27:42\"\n",
        "df.at[1197, \"80 - fim do preenchimento\"] = \"08:27:42\"\n",
        "df.at[1198, \"80 - fim do preenchimento\"] = \"08:27:42\"\n",
        "df.at[1199, \"80 - fim do preenchimento\"] = \"08:27:42\"\n",
        "df.at[1200, \"80 - fim do preenchimento\"] = \"08:27:42\""
      ],
      "metadata": {
        "cellView": "form",
        "id": "qWEkuMaYzSND"
      },
      "execution_count": null,
      "outputs": []
    },
    {
      "cell_type": "code",
      "source": [
        "#@title\n",
        "# for idx in df[\"80 - fim do preenchimento\"].index:\n",
        "  # print(idx, type(df.at[idx, \"80 - fim do preenchimento\"]), df.at[idx, \"80 - fim do preenchimento\"])\n",
        "\n",
        "dif_preenchimento = pd.to_datetime(df[\"80 - fim do preenchimento\"], format=\"%H:%M:%S\") - pd.to_datetime(df[\"2 - início do preenchimento\"], format=\"%H:%M:%S\")\n",
        "# print(dif_preenchimento)\n",
        "\n",
        "dif_preenchimento_em_minutos = dif_preenchimento.astype('timedelta64[m]')\n",
        "df[\"Diferença dias em minutos\"] = dif_preenchimento_em_minutos\n",
        "# print(df[\"Diferença dias em minutos\"])\n",
        "\n",
        "data_aux = dt.time(0, 0, 0)\n",
        "for idx in df[\"Diferença dias em minutos\"].dropna().index:\n",
        "  if df[\"Diferença dias em minutos\"].iloc[idx] < 0:\n",
        "    calc_aux1 = (pd.to_datetime(df[\"2 - início do preenchimento\"].iloc[idx], format=\"%H:%M:%S\") - pd.to_datetime(data_aux, format=\"%H:%M:%S\"))\n",
        "    calc_aux2 = (pd.to_datetime(data_aux, format=\"%H:%M:%S\") - pd.to_datetime(df[\"80 - fim do preenchimento\"].iloc[idx], format=\"%H:%M:%S\"))\n",
        "    resultado_calc = pd.to_timedelta([calc_aux1 + calc_aux2]).astype('timedelta64[m]')[0]\n",
        "    df.at[idx, \"Diferença dias em minutos\"] = resultado_calc\n",
        "# print(df[\"Diferença dias em minutos\"])"
      ],
      "metadata": {
        "id": "EThbzvRXfGKn"
      },
      "execution_count": null,
      "outputs": []
    },
    {
      "cell_type": "code",
      "source": [
        "#@title\n",
        "soma_minutos = df[\"Diferença dias em minutos\"].dropna().sum()\n",
        "print(f'Soma total de minutos: {soma_minutos}')\n",
        "\n",
        "df_sorted = df[\"Diferença dias em minutos\"].dropna().sort_values()\n",
        "\n",
        "media_minutos = df_sorted.mean()\n",
        "print(f'Média de minutos para a realizar a coleta total: {df_sorted.mean()}')\n",
        "\n",
        "mediana_minutos = df_sorted.median()\n",
        "print(f'Mediana dos minutos para a realização total da coleta: {df_sorted.median()}')\n",
        "\n",
        "moda_minutos = df_sorted.mode()[0]\n",
        "print(f'Moda dos minutos para a realização total da coleta: {df_sorted.mode()[0]}')"
      ],
      "metadata": {
        "colab": {
          "base_uri": "https://localhost:8080/"
        },
        "id": "c0hbOlW2fIU3",
        "outputId": "9c719c50-9890-4b16-8db5-9967016ea6cf"
      },
      "execution_count": null,
      "outputs": [
        {
          "output_type": "stream",
          "name": "stdout",
          "text": [
            "Soma total de minutos: 94657.0\n",
            "Média de minutos para a realizar a coleta total: 25.028291909042835\n",
            "Mediana dos minutos para a realização total da coleta: 2.0\n",
            "Moda dos minutos para a realização total da coleta: 1.0\n"
          ]
        }
      ]
    },
    {
      "cell_type": "code",
      "source": [
        "#@title\n",
        "# number_questions_in_months = {1: 0, 2: 0, 3: 0, 4: 0, 5: 0, 6: 0, 7: 0, 8: 0, 9: 0, 10: 0, 11: 0, 12: 0}\n",
        "num_questoes_por_mes = {5: 0, 6: 0, 7: 0, 8: 0, 9: 0, 10: 0, 11: 0}\n",
        "for line in df[\"Carimbo de data/hora\"]:\n",
        "  num_questoes_por_mes[line.month] += 1\n",
        "# print(num_questoes_por_mes)\n",
        "\n",
        "num_questoes_por_mes['Maio'] = num_questoes_por_mes[5]\n",
        "num_questoes_por_mes['Junho'] = num_questoes_por_mes[6]\n",
        "num_questoes_por_mes['Julho'] = num_questoes_por_mes[7]\n",
        "num_questoes_por_mes['Agosto'] = num_questoes_por_mes[8]\n",
        "num_questoes_por_mes['Setembro'] = num_questoes_por_mes[9]\n",
        "num_questoes_por_mes['Outubro'] = num_questoes_por_mes[10]\n",
        "num_questoes_por_mes['Novembro'] = num_questoes_por_mes[11]\n",
        "del num_questoes_por_mes[5]\n",
        "del num_questoes_por_mes[6]\n",
        "del num_questoes_por_mes[7]\n",
        "del num_questoes_por_mes[8]\n",
        "del num_questoes_por_mes[9]\n",
        "del num_questoes_por_mes[10]\n",
        "del num_questoes_por_mes[11]\n",
        "\n",
        "series_questoes = pd.Series(num_questoes_por_mes)\n",
        "# print(series_questoes)\n",
        "\n",
        "fig, ax = plt.subplots(figsize=(16,6))\n",
        "series_questoes.plot(ax=ax, kind='bar', xlabel='Meses', ylabel='Número de questionários', color=[\"#ba2e2e\"], fontsize=15)\n",
        "ax.bar_label(ax.containers[0], fontsize=14)\n",
        "plt.xlabel('Meses', fontsize=18)\n",
        "plt.ylabel('Número de questionários', fontsize=16)\n"
      ],
      "metadata": {
        "colab": {
          "base_uri": "https://localhost:8080/",
          "height": 481
        },
        "id": "A-49zbHUfNlT",
        "outputId": "4195804d-1d94-4db6-8e39-be931a5fd2ac"
      },
      "execution_count": null,
      "outputs": [
        {
          "output_type": "execute_result",
          "data": {
            "text/plain": [
              "Text(0, 0.5, 'Número de questionários')"
            ]
          },
          "metadata": {},
          "execution_count": 118
        },
        {
          "output_type": "display_data",
          "data": {
            "text/plain": [
              "<Figure size 1152x432 with 1 Axes>"
            ],
            "image/png": "[encoded data removed]"
          },
          "metadata": {
            "needs_background": "light"
          }
        }
      ]
    },
    {
      "cell_type": "code",
      "source": [
        "loc_coleta_geral_grafico_1 = \"/content/drive/My Drive/codigos_colab/imagens_graficos/coleta_geral_questoes_grafico_1.png\"\n",
        "fig.savefig(loc_coleta_geral_grafico_1)"
      ],
      "metadata": {
        "id": "WHS_5OxvgMUB"
      },
      "execution_count": null,
      "outputs": []
    },
    {
      "cell_type": "code",
      "source": [
        "#@title\n",
        "# number_questions_in_months = {1: 0, 2: 0, 3: 0, 4: 0, 5: 0, 6: 0, 7: 0, 8: 0, 9: 0, 10: 0, 11: 0, 12: 0}\n",
        "arr_minutos_por_mes = {5: [], 6: [], 7: [], 8: [], 9: [], 10: [], 11: []}\n",
        "for idx in range(0, df[\"Carimbo de data/hora\"].count()):\n",
        "  line = df[\"Carimbo de data/hora\"].iloc[idx]\n",
        "  line_min = df[\"Diferença dias em minutos\"].iloc[idx]\n",
        "  arr_minutos_por_mes[line.month].append(abs(line_min))\n",
        "# print(arr_minutos_por_mes)\n",
        "\n",
        "minutos_por_mes = {5: 0, 6: 0, 7: 0, 8: 0, 9: 0, 10: 0, 11: 0}\n",
        "for key in arr_minutos_por_mes:\n",
        "  minutos_por_mes[key] = np.nansum(arr_minutos_por_mes[key])\n",
        "# print(minutos_por_mes)\n",
        "\n",
        "minutos_por_mes['Maio'] = minutos_por_mes[5]\n",
        "minutos_por_mes['Junho'] = minutos_por_mes[6]\n",
        "minutos_por_mes['Julho'] = minutos_por_mes[7]\n",
        "minutos_por_mes['Agosto'] = minutos_por_mes[8]\n",
        "minutos_por_mes['Setembro'] = minutos_por_mes[9]\n",
        "minutos_por_mes['Outubro'] = minutos_por_mes[10]\n",
        "minutos_por_mes['Novembro'] = minutos_por_mes[11]\n",
        "del minutos_por_mes[5]\n",
        "del minutos_por_mes[6]\n",
        "del minutos_por_mes[7]\n",
        "del minutos_por_mes[8]\n",
        "del minutos_por_mes[9]\n",
        "del minutos_por_mes[10]\n",
        "del minutos_por_mes[11]\n",
        "series_minutos = pd.Series(minutos_por_mes)\n",
        "# print(series_minutos)\n",
        "\n",
        "fig, ax = plt.subplots(figsize=(16,6))\n",
        "series_minutos.plot(ax=ax, kind='bar', xlabel='Meses', ylabel='Minutos', color=[\"#ba2e2e\"], fontsize=15)\n",
        "ax.bar_label(ax.containers[0], fontsize=14)\n",
        "plt.xlabel('Meses', fontsize=18)\n",
        "plt.ylabel('Minutos', fontsize=16)\n",
        "\n"
      ],
      "metadata": {
        "id": "SdOWxbJtfRSD",
        "colab": {
          "base_uri": "https://localhost:8080/",
          "height": 481
        },
        "outputId": "eb6bd876-5325-480d-8af4-2f39d6d63062"
      },
      "execution_count": null,
      "outputs": [
        {
          "output_type": "execute_result",
          "data": {
            "text/plain": [
              "Text(0, 0.5, 'Minutos')"
            ]
          },
          "metadata": {},
          "execution_count": 120
        },
        {
          "output_type": "display_data",
          "data": {
            "text/plain": [
              "<Figure size 1152x432 with 1 Axes>"
            ],
            "image/png": "[encoded data removed]"
          },
          "metadata": {
            "needs_background": "light"
          }
        }
      ]
    },
    {
      "cell_type": "code",
      "source": [
        "loc_coleta_geral_grafico_2 = \"/content/drive/My Drive/codigos_colab/imagens_graficos/coleta_geral_questoes_por_minutos_grafico_2.png\"\n",
        "fig.savefig(loc_coleta_geral_grafico_2)"
      ],
      "metadata": {
        "id": "sWjz9n0OWkdy"
      },
      "execution_count": null,
      "outputs": []
    },
    {
      "cell_type": "markdown",
      "source": [
        "### Planilha Filtrada"
      ],
      "metadata": {
        "id": "JdR-PzoevCOA"
      }
    },
    {
      "cell_type": "code",
      "source": [
        "planilha = pd.read_excel('/content/drive/My Drive/codigos_colab/df_final_ajust.xlsx')"
      ],
      "metadata": {
        "id": "wFc4A4xmvD8I"
      },
      "execution_count": null,
      "outputs": []
    },
    {
      "cell_type": "code",
      "source": [
        "#@title\n",
        "planilha.at[984, \"80 - fim do preenchimento\"] = \"08:27:42\"\n",
        "planilha.at[985, \"80 - fim do preenchimento\"] = \"08:27:42\"\n",
        "planilha.at[986, \"80 - fim do preenchimento\"] = \"08:27:42\"\n",
        "planilha.at[987, \"80 - fim do preenchimento\"] = \"08:27:42\"\n",
        "planilha.at[988, \"80 - fim do preenchimento\"] = \"08:27:42\"\n",
        "planilha.at[989, \"80 - fim do preenchimento\"] = \"08:27:42\"\n",
        "planilha.at[990, \"80 - fim do preenchimento\"] = \"08:27:42\"\n",
        "planilha.at[991, \"80 - fim do preenchimento\"] = \"08:27:42\"\n",
        "planilha.at[992, \"80 - fim do preenchimento\"] = \"08:27:42\"\n",
        "planilha.at[993, \"80 - fim do preenchimento\"] = \"08:27:42\"\n",
        "planilha.at[994, \"80 - fim do preenchimento\"] = \"08:27:42\"\n",
        "planilha.at[995, \"80 - fim do preenchimento\"] = \"08:27:42\"\n",
        "planilha.at[996, \"80 - fim do preenchimento\"] = \"08:27:42\"\n",
        "planilha.at[997, \"80 - fim do preenchimento\"] = \"08:27:42\"\n",
        "planilha.at[998, \"80 - fim do preenchimento\"] = \"08:27:42\"\n",
        "planilha.at[999, \"80 - fim do preenchimento\"] = \"08:27:42\"\n",
        "planilha.at[1000, \"80 - fim do preenchimento\"] = \"08:27:42\"\n",
        "planilha.at[1001, \"80 - fim do preenchimento\"] = \"08:27:42\"\n",
        "planilha.at[1002, \"80 - fim do preenchimento\"] = \"08:27:42\"\n",
        "planilha.at[1003, \"80 - fim do preenchimento\"] = \"08:27:42\"\n",
        "planilha.at[1004, \"80 - fim do preenchimento\"] = \"08:27:42\"\n",
        "planilha.at[1005, \"80 - fim do preenchimento\"] = \"08:27:42\"\n",
        "planilha.at[1006, \"80 - fim do preenchimento\"] = \"08:27:42\"\n",
        "planilha.at[1007, \"80 - fim do preenchimento\"] = \"08:27:42\"\n",
        "planilha.at[1008, \"80 - fim do preenchimento\"] = \"08:27:42\"\n",
        "planilha.at[1009, \"80 - fim do preenchimento\"] = \"08:27:42\"\n",
        "planilha.at[1010, \"80 - fim do preenchimento\"] = \"08:27:42\"\n",
        "planilha.at[1011, \"80 - fim do preenchimento\"] = \"08:27:42\"\n",
        "planilha.at[1012, \"80 - fim do preenchimento\"] = \"08:27:42\"\n",
        "planilha.at[1013, \"80 - fim do preenchimento\"] = \"08:27:42\"\n",
        "planilha.at[1014, \"80 - fim do preenchimento\"] = \"08:27:42\"\n",
        "planilha.at[1015, \"80 - fim do preenchimento\"] = \"08:27:42\"\n",
        "planilha.at[1016, \"80 - fim do preenchimento\"] = \"08:27:42\"\n",
        "planilha.at[1017, \"80 - fim do preenchimento\"] = \"08:27:42\"\n",
        "planilha.at[1018, \"80 - fim do preenchimento\"] = \"08:27:42\"\n",
        "planilha.at[1019, \"80 - fim do preenchimento\"] = \"08:27:42\"\n",
        "planilha.at[1020, \"80 - fim do preenchimento\"] = \"08:27:42\"\n",
        "planilha.at[1021, \"80 - fim do preenchimento\"] = \"08:27:42\"\n",
        "planilha.at[1022, \"80 - fim do preenchimento\"] = \"08:27:42\"\n",
        "planilha.at[1023, \"80 - fim do preenchimento\"] = \"08:27:42\"\n",
        "planilha.at[1024, \"80 - fim do preenchimento\"] = \"08:27:42\"\n",
        "planilha.at[1025, \"80 - fim do preenchimento\"] = \"08:27:42\"\n",
        "planilha.at[1026, \"80 - fim do preenchimento\"] = \"08:27:42\"\n",
        "planilha.at[1027, \"80 - fim do preenchimento\"] = \"08:27:42\"\n",
        "planilha.at[1028, \"80 - fim do preenchimento\"] = \"08:27:42\"\n",
        "planilha.at[1029, \"80 - fim do preenchimento\"] = \"08:27:42\"\n",
        "planilha.at[1030, \"80 - fim do preenchimento\"] = \"08:27:42\"\n",
        "planilha.at[1031, \"80 - fim do preenchimento\"] = \"08:27:42\"\n",
        "planilha.at[1032, \"80 - fim do preenchimento\"] = \"08:27:42\"\n",
        "planilha.at[1033, \"80 - fim do preenchimento\"] = \"08:27:42\"\n",
        "planilha.at[1034, \"80 - fim do preenchimento\"] = \"08:27:42\"\n",
        "planilha.at[1035, \"80 - fim do preenchimento\"] = \"08:27:42\"\n",
        "planilha.at[1036, \"80 - fim do preenchimento\"] = \"08:27:42\"\n",
        "planilha.at[1037, \"80 - fim do preenchimento\"] = \"08:27:42\"\n",
        "planilha.at[1038, \"80 - fim do preenchimento\"] = \"08:27:42\"\n",
        "planilha.at[1039, \"80 - fim do preenchimento\"] = \"08:27:42\"\n",
        "planilha.at[1040, \"80 - fim do preenchimento\"] = \"08:27:42\"\n",
        "planilha.at[1041, \"80 - fim do preenchimento\"] = \"08:27:42\"\n",
        "planilha.at[1042, \"80 - fim do preenchimento\"] = \"08:27:42\"\n",
        "planilha.at[1043, \"80 - fim do preenchimento\"] = \"08:27:42\"\n",
        "planilha.at[1044, \"80 - fim do preenchimento\"] = \"08:27:42\"\n",
        "planilha.at[1045, \"80 - fim do preenchimento\"] = \"08:27:42\"\n",
        "planilha.at[1046, \"80 - fim do preenchimento\"] = \"08:27:42\"\n",
        "planilha.at[1047, \"80 - fim do preenchimento\"] = \"08:27:42\"\n",
        "planilha.at[1048, \"80 - fim do preenchimento\"] = \"08:27:42\"\n",
        "planilha.at[1049, \"80 - fim do preenchimento\"] = \"08:27:42\"\n",
        "planilha.at[1050, \"80 - fim do preenchimento\"] = \"08:27:42\"\n",
        "planilha.at[1051, \"80 - fim do preenchimento\"] = \"08:27:42\"\n",
        "planilha.at[1052, \"80 - fim do preenchimento\"] = \"08:27:42\"\n",
        "planilha.at[1053, \"80 - fim do preenchimento\"] = \"08:27:42\"\n",
        "planilha.at[1054, \"80 - fim do preenchimento\"] = \"08:27:42\"\n",
        "planilha.at[1055, \"80 - fim do preenchimento\"] = \"08:27:42\"\n",
        "planilha.at[1056, \"80 - fim do preenchimento\"] = \"08:27:42\"\n",
        "planilha.at[1057, \"80 - fim do preenchimento\"] = \"08:27:42\"\n",
        "planilha.at[1058, \"80 - fim do preenchimento\"] = \"08:27:42\"\n",
        "planilha.at[1059, \"80 - fim do preenchimento\"] = \"08:27:42\"\n",
        "planilha.at[1060, \"80 - fim do preenchimento\"] = \"08:27:42\"\n",
        "planilha.at[1061, \"80 - fim do preenchimento\"] = \"08:27:42\"\n",
        "planilha.at[1062, \"80 - fim do preenchimento\"] = \"08:27:42\"\n",
        "planilha.at[1063, \"80 - fim do preenchimento\"] = \"08:27:42\"\n",
        "planilha.at[1064, \"80 - fim do preenchimento\"] = \"08:27:42\"\n",
        "planilha.at[1065, \"80 - fim do preenchimento\"] = \"08:27:42\"\n",
        "planilha.at[1066, \"80 - fim do preenchimento\"] = \"08:27:42\"\n",
        "planilha.at[1067, \"80 - fim do preenchimento\"] = \"08:27:42\"\n",
        "planilha.at[1068, \"80 - fim do preenchimento\"] = \"08:27:42\"\n",
        "planilha.at[1069, \"80 - fim do preenchimento\"] = \"08:27:42\"\n",
        "planilha.at[1070, \"80 - fim do preenchimento\"] = \"08:27:42\"\n",
        "planilha.at[1071, \"80 - fim do preenchimento\"] = \"08:27:42\"\n",
        "planilha.at[1072, \"80 - fim do preenchimento\"] = \"08:27:42\"\n",
        "planilha.at[1073, \"80 - fim do preenchimento\"] = \"08:27:42\"\n",
        "planilha.at[1074, \"80 - fim do preenchimento\"] = \"08:27:42\"\n",
        "planilha.at[1075, \"80 - fim do preenchimento\"] = \"08:27:42\"\n",
        "planilha.at[1076, \"80 - fim do preenchimento\"] = \"08:27:42\"\n",
        "planilha.at[1077, \"80 - fim do preenchimento\"] = \"08:27:42\"\n",
        "planilha.at[1078, \"80 - fim do preenchimento\"] = \"08:27:42\"\n",
        "planilha.at[1079, \"80 - fim do preenchimento\"] = \"08:27:42\"\n",
        "planilha.at[1080, \"80 - fim do preenchimento\"] = \"08:27:42\"\n",
        "planilha.at[1081, \"80 - fim do preenchimento\"] = \"08:27:42\"\n",
        "planilha.at[1082, \"80 - fim do preenchimento\"] = \"08:27:42\"\n",
        "planilha.at[1083, \"80 - fim do preenchimento\"] = \"08:27:42\"\n",
        "planilha.at[1084, \"80 - fim do preenchimento\"] = \"08:27:42\"\n",
        "planilha.at[1085, \"80 - fim do preenchimento\"] = \"08:27:42\"\n",
        "planilha.at[1086, \"80 - fim do preenchimento\"] = \"08:27:42\"\n",
        "planilha.at[1087, \"80 - fim do preenchimento\"] = \"08:27:42\"\n",
        "planilha.at[1088, \"80 - fim do preenchimento\"] = \"08:27:42\"\n",
        "planilha.at[1089, \"80 - fim do preenchimento\"] = \"08:27:42\"\n",
        "planilha.at[1090, \"80 - fim do preenchimento\"] = \"08:27:42\"\n",
        "planilha.at[1091, \"80 - fim do preenchimento\"] = \"08:27:42\"\n",
        "planilha.at[1092, \"80 - fim do preenchimento\"] = \"08:27:42\"\n",
        "planilha.at[1093, \"80 - fim do preenchimento\"] = \"08:27:42\"\n",
        "planilha.at[1094, \"80 - fim do preenchimento\"] = \"08:27:42\"\n",
        "planilha.at[1095, \"80 - fim do preenchimento\"] = \"08:27:42\"\n",
        "planilha.at[1096, \"80 - fim do preenchimento\"] = \"08:27:42\"\n",
        "planilha.at[1097, \"80 - fim do preenchimento\"] = \"08:27:42\"\n",
        "planilha.at[1098, \"80 - fim do preenchimento\"] = \"08:27:42\"\n",
        "planilha.at[1099, \"80 - fim do preenchimento\"] = \"08:27:42\"\n",
        "planilha.at[1100, \"80 - fim do preenchimento\"] = \"08:27:42\"\n",
        "planilha.at[1101, \"80 - fim do preenchimento\"] = \"08:27:42\"\n",
        "planilha.at[1102, \"80 - fim do preenchimento\"] = \"08:27:42\"\n",
        "planilha.at[1103, \"80 - fim do preenchimento\"] = \"08:27:42\"\n",
        "planilha.at[1104, \"80 - fim do preenchimento\"] = \"08:27:42\"\n",
        "planilha.at[1105, \"80 - fim do preenchimento\"] = \"08:27:42\"\n",
        "planilha.at[1106, \"80 - fim do preenchimento\"] = \"08:27:42\"\n",
        "planilha.at[1107, \"80 - fim do preenchimento\"] = \"08:27:42\"\n",
        "planilha.at[1108, \"80 - fim do preenchimento\"] = \"08:27:42\"\n",
        "planilha.at[1109, \"80 - fim do preenchimento\"] = \"08:27:42\"\n",
        "planilha.at[1110, \"80 - fim do preenchimento\"] = \"08:27:42\"\n",
        "planilha.at[1111, \"80 - fim do preenchimento\"] = \"08:27:42\"\n",
        "planilha.at[1112, \"80 - fim do preenchimento\"] = \"08:27:42\"\n",
        "planilha.at[1113, \"80 - fim do preenchimento\"] = \"08:27:42\"\n",
        "planilha.at[1114, \"80 - fim do preenchimento\"] = \"08:27:42\"\n",
        "planilha.at[1115, \"80 - fim do preenchimento\"] = \"08:27:42\"\n",
        "planilha.at[1116, \"80 - fim do preenchimento\"] = \"08:27:42\"\n",
        "planilha.at[1117, \"80 - fim do preenchimento\"] = \"08:27:42\"\n",
        "planilha.at[1118, \"80 - fim do preenchimento\"] = \"08:27:42\"\n",
        "planilha.at[1119, \"80 - fim do preenchimento\"] = \"08:27:42\"\n",
        "planilha.at[1120, \"80 - fim do preenchimento\"] = \"08:27:42\"\n",
        "planilha.at[1121, \"80 - fim do preenchimento\"] = \"08:27:42\"\n",
        "planilha.at[1122, \"80 - fim do preenchimento\"] = \"08:27:42\"\n",
        "planilha.at[1123, \"80 - fim do preenchimento\"] = \"08:27:42\"\n",
        "planilha.at[1124, \"80 - fim do preenchimento\"] = \"08:27:42\"\n",
        "planilha.at[1125, \"80 - fim do preenchimento\"] = \"08:27:42\"\n",
        "planilha.at[1126, \"80 - fim do preenchimento\"] = \"08:27:42\"\n",
        "planilha.at[1127, \"80 - fim do preenchimento\"] = \"08:27:42\"\n",
        "planilha.at[1128, \"80 - fim do preenchimento\"] = \"08:27:42\"\n",
        "planilha.at[1129, \"80 - fim do preenchimento\"] = \"08:27:42\"\n",
        "planilha.at[1130, \"80 - fim do preenchimento\"] = \"08:27:42\"\n",
        "planilha.at[1131, \"80 - fim do preenchimento\"] = \"08:27:42\"\n",
        "planilha.at[1132, \"80 - fim do preenchimento\"] = \"08:27:42\"\n",
        "planilha.at[1133, \"80 - fim do preenchimento\"] = \"08:27:42\"\n",
        "planilha.at[1134, \"80 - fim do preenchimento\"] = \"08:27:42\"\n",
        "planilha.at[1135, \"80 - fim do preenchimento\"] = \"08:27:42\"\n",
        "planilha.at[1136, \"80 - fim do preenchimento\"] = \"08:27:42\"\n",
        "planilha.at[1137, \"80 - fim do preenchimento\"] = \"08:27:42\"\n",
        "planilha.at[1138, \"80 - fim do preenchimento\"] = \"08:27:42\"\n",
        "planilha.at[1139, \"80 - fim do preenchimento\"] = \"08:27:42\"\n",
        "planilha.at[1140, \"80 - fim do preenchimento\"] = \"08:27:42\"\n",
        "planilha.at[1141, \"80 - fim do preenchimento\"] = \"08:27:42\"\n",
        "planilha.at[1142, \"80 - fim do preenchimento\"] = \"08:27:42\"\n",
        "planilha.at[1143, \"80 - fim do preenchimento\"] = \"08:27:42\"\n",
        "planilha.at[1144, \"80 - fim do preenchimento\"] = \"08:27:42\"\n",
        "planilha.at[1145, \"80 - fim do preenchimento\"] = \"08:27:42\"\n",
        "planilha.at[1146, \"80 - fim do preenchimento\"] = \"08:27:42\"\n",
        "planilha.at[1147, \"80 - fim do preenchimento\"] = \"08:27:42\"\n",
        "planilha.at[1148, \"80 - fim do preenchimento\"] = \"08:27:42\"\n",
        "planilha.at[1149, \"80 - fim do preenchimento\"] = \"08:27:42\"\n",
        "planilha.at[1150, \"80 - fim do preenchimento\"] = \"08:27:42\"\n",
        "planilha.at[1151, \"80 - fim do preenchimento\"] = \"08:27:42\"\n",
        "planilha.at[1152, \"80 - fim do preenchimento\"] = \"08:27:42\"\n",
        "planilha.at[1153, \"80 - fim do preenchimento\"] = \"08:27:42\"\n",
        "planilha.at[1154, \"80 - fim do preenchimento\"] = \"08:27:42\"\n",
        "planilha.at[1155, \"80 - fim do preenchimento\"] = \"08:27:42\"\n",
        "planilha.at[1156, \"80 - fim do preenchimento\"] = \"08:27:42\"\n",
        "planilha.at[1157, \"80 - fim do preenchimento\"] = \"08:27:42\"\n",
        "planilha.at[1158, \"80 - fim do preenchimento\"] = \"08:27:42\"\n",
        "planilha.at[1159, \"80 - fim do preenchimento\"] = \"08:27:42\"\n",
        "planilha.at[1160, \"80 - fim do preenchimento\"] = \"08:27:42\"\n",
        "planilha.at[1161, \"80 - fim do preenchimento\"] = \"08:27:42\"\n",
        "planilha.at[1162, \"80 - fim do preenchimento\"] = \"08:27:42\"\n",
        "planilha.at[1163, \"80 - fim do preenchimento\"] = \"08:27:42\"\n",
        "planilha.at[1164, \"80 - fim do preenchimento\"] = \"08:27:42\"\n",
        "planilha.at[1165, \"80 - fim do preenchimento\"] = \"08:27:42\"\n",
        "planilha.at[1166, \"80 - fim do preenchimento\"] = \"08:27:42\"\n",
        "planilha.at[1167, \"80 - fim do preenchimento\"] = \"08:27:42\"\n",
        "planilha.at[1168, \"80 - fim do preenchimento\"] = \"08:27:42\"\n",
        "planilha.at[1169, \"80 - fim do preenchimento\"] = \"08:27:42\"\n",
        "planilha.at[1170, \"80 - fim do preenchimento\"] = \"08:27:42\"\n",
        "planilha.at[1171, \"80 - fim do preenchimento\"] = \"08:27:42\"\n",
        "planilha.at[1172, \"80 - fim do preenchimento\"] = \"08:27:42\"\n",
        "planilha.at[1173, \"80 - fim do preenchimento\"] = \"08:27:42\"\n",
        "planilha.at[1174, \"80 - fim do preenchimento\"] = \"08:27:42\"\n",
        "planilha.at[1175, \"80 - fim do preenchimento\"] = \"08:27:42\"\n",
        "planilha.at[1176, \"80 - fim do preenchimento\"] = \"08:27:42\"\n",
        "planilha.at[1177, \"80 - fim do preenchimento\"] = \"08:27:42\"\n",
        "planilha.at[1178, \"80 - fim do preenchimento\"] = \"08:27:42\"\n",
        "planilha.at[1179, \"80 - fim do preenchimento\"] = \"08:27:42\"\n",
        "planilha.at[1180, \"80 - fim do preenchimento\"] = \"08:27:42\"\n",
        "planilha.at[1181, \"80 - fim do preenchimento\"] = \"08:27:42\"\n",
        "planilha.at[1182, \"80 - fim do preenchimento\"] = \"08:27:42\"\n",
        "planilha.at[1183, \"80 - fim do preenchimento\"] = \"08:27:42\"\n",
        "planilha.at[1184, \"80 - fim do preenchimento\"] = \"08:27:42\"\n",
        "planilha.at[1185, \"80 - fim do preenchimento\"] = \"08:27:42\"\n",
        "planilha.at[1186, \"80 - fim do preenchimento\"] = \"08:27:42\"\n",
        "planilha.at[1187, \"80 - fim do preenchimento\"] = \"08:27:42\"\n",
        "planilha.at[1188, \"80 - fim do preenchimento\"] = \"08:27:42\"\n",
        "planilha.at[1189, \"80 - fim do preenchimento\"] = \"08:27:42\"\n",
        "planilha.at[1190, \"80 - fim do preenchimento\"] = \"08:27:42\"\n",
        "planilha.at[1191, \"80 - fim do preenchimento\"] = \"08:27:42\"\n",
        "planilha.at[1192, \"80 - fim do preenchimento\"] = \"08:27:42\"\n",
        "planilha.at[1193, \"80 - fim do preenchimento\"] = \"08:27:42\"\n",
        "planilha.at[1194, \"80 - fim do preenchimento\"] = \"08:27:42\"\n",
        "planilha.at[1195, \"80 - fim do preenchimento\"] = \"08:27:42\"\n",
        "planilha.at[1196, \"80 - fim do preenchimento\"] = \"08:27:42\"\n",
        "planilha.at[1197, \"80 - fim do preenchimento\"] = \"08:27:42\"\n",
        "planilha.at[1198, \"80 - fim do preenchimento\"] = \"08:27:42\"\n",
        "planilha.at[1199, \"80 - fim do preenchimento\"] = \"08:27:42\"\n",
        "planilha.at[1200, \"80 - fim do preenchimento\"] = \"08:27:42\""
      ],
      "metadata": {
        "cellView": "form",
        "id": "YqYJ5IK5zvhl"
      },
      "execution_count": null,
      "outputs": []
    },
    {
      "cell_type": "code",
      "source": [
        "indexes_para_remover = []\n",
        "for idx in planilha.index:\n",
        "  if planilha.iloc[idx][\"5 - É caso de interesse?\"] != \"sim: morte interna\" and planilha.iloc[idx][\"5 - É caso de interesse?\"] != \"sim: morte externa\":\n",
        "    indexes_para_remover.append(idx)\n",
        "\n",
        "planilha_filtrada = planilha.drop(labels=indexes_para_remover)\n",
        "# print(planilha_filtrada.count())\n",
        "# print(df.count())"
      ],
      "metadata": {
        "id": "sc3TpWxVvO_B"
      },
      "execution_count": null,
      "outputs": []
    },
    {
      "cell_type": "code",
      "source": [
        "#@title\n",
        "data_mais_antiga = \"\"\n",
        "data_mais_recente = \"\"\n",
        "for line in planilha_filtrada[\"Carimbo de data/hora\"]:\n",
        "  if data_mais_antiga == \"\" and data_mais_recente == \"\":\n",
        "    data_mais_antiga = data_mais_recente = line\n",
        "  elif data_mais_antiga > line:\n",
        "    data_mais_antiga = line\n",
        "  elif data_mais_recente < line:\n",
        "    data_mais_recente = line\n",
        "\n",
        "diff_data = data_mais_recente - data_mais_antiga\n",
        "print(f'Se passaram {diff_data.days} dias')"
      ],
      "metadata": {
        "colab": {
          "base_uri": "https://localhost:8080/"
        },
        "id": "GLDY89GgvTxb",
        "outputId": "054f17c6-83be-44e9-cb10-01fe31222dba"
      },
      "execution_count": null,
      "outputs": [
        {
          "output_type": "stream",
          "name": "stdout",
          "text": [
            "Se passaram 188 dias\n"
          ]
        }
      ]
    },
    {
      "cell_type": "code",
      "source": [
        "#@title\n",
        "from numpy.lib.function_base import average\n",
        "\n",
        "num_total_linhas_1 = planilha_filtrada[\"Carimbo de data/hora\"].count()\n",
        "print(f'Número de linhas: {num_total_linhas_1}')\n",
        "\n",
        "media_questoes_por_dia_1 = num_total_linhas_1/diff_data.days\n",
        "print(f'Média de questionários por dia: {media_questoes_por_dia_1}')\n",
        "\n",
        "data_dos_questionarios = []\n",
        "for line in planilha_filtrada[\"Carimbo de data/hora\"]:\n",
        "  if line not in data_dos_questionarios:\n",
        "    data_dos_questionarios.append(line)\n",
        "# print(data_dos_questionarios[0].normalize())\n",
        "\n",
        "num_questoes_por_dia_1 = []\n",
        "df_date_normalized = planilha_filtrada[\"Carimbo de data/hora\"].dt.normalize()\n",
        "for date in data_dos_questionarios:\n",
        "  num_questoes_por_dia_1.append(df_date_normalized.where(df_date_normalized == date.normalize()).count())\n",
        "# print(num_questoes_por_dia)\n",
        "\n",
        "num_questoes_por_dia_sorted = np.sort(num_questoes_por_dia_1)\n",
        "mediana_questoes_por_dia_1 = np.median(num_questoes_por_dia_sorted)\n",
        "print(f'Mediana de questionários por dia: {mediana_questoes_por_dia_1}')\n",
        "\n",
        "vals, counts = np.unique(num_questoes_por_dia_sorted, return_counts=True)\n",
        "# print(vals, counts)\n",
        "\n",
        "valor_da_moda = np.argwhere(counts == np.max(counts))\n",
        "print(f'Moda de questionários por dia: {int(valor_da_moda)}')"
      ],
      "metadata": {
        "colab": {
          "base_uri": "https://localhost:8080/"
        },
        "id": "E-3sf3rCvaGR",
        "outputId": "fb3ab399-c6b9-416f-d362-bb331a5b932d"
      },
      "execution_count": null,
      "outputs": [
        {
          "output_type": "stream",
          "name": "stdout",
          "text": [
            "Número de linhas: 1168\n",
            "Média de questionários por dia: 6.212765957446808\n",
            "Mediana de questionários por dia: 12.5\n",
            "Moda de questionários por dia: 5\n"
          ]
        }
      ]
    },
    {
      "cell_type": "code",
      "source": [
        "#@title\n",
        "dif_preenchimento = pd.to_datetime(planilha_filtrada[\"80 - fim do preenchimento\"], format=\"%H:%M:%S\") - pd.to_datetime(planilha_filtrada[\"2 - início do preenchimento\"], format=\"%H:%M:%S\")\n",
        "# print(dif_preenchimento)\n",
        "\n",
        "dif_preenchimento_in_minutes = dif_preenchimento.astype('timedelta64[m]')\n",
        "planilha_filtrada[\"Diferença dias em minutos\"] = dif_preenchimento_in_minutes\n",
        "# print(planilha_filtrada[\"Diferença dias em minutos\"])\n",
        "\n",
        "data_aux = dt.time(0, 0, 0)\n",
        "# print(planilha_filtrada[\"Diferença dias em minutos\"].count())\n",
        "for idx in planilha_filtrada[\"Diferença dias em minutos\"].index:\n",
        "  # print(idx)\n",
        "  if planilha_filtrada.at[idx, \"Diferença dias em minutos\"] < 0 and not(np.isnan(planilha_filtrada.at[idx, \"Diferença dias em minutos\"])):\n",
        "    calc_aux1 = (pd.to_datetime(planilha_filtrada.at[idx, \"2 - início do preenchimento\"], format=\"%H:%M:%S\") - pd.to_datetime(data_aux, format=\"%H:%M:%S\"))\n",
        "    calc_aux2 = (pd.to_datetime(data_aux, format=\"%H:%M:%S\") - pd.to_datetime(planilha_filtrada.at[idx, \"80 - fim do preenchimento\"], format=\"%H:%M:%S\"))\n",
        "    resultado_calc = pd.to_timedelta([calc_aux1 + calc_aux2]).astype('timedelta64[m]')[0]\n",
        "    planilha_filtrada.at[idx, \"Diferença dias em minutos\"] = resultado_calc\n",
        "# print(planilha_filtrada[\"Diferença dias em minutos\"])"
      ],
      "metadata": {
        "id": "GHbZqOFzW--r"
      },
      "execution_count": null,
      "outputs": []
    },
    {
      "cell_type": "code",
      "source": [
        "soma_minutos_1 = planilha_filtrada[\"Diferença dias em minutos\"].dropna().sum()\n",
        "print(f'Soma total de minutos: {soma_minutos_1}') # 50756.0\n",
        "\n",
        "planilha_filtrada_sorted = planilha_filtrada[\"Diferença dias em minutos\"].dropna().sort_values()\n",
        "\n",
        "media_minutos_1 = planilha_filtrada_sorted.mean()\n",
        "print(f'Média de minutos para a realizar a coleta total: {planilha_filtrada_sorted.mean()}') # 64.98847631241998\n",
        "\n",
        "mediana_minutos_1 = planilha_filtrada_sorted.median()\n",
        "print(f'Mediana dos minutos para a realização total da coleta: {planilha_filtrada_sorted.median()}') # 36.0\n",
        "\n",
        "moda_minutos_1 = planilha_filtrada_sorted.mode()[0]\n",
        "print(f'Moda dos minutos para a realização total da coleta: {planilha_filtrada_sorted.mode()[0]}') # 16"
      ],
      "metadata": {
        "colab": {
          "base_uri": "https://localhost:8080/"
        },
        "id": "W6huZ8ocXBnK",
        "outputId": "65a0b81d-03aa-4eee-9d39-f4922627cd46"
      },
      "execution_count": null,
      "outputs": [
        {
          "output_type": "stream",
          "name": "stdout",
          "text": [
            "Soma total de minutos: 71993.0\n",
            "Média de minutos para a realizar a coleta total: 61.74356775300171\n",
            "Mediana dos minutos para a realização total da coleta: 32.0\n",
            "Moda dos minutos para a realização total da coleta: 20.0\n"
          ]
        }
      ]
    },
    {
      "cell_type": "code",
      "source": [
        "#@title\n",
        "# number_questions_in_months = {1: 0, 2: 0, 3: 0, 4: 0, 5: 0, 6: 0, 7: 0, 8: 0, 9: 0, 10: 0, 11: 0, 12: 0}\n",
        "num_questoes_por_mes = {5: 0, 6: 0, 7: 0, 8: 0, 9: 0, 10: 0, 11: 0}\n",
        "for line in planilha_filtrada[\"Carimbo de data/hora\"]:\n",
        "  num_questoes_por_mes[line.month] += 1\n",
        "# print(num_questoes_por_mes)\n",
        "\n",
        "num_questoes_por_mes['Maio'] = num_questoes_por_mes[5]\n",
        "num_questoes_por_mes['Junho'] = num_questoes_por_mes[6]\n",
        "num_questoes_por_mes['Julho'] = num_questoes_por_mes[7]\n",
        "num_questoes_por_mes['Agosto'] = num_questoes_por_mes[8]\n",
        "num_questoes_por_mes['Setembro'] = num_questoes_por_mes[9]\n",
        "num_questoes_por_mes['Outubro'] = num_questoes_por_mes[10]\n",
        "num_questoes_por_mes['Novembro'] = num_questoes_por_mes[11]\n",
        "del num_questoes_por_mes[5]\n",
        "del num_questoes_por_mes[6]\n",
        "del num_questoes_por_mes[7]\n",
        "del num_questoes_por_mes[8]\n",
        "del num_questoes_por_mes[9]\n",
        "del num_questoes_por_mes[10]\n",
        "del num_questoes_por_mes[11]\n",
        "series_questoes = pd.Series(num_questoes_por_mes)\n",
        "# print(series_questoes)\n",
        "\n",
        "fig, ax = plt.subplots(figsize=(16,6))\n",
        "series_questoes.plot(ax=ax, kind='bar', xlabel='Meses', ylabel='Número de questionários', color=[\"#ba6d2e\"], fontsize=15)\n",
        "ax.bar_label(ax.containers[0], fontsize=14)\n",
        "plt.xlabel('Meses', fontsize=18)\n",
        "plt.ylabel('Número de questionários', fontsize=16)\n"
      ],
      "metadata": {
        "colab": {
          "base_uri": "https://localhost:8080/",
          "height": 481
        },
        "id": "fTzOOKrLXETC",
        "outputId": "c403e426-b316-4ad4-fa99-952e2e285d4d"
      },
      "execution_count": null,
      "outputs": [
        {
          "output_type": "execute_result",
          "data": {
            "text/plain": [
              "Text(0, 0.5, 'Número de questionários')"
            ]
          },
          "metadata": {},
          "execution_count": 129
        },
        {
          "output_type": "display_data",
          "data": {
            "text/plain": [
              "<Figure size 1152x432 with 1 Axes>"
            ],
            "image/png": "[encoded data removed]"
          },
          "metadata": {
            "needs_background": "light"
          }
        }
      ]
    },
    {
      "cell_type": "code",
      "source": [
        "loc_coleta_interesse_grafico_1 = \"/content/drive/My Drive/codigos_colab/imagens_graficos/coleta_casos_interesse_questoes_por_dia_grafico_1.png\"\n",
        "fig.savefig(loc_coleta_interesse_grafico_1)"
      ],
      "metadata": {
        "id": "Wp4pQYepXMkq"
      },
      "execution_count": null,
      "outputs": []
    },
    {
      "cell_type": "code",
      "source": [
        "#@title\n",
        "# number_questions_in_months = {1: 0, 2: 0, 3: 0, 4: 0, 5: 0, 6: 0, 7: 0, 8: 0, 9: 0, 10: 0, 11: 0, 12: 0}\n",
        "arr_minutos_por_mes = {5: [], 6: [], 7: [], 8: [], 9: [], 10: [], 11: []}\n",
        "for idx in range(0, planilha_filtrada[\"Carimbo de data/hora\"].count()):\n",
        "  line = planilha_filtrada[\"Carimbo de data/hora\"].iloc[idx]\n",
        "  line_min = planilha_filtrada[\"Diferença dias em minutos\"].iloc[idx]\n",
        "  arr_minutos_por_mes[line.month].append(abs(line_min))\n",
        "# print(arr_minutos_por_mes)\n",
        "\n",
        "minutos_por_mes = {5: 0, 6: 0, 7: 0, 8: 0, 9: 0, 10: 0, 11: 0}\n",
        "for key in arr_minutos_por_mes:\n",
        "  minutos_por_mes[key] = np.nansum(arr_minutos_por_mes[key])\n",
        "# print(minutos_por_mes)\n",
        "\n",
        "minutos_por_mes['Maio'] = minutos_por_mes[5]\n",
        "minutos_por_mes['Junho'] = minutos_por_mes[6]\n",
        "minutos_por_mes['Julho'] = minutos_por_mes[7]\n",
        "minutos_por_mes['Agosto'] = minutos_por_mes[8]\n",
        "minutos_por_mes['Setembro'] = minutos_por_mes[9]\n",
        "minutos_por_mes['Outubro'] = minutos_por_mes[10]\n",
        "minutos_por_mes['Novembro'] = minutos_por_mes[11]\n",
        "del minutos_por_mes[5]\n",
        "del minutos_por_mes[6]\n",
        "del minutos_por_mes[7]\n",
        "del minutos_por_mes[8]\n",
        "del minutos_por_mes[9]\n",
        "del minutos_por_mes[10]\n",
        "del minutos_por_mes[11]\n",
        "series_minutos = pd.Series(minutos_por_mes)\n",
        "# print(series_minutos)\n",
        "\n",
        "fig, ax = plt.subplots(figsize=(16,6))\n",
        "series_minutos.plot(ax=ax, kind='bar', xlabel='Meses', ylabel='Minutos', color=[\"#ba6d2e\"], fontsize=15)\n",
        "ax.bar_label(ax.containers[0], fontsize=14)\n",
        "plt.xlabel('Meses', fontsize=18)\n",
        "plt.ylabel('Minutos', fontsize=16)\n"
      ],
      "metadata": {
        "colab": {
          "base_uri": "https://localhost:8080/",
          "height": 481
        },
        "id": "eS5DqHnMXJPz",
        "outputId": "0f91bb6b-2c9b-4008-f720-baac31bc413c"
      },
      "execution_count": null,
      "outputs": [
        {
          "output_type": "execute_result",
          "data": {
            "text/plain": [
              "Text(0, 0.5, 'Minutos')"
            ]
          },
          "metadata": {},
          "execution_count": 131
        },
        {
          "output_type": "display_data",
          "data": {
            "text/plain": [
              "<Figure size 1152x432 with 1 Axes>"
            ],
            "image/png": "[encoded data removed]"
          },
          "metadata": {
            "needs_background": "light"
          }
        }
      ]
    },
    {
      "cell_type": "code",
      "source": [
        "loc_coleta_interesse_grafico_2 = \"/content/drive/My Drive/codigos_colab/imagens_graficos/coleta_casos_interesse_questoes_por_minutos_grafico_2.png\"\n",
        "fig.savefig(loc_coleta_interesse_grafico_2)"
      ],
      "metadata": {
        "id": "jjhITaSuXStw"
      },
      "execution_count": null,
      "outputs": []
    },
    {
      "cell_type": "markdown",
      "source": [
        "## aqui a parte de gerar o documento pra facilitar, mas como conversamos você vai ter que colocar no template o número do gráfico. Veja o template primeiro."
      ],
      "metadata": {
        "id": "bPnOKrSC57WW"
      }
    },
    {
      "cell_type": "code",
      "source": [
        "## essa parte pega o template na pasta e usando o método DocxTemplate() salvamos o template dentro da variável documento\n",
        "\n",
        "arq_template = \"/content/drive/My Drive/codigos_colab/template_parte_1.docx\" # esse template está na pasta\n",
        "documento = DocxTemplate(arq_template)"
      ],
      "metadata": {
        "id": "3hNHa0qD5xXv"
      },
      "execution_count": null,
      "outputs": []
    },
    {
      "cell_type": "code",
      "source": [
        "\n",
        "## aqui vc tem que colocar todos os gráficos\n",
        "\n",
        "# imagem = InlineImage(template onde a imagem deve ser inserida, imagem a ser inserida, tamanho da imagem a ser inserida)\n",
        "\n",
        "\n",
        "coleta_geral_grafico_1 = InlineImage(documento, loc_coleta_geral_grafico_1, Cm(18))\n",
        "coleta_geral_grafico_2 = InlineImage(documento, loc_coleta_geral_grafico_2, Cm(18))\n",
        "coleta_interesse_grafico_1 = InlineImage(documento, loc_coleta_interesse_grafico_1, Cm(18))\n",
        "coleta_interesse_grafico_2 = InlineImage(documento, loc_coleta_interesse_grafico_2, Cm(18))"
      ],
      "metadata": {
        "id": "RwMBvqFt5oD2"
      },
      "execution_count": null,
      "outputs": []
    },
    {
      "cell_type": "code",
      "source": [
        "# Aqui vamos atribuir os valores que substituirão as variáveis no arquivo template\n",
        "contexto = {\n",
        "    'num_total_linhas': num_total_linhas,\n",
        "    'media_questoes_dia': '{0:.2f}'.format(media_questoes_por_dia), \n",
        "    'mediana_questes_dia': int(mediana_questoes_por_dia),\n",
        "    'arr_moda': int(arr_moda),\n",
        "    'dif_days': int(dif_data.days),\n",
        "\n",
        "    'num_total_linhas_1': num_total_linhas_1,\n",
        "    'media_questoes_dia_1': '{0:.2f}'.format(media_questoes_por_dia_1),\n",
        "    'mediana_questoes_dia_1': int(mediana_questoes_por_dia_1),\n",
        "    'arr_moda_1': int(valor_da_moda),\n",
        "\n",
        "    'coleta_geral_grafico_1': coleta_geral_grafico_1,\n",
        "    'coleta_interesse_grafico_1': coleta_interesse_grafico_1,\n",
        "\n",
        "    'soma_minuts': soma_minutos,\n",
        "    'media_min': '{0:.2f}'.format(media_minutos),\n",
        "    'mediana_min': int(mediana_minutos),\n",
        "    'moda_min': int(moda_minutos),\n",
        "\n",
        "    'soma_minutos_1': soma_minutos_1,\n",
        "    'media_min_1': '{0:.2f}'.format(media_minutos_1),\n",
        "    'mediana_min_1': int(mediana_minutos_1),\n",
        "    'moda_min_1': int(moda_minutos_1),\n",
        "\n",
        "    'coleta_geral_minutos_grafico': coleta_geral_grafico_2,\n",
        "    'coleta_filtrada_minutos_grafico': coleta_interesse_grafico_2\n",
        "}"
      ],
      "metadata": {
        "id": "ArbisRaJ5VkA"
      },
      "execution_count": null,
      "outputs": []
    },
    {
      "cell_type": "code",
      "execution_count": null,
      "metadata": {
        "id": "DGDiaxZq4G-h"
      },
      "outputs": [],
      "source": [
        "# Geramos o documento, substituindo as variaveis do template pelos valores do contexto\n",
        "documento.render(contexto)\n",
        "\n",
        "# Salvamos o documento que era o template com os gráficos inseridos\n",
        "documento.save(\"/content/drive/My Drive/codigos_colab/dados_parte_1-final.docx\")"
      ]
    }
  ]
}